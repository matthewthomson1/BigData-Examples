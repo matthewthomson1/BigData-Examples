{
 "cells": [
  {
   "cell_type": "code",
   "execution_count": 1,
   "id": "57b64467-a8ac-46dd-b015-1182c5022b37",
   "metadata": {},
   "outputs": [],
   "source": [
    "# Gradient Descent"
   ]
  },
  {
   "cell_type": "code",
   "execution_count": 2,
   "id": "87d36801-9cef-4387-b04e-89e22d2a72c1",
   "metadata": {},
   "outputs": [],
   "source": [
    "import numpy as np\n",
    "import matplotlib.pyplot as plt\n",
    "import sympy as sp"
   ]
  },
  {
   "cell_type": "code",
   "execution_count": 3,
   "id": "37551d84-33bf-4aea-8170-5ee741a6363f",
   "metadata": {},
   "outputs": [],
   "source": [
    "x,y,z = sp.symbols(\"x y z\")\n",
    "formula = x**5 - 4*x**4 - 10*x**3 + 40*x**2 + 9*x - 11\n",
    "formula\n",
    "f = sp.lambdify(x, formula)"
   ]
  },
  {
   "cell_type": "code",
   "execution_count": 4,
   "id": "0bddfa10-27eb-443d-b69c-89feab41559f",
   "metadata": {},
   "outputs": [],
   "source": [
    "fprime = sp.diff(formula)\n",
    "f_dx = sp.lambdify(x, fprime)"
   ]
  },
  {
   "cell_type": "code",
   "execution_count": 5,
   "id": "bba7a3ec-8950-4f0a-b18c-9f9221c0568a",
   "metadata": {},
   "outputs": [],
   "source": [
    "x_vals = np.arange(-3.25,4.25,.01)\n",
    "learning_rate = .001\n",
    "x_pos = -1.5\n",
    "current_pos = (x_pos,f(x_pos))"
   ]
  },
  {
   "cell_type": "code",
   "execution_count": 15,
   "id": "740bd5a2-182e-4664-945c-3f72d0808ddc",
   "metadata": {},
   "outputs": [
    {
     "name": "stdout",
     "output_type": "stream",
     "text": [
      "rm: cannot remove 'img': Is a directory\n",
      "rm: cannot remove '/*.png': No such file or directory\n",
      "rm: cannot remove 'gradient_descent.gif': No such file or directory\n"
     ]
    }
   ],
   "source": [
    "# Remove old files\n",
    "!rm img /*.png\n",
    "!rm gradient_descent.gif"
   ]
  },
  {
   "cell_type": "code",
   "execution_count": 9,
   "id": "7a6901df-f913-4c4c-b3d5-911d142cabf7",
   "metadata": {},
   "outputs": [],
   "source": [
    "i=0\n",
    "\n",
    "while(np.abs(f_dx(current_pos[0])) > .01):\n",
    "    # gradient descent\n",
    "    new_x = current_pos[0] - learning_rate * f_dx(current_pos[0])\n",
    "    new_y = f(new_x)\n",
    "    current_pos = (new_x,new_y)\n",
    "    #create frame\n",
    "    fig, ax = plt.subplots(1,1,figsize=(6,4),)\n",
    "    ax.plot(x_vals,f(x_vals))\n",
    "    ax.scatter(current_pos[0],current_pos[1],color=\"r\",s=25)\n",
    "    ax.axline((current_pos),slope=f_dx(current_pos[0]),color=\"red\",linestyle=\"dashed\",alpha=1)\n",
    "    plt.savefig(f\"img/{i:004}\",dpi=100,facecolor=\"white\")\n",
    "    i+=1\n",
    "    plt.close()"
   ]
  },
  {
   "cell_type": "code",
   "execution_count": 8,
   "id": "50f97822-fb73-4509-a9b0-ed841755a4cf",
   "metadata": {},
   "outputs": [],
   "source": [
    "!convert -delay 5 img/*.png gradient_descent.gif"
   ]
  }
 ],
 "metadata": {
  "kernelspec": {
   "display_name": "Python 3 (ipykernel)",
   "language": "python",
   "name": "python3"
  },
  "language_info": {
   "codemirror_mode": {
    "name": "ipython",
    "version": 3
   },
   "file_extension": ".py",
   "mimetype": "text/x-python",
   "name": "python",
   "nbconvert_exporter": "python",
   "pygments_lexer": "ipython3",
   "version": "3.10.12"
  }
 },
 "nbformat": 4,
 "nbformat_minor": 5
}
