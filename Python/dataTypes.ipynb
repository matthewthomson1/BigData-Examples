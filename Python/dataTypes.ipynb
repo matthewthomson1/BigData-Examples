{
 "cells": [
  {
   "cell_type": "markdown",
   "id": "368bd2b0-8439-4bb5-8033-837f2b3c5f19",
   "metadata": {},
   "source": [
    "# Getting Started With Python\n",
    "# https://www.tutorialspoint.com/python/index.htm"
   ]
  },
  {
   "cell_type": "markdown",
   "id": "962a9dd4-0c71-498a-a952-da2f786303e3",
   "metadata": {},
   "source": [
    "# Strings"
   ]
  },
  {
   "cell_type": "code",
   "execution_count": 1,
   "id": "e5c913a7-18b0-4c48-ab8c-7fa57f0580c2",
   "metadata": {
    "scrolled": true
   },
   "outputs": [
    {
     "name": "stdout",
     "output_type": "stream",
     "text": [
      "this is a string\n"
     ]
    }
   ],
   "source": [
    "myStr = \"this is a string\"\n",
    "print(myStr)"
   ]
  },
  {
   "cell_type": "markdown",
   "id": "a0fb9446-1d14-4729-845b-d8a2bcfab406",
   "metadata": {},
   "source": [
    "# Escape Sequences"
   ]
  },
  {
   "cell_type": "code",
   "execution_count": 2,
   "id": "c6554283-338d-45d2-ac00-9a4b50717b96",
   "metadata": {},
   "outputs": [
    {
     "name": "stdout",
     "output_type": "stream",
     "text": [
      "this is\n",
      "a string\n"
     ]
    }
   ],
   "source": [
    "myStr = \"this is\\na string\"\n",
    "print(myStr)"
   ]
  },
  {
   "cell_type": "markdown",
   "id": "d03ab5f8-4fe9-4999-8212-0769e7c8ef7c",
   "metadata": {},
   "source": [
    "# Multi-Line String"
   ]
  },
  {
   "cell_type": "code",
   "execution_count": 3,
   "id": "034cad13-bfcf-480d-9a50-b1e7eb95931d",
   "metadata": {},
   "outputs": [
    {
     "name": "stdout",
     "output_type": "stream",
     "text": [
      "this is line one\n",
      "this is line two\n",
      "this is the last line\n",
      "\n"
     ]
    }
   ],
   "source": [
    "multstr = \"\"\"this is line one\n",
    "this is line two\n",
    "this is the last line\n",
    "\"\"\"\n",
    "print(multstr)"
   ]
  },
  {
   "cell_type": "markdown",
   "id": "a1d22127-df3f-4e0b-a76f-2e911dc733ac",
   "metadata": {},
   "source": [
    "# Multi-line Strings as comments"
   ]
  },
  {
   "cell_type": "code",
   "execution_count": null,
   "id": "69574194-b349-482e-aaba-df774fda9dd8",
   "metadata": {},
   "outputs": [],
   "source": []
  },
  {
   "cell_type": "markdown",
   "id": "b9d7f3f5-1c82-4a6e-9be1-243762df4ded",
   "metadata": {},
   "source": [
    "# Variables"
   ]
  },
  {
   "cell_type": "code",
   "execution_count": 4,
   "id": "b13567c9-e230-474e-8bf2-0f5edad08323",
   "metadata": {},
   "outputs": [
    {
     "data": {
      "text/plain": [
       "139687677153264"
      ]
     },
     "execution_count": 4,
     "metadata": {},
     "output_type": "execute_result"
    }
   ],
   "source": [
    "id(\"May\")\n"
   ]
  },
  {
   "cell_type": "code",
   "execution_count": 5,
   "id": "47f440b2-ba4f-4669-b81b-ed384c32db3f",
   "metadata": {},
   "outputs": [
    {
     "name": "stdout",
     "output_type": "stream",
     "text": [
      "May\n"
     ]
    },
    {
     "data": {
      "text/plain": [
       "139687677153264"
      ]
     },
     "execution_count": 5,
     "metadata": {},
     "output_type": "execute_result"
    }
   ],
   "source": [
    "may = \"May\"\n",
    "print(may)\n",
    "id(may)"
   ]
  },
  {
   "cell_type": "code",
   "execution_count": 6,
   "id": "6ed53e39-61c0-47e4-b7c1-6e31cc90f0d4",
   "metadata": {},
   "outputs": [],
   "source": [
    "counter = 10\n",
    "miles = 10000.1\n",
    "name = \"william\""
   ]
  },
  {
   "cell_type": "code",
   "execution_count": 7,
   "id": "daf1a9e3-a5c2-49a5-af7d-64f2ab7206e1",
   "metadata": {},
   "outputs": [
    {
     "name": "stdout",
     "output_type": "stream",
     "text": [
      "10  -  10000.1  -  william\n"
     ]
    }
   ],
   "source": [
    "print(counter, \" - \", miles, \" - \", name)"
   ]
  },
  {
   "cell_type": "code",
   "execution_count": 8,
   "id": "4be12e13-6775-482b-ab84-83808d7b670a",
   "metadata": {},
   "outputs": [],
   "source": [
    "counter, miles, name = 12, 1.3, \"bill\""
   ]
  },
  {
   "cell_type": "code",
   "execution_count": 9,
   "id": "9a934d1e-c6a4-49a6-8123-ad81766d05b4",
   "metadata": {},
   "outputs": [
    {
     "name": "stdout",
     "output_type": "stream",
     "text": [
      "12  -  1.3  -  bill\n"
     ]
    }
   ],
   "source": [
    "print(counter, \" - \", miles, \" - \", name)"
   ]
  },
  {
   "cell_type": "markdown",
   "id": "38c3971e-3e7a-46c4-bf29-6d4fa31456f4",
   "metadata": {},
   "source": [
    "# Remove a variable"
   ]
  },
  {
   "cell_type": "code",
   "execution_count": 10,
   "id": "dc6581b4-6c91-4643-be1c-01919fa3203d",
   "metadata": {},
   "outputs": [],
   "source": [
    "del counter"
   ]
  },
  {
   "cell_type": "code",
   "execution_count": 11,
   "id": "1ba59845-ef35-438a-a993-9cc04a27cdfc",
   "metadata": {},
   "outputs": [],
   "source": [
    "# print(counter, \" - \", miles, \" - \", name)"
   ]
  },
  {
   "cell_type": "markdown",
   "id": "5bb6d8a2-3da9-4e84-ad43-b28782951b28",
   "metadata": {},
   "source": [
    "# Same pointers / id"
   ]
  },
  {
   "cell_type": "code",
   "execution_count": 12,
   "id": "d76f58d7-10ee-4d13-af37-e80d2d368e3f",
   "metadata": {},
   "outputs": [],
   "source": [
    "a=b=10"
   ]
  },
  {
   "cell_type": "code",
   "execution_count": 13,
   "id": "8f8d4ea0-459b-482d-a36f-2f355062ae9d",
   "metadata": {},
   "outputs": [
    {
     "data": {
      "text/plain": [
       "True"
      ]
     },
     "execution_count": 13,
     "metadata": {},
     "output_type": "execute_result"
    }
   ],
   "source": [
    "a is b"
   ]
  },
  {
   "cell_type": "code",
   "execution_count": 14,
   "id": "775b020b-eb50-42ce-8c82-e4d2a1034b68",
   "metadata": {},
   "outputs": [
    {
     "data": {
      "text/plain": [
       "(139687687160336, 139687687160336)"
      ]
     },
     "execution_count": 14,
     "metadata": {},
     "output_type": "execute_result"
    }
   ],
   "source": [
    "id(a), id(b)"
   ]
  },
  {
   "cell_type": "markdown",
   "id": "aa483f28-e1b3-4978-9a01-570faf83fbe4",
   "metadata": {},
   "source": [
    "# Data Types"
   ]
  },
  {
   "cell_type": "code",
   "execution_count": 15,
   "id": "0ba78d51-b29a-4904-9688-bac958821049",
   "metadata": {},
   "outputs": [],
   "source": [
    "complex_num = 10+3j"
   ]
  },
  {
   "cell_type": "code",
   "execution_count": 16,
   "id": "2e823f3b-8b1a-4c5b-9805-29fa9319017b",
   "metadata": {},
   "outputs": [
    {
     "name": "stdout",
     "output_type": "stream",
     "text": [
      "<class 'complex'> (10+3j)\n"
     ]
    }
   ],
   "source": [
    "print(type(complex_num), complex_num)"
   ]
  },
  {
   "cell_type": "code",
   "execution_count": 17,
   "id": "aa9c73a9-b25f-448c-8050-94bbdfcf8636",
   "metadata": {},
   "outputs": [
    {
     "name": "stdout",
     "output_type": "stream",
     "text": [
      "(6.123233995736766e-17+1j)\n"
     ]
    }
   ],
   "source": [
    "print((-1)**(1/2))"
   ]
  },
  {
   "cell_type": "markdown",
   "id": "6f9986cb-6441-4ce1-bd48-5af91c2b8f9e",
   "metadata": {},
   "source": [
    "Strings (Again)"
   ]
  },
  {
   "cell_type": "code",
   "execution_count": 18,
   "id": "bc1d59de-94a0-4445-90d5-39eacac6e5d0",
   "metadata": {},
   "outputs": [],
   "source": [
    "long_str = \"The quick brown fox jumps over the lazy dog.\""
   ]
  },
  {
   "cell_type": "code",
   "execution_count": 19,
   "id": "fd53d79c-7842-4b53-afbb-340f7eb476dd",
   "metadata": {},
   "outputs": [
    {
     "name": "stdout",
     "output_type": "stream",
     "text": [
      "<class 'str'> The quick brown fox jumps over the lazy dog.\n"
     ]
    }
   ],
   "source": [
    "print(type(long_str), long_str)"
   ]
  },
  {
   "cell_type": "markdown",
   "id": "9bc34472-bf87-477e-bf30-502537d65398",
   "metadata": {},
   "source": [
    "## Slicing Strings"
   ]
  },
  {
   "cell_type": "code",
   "execution_count": 20,
   "id": "7f7ece0c-7328-4a8b-a479-af8667912dcb",
   "metadata": {},
   "outputs": [
    {
     "data": {
      "text/plain": [
       "'T'"
      ]
     },
     "execution_count": 20,
     "metadata": {},
     "output_type": "execute_result"
    }
   ],
   "source": [
    "long_str[0]"
   ]
  },
  {
   "cell_type": "code",
   "execution_count": 21,
   "id": "16edd1af-789f-405e-8a9b-311fb46b8a75",
   "metadata": {},
   "outputs": [
    {
     "data": {
      "text/plain": [
       "str"
      ]
     },
     "execution_count": 21,
     "metadata": {},
     "output_type": "execute_result"
    }
   ],
   "source": [
    "type(long_str[0])"
   ]
  },
  {
   "cell_type": "code",
   "execution_count": 22,
   "id": "3b883f84-7859-4b66-94a7-d3e24fe0bdee",
   "metadata": {},
   "outputs": [
    {
     "data": {
      "text/plain": [
       "'brown fox'"
      ]
     },
     "execution_count": 22,
     "metadata": {},
     "output_type": "execute_result"
    }
   ],
   "source": [
    "long_str[10:19]"
   ]
  },
  {
   "cell_type": "code",
   "execution_count": 23,
   "id": "ff109bc3-a934-43c9-b595-df5ec1a04ab0",
   "metadata": {},
   "outputs": [
    {
     "data": {
      "text/plain": [
       "'the lazy dog.'"
      ]
     },
     "execution_count": 23,
     "metadata": {},
     "output_type": "execute_result"
    }
   ],
   "source": [
    "long_str[31:]"
   ]
  },
  {
   "cell_type": "code",
   "execution_count": 24,
   "id": "16f87b13-b8ba-475b-9ef0-d5fe387f6387",
   "metadata": {},
   "outputs": [
    {
     "data": {
      "text/plain": [
       "'the lazy dog.'"
      ]
     },
     "execution_count": 24,
     "metadata": {},
     "output_type": "execute_result"
    }
   ],
   "source": [
    "long_str[-13:]"
   ]
  },
  {
   "cell_type": "code",
   "execution_count": 25,
   "id": "c931f652-d471-4d4c-a595-bbd32cfcb275",
   "metadata": {},
   "outputs": [
    {
     "data": {
      "text/plain": [
       "'The quick brown fox jumps over the lazy dog.The quick brown fox jumps over the lazy dog.The quick brown fox jumps over the lazy dog.'"
      ]
     },
     "execution_count": 25,
     "metadata": {},
     "output_type": "execute_result"
    }
   ],
   "source": [
    "long_str*3"
   ]
  },
  {
   "cell_type": "code",
   "execution_count": 26,
   "id": "31d378a5-b557-4a0d-8835-6b50523abbb0",
   "metadata": {},
   "outputs": [
    {
     "data": {
      "text/plain": [
       "'...........................................................................'"
      ]
     },
     "execution_count": 26,
     "metadata": {},
     "output_type": "execute_result"
    }
   ],
   "source": [
    "\".\"*75"
   ]
  },
  {
   "cell_type": "code",
   "execution_count": 27,
   "id": "3f99917f-d50c-4572-ad50-ab194a9f33dd",
   "metadata": {},
   "outputs": [
    {
     "data": {
      "text/plain": [
       "'T i o xusv ea g'"
      ]
     },
     "execution_count": 27,
     "metadata": {},
     "output_type": "execute_result"
    }
   ],
   "source": [
    "long_str[::3]"
   ]
  },
  {
   "cell_type": "markdown",
   "id": "5c1367e5-ae73-4c57-ba0e-bf4eb8ecc070",
   "metadata": {},
   "source": [
    "### List(s)"
   ]
  },
  {
   "cell_type": "code",
   "execution_count": 28,
   "id": "90dcc099-670d-48fb-97cf-b1a62bba1298",
   "metadata": {},
   "outputs": [],
   "source": [
    "cool_lst = [True, 1234, 123.456, \"element\", complex_num, 1.4E-3, [1,2,3]]"
   ]
  },
  {
   "cell_type": "code",
   "execution_count": 29,
   "id": "51adcd00-077e-4043-9610-d9ed9e0e376c",
   "metadata": {},
   "outputs": [
    {
     "data": {
      "text/plain": [
       "list"
      ]
     },
     "execution_count": 29,
     "metadata": {},
     "output_type": "execute_result"
    }
   ],
   "source": [
    "type(cool_lst)"
   ]
  },
  {
   "cell_type": "code",
   "execution_count": 30,
   "id": "f2ed69f4-47d1-4e3a-9732-4ffc082fc96f",
   "metadata": {},
   "outputs": [
    {
     "data": {
      "text/plain": [
       "[True, 1234, 123.456, 'element', (10+3j), 0.0014, [1, 2, 3]]"
      ]
     },
     "execution_count": 30,
     "metadata": {},
     "output_type": "execute_result"
    }
   ],
   "source": [
    "cool_lst"
   ]
  },
  {
   "cell_type": "code",
   "execution_count": 31,
   "id": "46f4bf38-3e0b-4c0d-98ce-63079d115e26",
   "metadata": {},
   "outputs": [
    {
     "data": {
      "text/plain": [
       "[1234, 123.456]"
      ]
     },
     "execution_count": 31,
     "metadata": {},
     "output_type": "execute_result"
    }
   ],
   "source": [
    "cool_lst[1:3]"
   ]
  },
  {
   "cell_type": "code",
   "execution_count": 32,
   "id": "15452e20-0314-4522-9527-ee58327fcc23",
   "metadata": {},
   "outputs": [
    {
     "data": {
      "text/plain": [
       "[2, 3]"
      ]
     },
     "execution_count": 32,
     "metadata": {},
     "output_type": "execute_result"
    }
   ],
   "source": [
    "cool_lst[-1][1:]"
   ]
  },
  {
   "cell_type": "code",
   "execution_count": 33,
   "id": "15d46c99-298d-45c7-9b9a-2b6bc0cc15c5",
   "metadata": {},
   "outputs": [
    {
     "name": "stdout",
     "output_type": "stream",
     "text": [
      "True\n",
      "1234\n",
      "123.456\n",
      "element\n",
      "(10+3j)\n",
      "0.0014\n",
      "[1, 2, 3]\n"
     ]
    }
   ],
   "source": [
    "for i in cool_lst:\n",
    "    print(i)"
   ]
  },
  {
   "cell_type": "code",
   "execution_count": 34,
   "id": "38d4869d-c067-44e5-82ca-c5ba6c36b2c8",
   "metadata": {},
   "outputs": [
    {
     "name": "stdout",
     "output_type": "stream",
     "text": [
      "[True, 1234, 123.456, 'element', (10+3j), 0.0014, [1, 2, 3]]\n"
     ]
    }
   ],
   "source": [
    "print([i for i in cool_lst])"
   ]
  },
  {
   "cell_type": "code",
   "execution_count": 35,
   "id": "9869f85f-0f15-4cd8-bff7-da50e00c5c5a",
   "metadata": {},
   "outputs": [
    {
     "name": "stdout",
     "output_type": "stream",
     "text": [
      "[2, 2468, 246.912, 'elementelement', (20+6j), 0.0028, [1, 2, 3, 1, 2, 3]]\n"
     ]
    }
   ],
   "source": [
    "print([i*2 for i in cool_lst])"
   ]
  },
  {
   "cell_type": "code",
   "execution_count": 36,
   "id": "16b4d49a-b1d3-4d74-91a6-0c1c7346a0dd",
   "metadata": {
    "scrolled": true
   },
   "outputs": [
    {
     "name": "stdout",
     "output_type": "stream",
     "text": [
      "True\n",
      "1234\n",
      "123.456\n",
      "element\n",
      "(10+3j)\n",
      "0.0014\n",
      "[1, 2, 3]\n"
     ]
    }
   ],
   "source": [
    "for i in range(len(cool_lst)):\n",
    "    print(cool_lst[i])"
   ]
  },
  {
   "cell_type": "code",
   "execution_count": 37,
   "id": "04b85280-d4ed-47b7-a476-7420e0111e57",
   "metadata": {},
   "outputs": [
    {
     "name": "stdout",
     "output_type": "stream",
     "text": [
      "[True, 1234, 123.456, 'element', (10+3j), 0.0014, [1, 2, 3], 3]\n"
     ]
    }
   ],
   "source": [
    "cool_lst.append(3)\n",
    "print(cool_lst)"
   ]
  },
  {
   "cell_type": "code",
   "execution_count": 38,
   "id": "a5ebff03-f1af-4669-808b-baff37be7730",
   "metadata": {},
   "outputs": [],
   "source": [
    "cool_lst.remove('element')"
   ]
  },
  {
   "cell_type": "code",
   "execution_count": 39,
   "id": "bdee4582-e6fc-4612-8380-20d08a896791",
   "metadata": {},
   "outputs": [
    {
     "data": {
      "text/plain": [
       "[True, 1234, 123.456, (10+3j), 0.0014, [1, 2, 3], 3]"
      ]
     },
     "execution_count": 39,
     "metadata": {},
     "output_type": "execute_result"
    }
   ],
   "source": [
    "cool_lst"
   ]
  },
  {
   "cell_type": "markdown",
   "id": "1dd87c8d-95ee-40fd-81a4-d4af21244fe0",
   "metadata": {},
   "source": [
    "### Tuples"
   ]
  },
  {
   "cell_type": "code",
   "execution_count": 40,
   "id": "30a68a8e-4cc1-430c-889e-4b25af1c4025",
   "metadata": {},
   "outputs": [
    {
     "data": {
      "text/plain": [
       "(1, 2, 5)"
      ]
     },
     "execution_count": 40,
     "metadata": {},
     "output_type": "execute_result"
    }
   ],
   "source": [
    "tup = (1,2,5)\n",
    "tup"
   ]
  },
  {
   "cell_type": "code",
   "execution_count": 41,
   "id": "c17dfbbf-db1d-46f7-a569-5bf8163b2072",
   "metadata": {},
   "outputs": [],
   "source": [
    "left, mid, right = tup"
   ]
  },
  {
   "cell_type": "code",
   "execution_count": 42,
   "id": "a0b104e1-aca2-4650-9ca6-0bd194cb7985",
   "metadata": {},
   "outputs": [
    {
     "name": "stdout",
     "output_type": "stream",
     "text": [
      "1 2 5\n"
     ]
    }
   ],
   "source": [
    "print(left, mid, right)"
   ]
  },
  {
   "cell_type": "markdown",
   "id": "19a56dc2-34bb-4117-9013-083aabc391ab",
   "metadata": {},
   "source": [
    "### Range"
   ]
  },
  {
   "cell_type": "code",
   "execution_count": 43,
   "id": "10c84c1d-f813-4fdc-84a0-08b5a7242652",
   "metadata": {},
   "outputs": [
    {
     "data": {
      "text/plain": [
       "range(0, 10)"
      ]
     },
     "execution_count": 43,
     "metadata": {},
     "output_type": "execute_result"
    }
   ],
   "source": [
    "range(0,10)"
   ]
  },
  {
   "cell_type": "code",
   "execution_count": 44,
   "id": "a4a78ce2-6155-42b0-9455-27568e6e045e",
   "metadata": {},
   "outputs": [
    {
     "name": "stdout",
     "output_type": "stream",
     "text": [
      "5 10 15 20 25 30 35 40 45 50 55 60 65 70 75 80 85 90 95 100 "
     ]
    }
   ],
   "source": [
    "for i in range(5,101,5):\n",
    "    print(i, end=\" \")"
   ]
  },
  {
   "cell_type": "markdown",
   "id": "b0aa87d0-adc9-44b7-8f61-0f7f18ea2c16",
   "metadata": {},
   "source": [
    "### Dictionary"
   ]
  },
  {
   "cell_type": "code",
   "execution_count": 45,
   "id": "dd730f5e-fbea-4173-adf3-7f93a7d98b9e",
   "metadata": {},
   "outputs": [],
   "source": [
    "myDict = {\"name\" : \"matthew\", \"age\" : 17, \"shoe size\": 10}\n",
    "          "
   ]
  },
  {
   "cell_type": "code",
   "execution_count": 46,
   "id": "0f669ad0-e69b-41b9-b584-1298461e3e6d",
   "metadata": {},
   "outputs": [
    {
     "data": {
      "text/plain": [
       "dict"
      ]
     },
     "execution_count": 46,
     "metadata": {},
     "output_type": "execute_result"
    }
   ],
   "source": [
    "type(myDict)"
   ]
  },
  {
   "cell_type": "code",
   "execution_count": 47,
   "id": "39c245af-eac5-46dc-ad28-906f08096abe",
   "metadata": {},
   "outputs": [],
   "source": [
    "newDict = {}"
   ]
  },
  {
   "cell_type": "code",
   "execution_count": 48,
   "id": "7f1d9fe8-0555-4f12-ada9-e9b6a78d8732",
   "metadata": {},
   "outputs": [],
   "source": [
    "newDict['name'] = \"fred\"\n",
    "newDict[123.5] = \"some goofy index\""
   ]
  },
  {
   "cell_type": "code",
   "execution_count": 49,
   "id": "6ee52499-e74d-4b20-950a-730c2c6687fa",
   "metadata": {},
   "outputs": [
    {
     "data": {
      "text/plain": [
       "{'name': 'fred', 123.5: 'some goofy index'}"
      ]
     },
     "execution_count": 49,
     "metadata": {},
     "output_type": "execute_result"
    }
   ],
   "source": [
    "newDict"
   ]
  },
  {
   "cell_type": "code",
   "execution_count": 50,
   "id": "a9c6ff45-cf94-47d3-a2cd-8270c32eb6e5",
   "metadata": {},
   "outputs": [],
   "source": [
    "largedata = {\"one\":myDict, \"two\": newDict}"
   ]
  },
  {
   "cell_type": "code",
   "execution_count": 51,
   "id": "ca042d40-ba9b-4ef1-9077-0ba484d09f7c",
   "metadata": {},
   "outputs": [
    {
     "data": {
      "text/plain": [
       "{'one': {'name': 'matthew', 'age': 17, 'shoe size': 10},\n",
       " 'two': {'name': 'fred', 123.5: 'some goofy index'}}"
      ]
     },
     "execution_count": 51,
     "metadata": {},
     "output_type": "execute_result"
    }
   ],
   "source": [
    "largedata"
   ]
  },
  {
   "cell_type": "code",
   "execution_count": 52,
   "id": "fb7f274b-1098-4de6-86c2-f307f22ade18",
   "metadata": {},
   "outputs": [
    {
     "name": "stdout",
     "output_type": "stream",
     "text": [
      "one :\n",
      "['name : matthew', 'age : 17', 'shoe size : 10']\n",
      "two :\n",
      "['name : fred', '123.5 : some goofy index']\n"
     ]
    }
   ],
   "source": [
    "for k in largedata.keys():\n",
    "    print(str(k) + \" :\\n\" + str([(str(kk) + \" : \" + str(v)) for kk, v in largedata[k].items()]))"
   ]
  },
  {
   "cell_type": "markdown",
   "id": "7a74bf72-0e51-4258-ac97-3fcb7819dc6c",
   "metadata": {},
   "source": [
    "### Sets"
   ]
  },
  {
   "cell_type": "code",
   "execution_count": 53,
   "id": "f1b44f62-2234-45de-8187-34e2295fea51",
   "metadata": {},
   "outputs": [],
   "source": [
    "sStuff = {\"A\", \"B\", \"Z\"}"
   ]
  },
  {
   "cell_type": "code",
   "execution_count": 54,
   "id": "c8247718-71f2-43ab-88c7-2f6d3baca2bb",
   "metadata": {},
   "outputs": [
    {
     "data": {
      "text/plain": [
       "set"
      ]
     },
     "execution_count": 54,
     "metadata": {},
     "output_type": "execute_result"
    }
   ],
   "source": [
    "type(sStuff)"
   ]
  },
  {
   "cell_type": "code",
   "execution_count": 55,
   "id": "0a27ef61-d935-4a82-87bb-212714ebfe05",
   "metadata": {},
   "outputs": [
    {
     "name": "stdout",
     "output_type": "stream",
     "text": [
      "{'A', 'B', 'Z'}\n"
     ]
    }
   ],
   "source": [
    "print(sStuff)"
   ]
  },
  {
   "cell_type": "code",
   "execution_count": 56,
   "id": "15e36f74-67d5-4a3a-9df5-2f74c8c9aa15",
   "metadata": {},
   "outputs": [],
   "source": [
    "sNums1 = {1,2,4,5,6,8}"
   ]
  },
  {
   "cell_type": "code",
   "execution_count": 57,
   "id": "cb9baa3e-4c13-46de-bb1a-1a8cea4b5c25",
   "metadata": {},
   "outputs": [
    {
     "name": "stdout",
     "output_type": "stream",
     "text": [
      "{1, 2, 4, 5, 6, 8}\n"
     ]
    }
   ],
   "source": [
    "print(sNums1)"
   ]
  },
  {
   "cell_type": "code",
   "execution_count": 58,
   "id": "758a0fe6-b2f7-4df6-9ccd-d45128ea85f9",
   "metadata": {},
   "outputs": [],
   "source": [
    "sOfISS = set(str.upper(\"Indian Springs School\"))"
   ]
  },
  {
   "cell_type": "code",
   "execution_count": 59,
   "id": "1c05c4d8-a1ba-4c85-b82e-033c61e82968",
   "metadata": {},
   "outputs": [
    {
     "data": {
      "text/plain": [
       "{' ', 'A', 'C', 'D', 'G', 'H', 'I', 'L', 'N', 'O', 'P', 'R', 'S'}"
      ]
     },
     "execution_count": 59,
     "metadata": {},
     "output_type": "execute_result"
    }
   ],
   "source": [
    "sOfISS"
   ]
  },
  {
   "cell_type": "code",
   "execution_count": 60,
   "id": "434408e5-9bb8-4fa6-9438-72319fcd913a",
   "metadata": {},
   "outputs": [
    {
     "data": {
      "text/plain": [
       "13"
      ]
     },
     "execution_count": 60,
     "metadata": {},
     "output_type": "execute_result"
    }
   ],
   "source": [
    "len(sOfISS)"
   ]
  },
  {
   "cell_type": "code",
   "execution_count": 61,
   "id": "a5ae5546-bd59-4ed5-835c-0efeb3a8f5e8",
   "metadata": {},
   "outputs": [],
   "source": [
    "sOfISS.remove(\" \")"
   ]
  },
  {
   "cell_type": "code",
   "execution_count": 88,
   "id": "c15c9e46-ab21-41a1-a5a9-b47222799fa2",
   "metadata": {},
   "outputs": [
    {
     "data": {
      "text/plain": [
       "{'A', 'C', 'D', 'G', 'H', 'I', 'L', 'N', 'O', 'P', 'R', 'S'}"
      ]
     },
     "execution_count": 88,
     "metadata": {},
     "output_type": "execute_result"
    }
   ],
   "source": [
    "sOfISS"
   ]
  },
  {
   "cell_type": "code",
   "execution_count": 63,
   "id": "08f9361e-ccb3-4d56-a424-0314f82a20ad",
   "metadata": {},
   "outputs": [],
   "source": [
    "sOfQBF = set(\"The quick brown fox jumps over the lazy dog\")"
   ]
  },
  {
   "cell_type": "code",
   "execution_count": 64,
   "id": "dfb7f939-8f1d-491d-9570-71be276aee99",
   "metadata": {},
   "outputs": [],
   "source": [
    "sOfQBF.remove(\" \")"
   ]
  },
  {
   "cell_type": "code",
   "execution_count": 65,
   "id": "7179b477-8acf-4cca-9674-243ccd493b2e",
   "metadata": {},
   "outputs": [
    {
     "name": "stdout",
     "output_type": "stream",
     "text": [
      "{'p', 'c', 'v', 'x', 'k', 'z', 'e', 'i', 'l', 'b', 'w', 'q', 'y', 'a', 'u', 'h', 'T', 'o', 'd', 'g', 'm', 't', 's', 'r', 'n', 'f', 'j'}\n"
     ]
    }
   ],
   "source": [
    "print(sOfQBF)"
   ]
  },
  {
   "cell_type": "code",
   "execution_count": 86,
   "id": "c00b2dd4-f0d0-48bd-847f-3891c28b4868",
   "metadata": {},
   "outputs": [],
   "source": [
    "sOfHS = set(\"highschool\")"
   ]
  },
  {
   "cell_type": "code",
   "execution_count": 85,
   "id": "64efa587-ec90-4918-b4d2-6e72c0cdfcfc",
   "metadata": {},
   "outputs": [
    {
     "data": {
      "text/plain": [
       "{'c', 'g', 'h', 'i', 'l', 'o', 's'}"
      ]
     },
     "execution_count": 85,
     "metadata": {},
     "output_type": "execute_result"
    }
   ],
   "source": [
    "sOfHS"
   ]
  },
  {
   "cell_type": "code",
   "execution_count": 68,
   "id": "9e7317c2-e3c5-423c-90f2-d22768d8fb39",
   "metadata": {},
   "outputs": [
    {
     "data": {
      "text/plain": [
       "True"
      ]
     },
     "execution_count": 68,
     "metadata": {},
     "output_type": "execute_result"
    }
   ],
   "source": [
    "\"g\" in sOfHS"
   ]
  },
  {
   "cell_type": "code",
   "execution_count": 69,
   "id": "ee0a07c5-c0b1-49d3-8b05-8c5fcd171d30",
   "metadata": {},
   "outputs": [
    {
     "data": {
      "text/plain": [
       "False"
      ]
     },
     "execution_count": 69,
     "metadata": {},
     "output_type": "execute_result"
    }
   ],
   "source": [
    "\"z\" in sOfHS"
   ]
  },
  {
   "cell_type": "code",
   "execution_count": 70,
   "id": "82fb553b-bd5c-4a1d-a344-d3e8b2453708",
   "metadata": {},
   "outputs": [],
   "source": [
    "newSet = sOfHS.union(sOfISS)"
   ]
  },
  {
   "cell_type": "code",
   "execution_count": 71,
   "id": "e09f877e-2398-4e3d-9bab-e592accc3739",
   "metadata": {},
   "outputs": [
    {
     "name": "stdout",
     "output_type": "stream",
     "text": [
      "{'P', 'C', 'O', 'h', 'c', 'o', 'G', 'L', 'R', 'i', 'g', 'N', 'l', 'S', 's', 'H', 'D', 'I', 'A'}\n"
     ]
    }
   ],
   "source": [
    "print(newSet)"
   ]
  },
  {
   "cell_type": "code",
   "execution_count": 72,
   "id": "5d84199c-5a24-44a8-9b94-ef150cb14a6b",
   "metadata": {},
   "outputs": [
    {
     "data": {
      "text/plain": [
       "set()"
      ]
     },
     "execution_count": 72,
     "metadata": {},
     "output_type": "execute_result"
    }
   ],
   "source": [
    "newSet = sOfHS.intersection(sOfISS)"
   ]
  },
  {
   "cell_type": "code",
   "execution_count": 95,
   "id": "67f69670-b011-4899-a18f-e2eee1fb4fde",
   "metadata": {},
   "outputs": [
    {
     "data": {
      "text/plain": [
       "set()"
      ]
     },
     "execution_count": 95,
     "metadata": {},
     "output_type": "execute_result"
    }
   ],
   "source": [
    "sOfHS & sOfISS"
   ]
  },
  {
   "cell_type": "code",
   "execution_count": 98,
   "id": "a0ccb341-f28b-499c-bc7f-ac134244bee8",
   "metadata": {},
   "outputs": [
    {
     "data": {
      "text/plain": [
       "{'A',\n",
       " 'C',\n",
       " 'D',\n",
       " 'G',\n",
       " 'H',\n",
       " 'I',\n",
       " 'L',\n",
       " 'N',\n",
       " 'O',\n",
       " 'P',\n",
       " 'R',\n",
       " 'S',\n",
       " 'c',\n",
       " 'g',\n",
       " 'h',\n",
       " 'i',\n",
       " 'l',\n",
       " 'o',\n",
       " 's'}"
      ]
     },
     "execution_count": 98,
     "metadata": {},
     "output_type": "execute_result"
    }
   ],
   "source": [
    "sOfHS | sOfISS"
   ]
  },
  {
   "cell_type": "markdown",
   "id": "4614f2d2-1021-4af4-89f3-8c2d4a420c6d",
   "metadata": {},
   "source": [
    "### Casting"
   ]
  },
  {
   "cell_type": "code",
   "execution_count": 109,
   "id": "cf53f540-beb1-4cd8-9bc3-f0298c2085e3",
   "metadata": {},
   "outputs": [
    {
     "data": {
      "text/plain": [
       "205"
      ]
     },
     "execution_count": 109,
     "metadata": {},
     "output_type": "execute_result"
    }
   ],
   "source": [
    "int(\"11001101\", 2)"
   ]
  },
  {
   "cell_type": "code",
   "execution_count": 103,
   "id": "e4acfd10-a1b8-483d-a5dc-240582d30bf2",
   "metadata": {},
   "outputs": [
    {
     "data": {
      "text/plain": [
       "16755285"
      ]
     },
     "execution_count": 103,
     "metadata": {},
     "output_type": "execute_result"
    }
   ],
   "source": [
    "int(\"FFAA55\", 16)"
   ]
  }
 ],
 "metadata": {
  "kernelspec": {
   "display_name": "Python 3 (ipykernel)",
   "language": "python",
   "name": "python3"
  },
  "language_info": {
   "codemirror_mode": {
    "name": "ipython",
    "version": 3
   },
   "file_extension": ".py",
   "mimetype": "text/x-python",
   "name": "python",
   "nbconvert_exporter": "python",
   "pygments_lexer": "ipython3",
   "version": "3.10.12"
  }
 },
 "nbformat": 4,
 "nbformat_minor": 5
}
