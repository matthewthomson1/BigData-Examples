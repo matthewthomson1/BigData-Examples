{
 "cells": [
  {
   "cell_type": "markdown",
   "id": "af9774c4-0449-44be-85c3-a4d0038e7a62",
   "metadata": {},
   "source": [
    "# Python Operators"
   ]
  },
  {
   "cell_type": "markdown",
   "id": "ab9e61fe-2808-40f7-9c77-4688c77d434f",
   "metadata": {},
   "source": [
    "### Combined Operators"
   ]
  },
  {
   "cell_type": "code",
   "execution_count": 12,
   "id": "d491f171-b05b-4f0c-b84e-13286bb23799",
   "metadata": {},
   "outputs": [],
   "source": [
    "a = 54"
   ]
  },
  {
   "cell_type": "code",
   "execution_count": 13,
   "id": "a74f034f-9ea0-4e6b-a7bb-5daea43eca03",
   "metadata": {},
   "outputs": [
    {
     "data": {
      "text/plain": [
       "int"
      ]
     },
     "execution_count": 13,
     "metadata": {},
     "output_type": "execute_result"
    }
   ],
   "source": [
    "type(a)"
   ]
  },
  {
   "cell_type": "code",
   "execution_count": 16,
   "id": "52b25826-02e4-492f-bde2-ed4f12f7d950",
   "metadata": {},
   "outputs": [
    {
     "data": {
      "text/plain": [
       "10.8"
      ]
     },
     "execution_count": 16,
     "metadata": {},
     "output_type": "execute_result"
    }
   ],
   "source": [
    "a/= 5\n",
    "a"
   ]
  },
  {
   "cell_type": "code",
   "execution_count": 17,
   "id": "4fc1e1cd-b186-404a-8c37-e120004a4700",
   "metadata": {},
   "outputs": [],
   "source": [
    "a = 54"
   ]
  },
  {
   "cell_type": "code",
   "execution_count": 19,
   "id": "b32b9574-c143-4154-8c49-8daca4763d67",
   "metadata": {},
   "outputs": [
    {
     "data": {
      "text/plain": [
       "int"
      ]
     },
     "execution_count": 19,
     "metadata": {},
     "output_type": "execute_result"
    }
   ],
   "source": [
    "type(a)"
   ]
  },
  {
   "cell_type": "code",
   "execution_count": 20,
   "id": "0c759dcc-418b-4e3d-87c6-7ad55603c85d",
   "metadata": {},
   "outputs": [],
   "source": [
    "a/= 5"
   ]
  },
  {
   "cell_type": "code",
   "execution_count": 21,
   "id": "3b51970b-00f5-4dec-81bf-c6b55a427d23",
   "metadata": {},
   "outputs": [
    {
     "data": {
      "text/plain": [
       "10.8"
      ]
     },
     "execution_count": 21,
     "metadata": {},
     "output_type": "execute_result"
    }
   ],
   "source": [
    "a"
   ]
  },
  {
   "cell_type": "markdown",
   "id": "41c7238c-7811-4112-b0b0-2e2a681b424e",
   "metadata": {},
   "source": [
    "### Logic Operators"
   ]
  },
  {
   "cell_type": "code",
   "execution_count": 25,
   "id": "cf148028-009f-48b2-89c6-5351b06e9a9a",
   "metadata": {},
   "outputs": [
    {
     "data": {
      "text/plain": [
       "True"
      ]
     },
     "execution_count": 25,
     "metadata": {},
     "output_type": "execute_result"
    }
   ],
   "source": [
    "True"
   ]
  },
  {
   "cell_type": "code",
   "execution_count": 26,
   "id": "6a5b69fb-0004-43df-ad20-2a8f2b6dd03f",
   "metadata": {},
   "outputs": [
    {
     "data": {
      "text/plain": [
       "False"
      ]
     },
     "execution_count": 26,
     "metadata": {},
     "output_type": "execute_result"
    }
   ],
   "source": [
    "False"
   ]
  },
  {
   "cell_type": "code",
   "execution_count": 27,
   "id": "bea9c4fb-cc1d-4c3d-98d4-05dbf3f86412",
   "metadata": {},
   "outputs": [
    {
     "data": {
      "text/plain": [
       "False"
      ]
     },
     "execution_count": 27,
     "metadata": {},
     "output_type": "execute_result"
    }
   ],
   "source": [
    "True is False"
   ]
  },
  {
   "cell_type": "code",
   "execution_count": 28,
   "id": "c8b034d5-1aae-4bb4-bfcb-537f64de669b",
   "metadata": {},
   "outputs": [
    {
     "data": {
      "text/plain": [
       "True"
      ]
     },
     "execution_count": 28,
     "metadata": {},
     "output_type": "execute_result"
    }
   ],
   "source": [
    "False is False"
   ]
  },
  {
   "cell_type": "code",
   "execution_count": 29,
   "id": "009835d7-3ece-45d9-b3e8-84435432ce2d",
   "metadata": {},
   "outputs": [
    {
     "data": {
      "text/plain": [
       "True"
      ]
     },
     "execution_count": 29,
     "metadata": {},
     "output_type": "execute_result"
    }
   ],
   "source": [
    "True or False"
   ]
  },
  {
   "cell_type": "code",
   "execution_count": 30,
   "id": "27e4f7f5-bbe0-44b6-bdbe-de0f7f7cb63b",
   "metadata": {},
   "outputs": [
    {
     "data": {
      "text/plain": [
       "False"
      ]
     },
     "execution_count": 30,
     "metadata": {},
     "output_type": "execute_result"
    }
   ],
   "source": [
    "True and False"
   ]
  },
  {
   "cell_type": "markdown",
   "id": "fc4b4c02-5274-4445-b8e6-5c1379228e86",
   "metadata": {},
   "source": [
    "### Identity"
   ]
  },
  {
   "cell_type": "code",
   "execution_count": 34,
   "id": "dfb4838a-4324-4795-9c21-cc026a38ba31",
   "metadata": {},
   "outputs": [],
   "source": [
    "a = b = 10"
   ]
  },
  {
   "cell_type": "code",
   "execution_count": 35,
   "id": "5e6c98ab-50d2-4cbc-9bfa-d1a0df8b4ea1",
   "metadata": {},
   "outputs": [
    {
     "data": {
      "text/plain": [
       "True"
      ]
     },
     "execution_count": 35,
     "metadata": {},
     "output_type": "execute_result"
    }
   ],
   "source": [
    "a is b"
   ]
  },
  {
   "cell_type": "markdown",
   "id": "a825080b-04c8-43e7-977c-1f9b865983c4",
   "metadata": {},
   "source": [
    "### Powers"
   ]
  },
  {
   "cell_type": "code",
   "execution_count": 37,
   "id": "408c9b95-0db6-4723-93bf-2f0f6dbd790a",
   "metadata": {},
   "outputs": [],
   "source": [
    "a = a**10"
   ]
  },
  {
   "cell_type": "code",
   "execution_count": 38,
   "id": "ec28776d-1d97-470a-98bd-33c93ed06a81",
   "metadata": {},
   "outputs": [
    {
     "data": {
      "text/plain": [
       "10000000000"
      ]
     },
     "execution_count": 38,
     "metadata": {},
     "output_type": "execute_result"
    }
   ],
   "source": [
    "a"
   ]
  },
  {
   "cell_type": "markdown",
   "id": "e989c81b-486d-4832-a435-a4cf6a07156e",
   "metadata": {},
   "source": [
    "### Membership"
   ]
  },
  {
   "cell_type": "code",
   "execution_count": 42,
   "id": "5a11a544-36f8-4e2c-8946-979b51dc4b81",
   "metadata": {},
   "outputs": [
    {
     "data": {
      "text/plain": [
       "False"
      ]
     },
     "execution_count": 42,
     "metadata": {},
     "output_type": "execute_result"
    }
   ],
   "source": [
    "y = [100,100,20,2]\n",
    "0 in y"
   ]
  },
  {
   "cell_type": "code",
   "execution_count": 43,
   "id": "dac90153-d641-4c1a-81ee-1f179fb4d0e9",
   "metadata": {},
   "outputs": [
    {
     "data": {
      "text/plain": [
       "True"
      ]
     },
     "execution_count": 43,
     "metadata": {},
     "output_type": "execute_result"
    }
   ],
   "source": [
    "2 in y"
   ]
  },
  {
   "cell_type": "code",
   "execution_count": 44,
   "id": "58596fdb-5362-402a-b1bd-b8bf41cf0fb2",
   "metadata": {},
   "outputs": [
    {
     "data": {
      "text/plain": [
       "True"
      ]
     },
     "execution_count": 44,
     "metadata": {},
     "output_type": "execute_result"
    }
   ],
   "source": [
    "0 not in y"
   ]
  },
  {
   "cell_type": "code",
   "execution_count": 45,
   "id": "0479c54b-dbc0-404d-8328-2a8db694d2d0",
   "metadata": {},
   "outputs": [
    {
     "data": {
      "text/plain": [
       "False"
      ]
     },
     "execution_count": 45,
     "metadata": {},
     "output_type": "execute_result"
    }
   ],
   "source": [
    "[0,2] in y"
   ]
  },
  {
   "cell_type": "code",
   "execution_count": 47,
   "id": "89238dfb-9716-41f5-8da9-22ff5b0cd75b",
   "metadata": {},
   "outputs": [
    {
     "data": {
      "text/plain": [
       "False"
      ]
     },
     "execution_count": 47,
     "metadata": {},
     "output_type": "execute_result"
    }
   ],
   "source": [
    "(0 and 2) in y"
   ]
  },
  {
   "cell_type": "code",
   "execution_count": 48,
   "id": "e6fc6b32-ea46-4f51-a4ef-72ca30d8fd19",
   "metadata": {},
   "outputs": [
    {
     "data": {
      "text/plain": [
       "True"
      ]
     },
     "execution_count": 48,
     "metadata": {},
     "output_type": "execute_result"
    }
   ],
   "source": [
    "[0,2] in [[0,2],1,2]"
   ]
  }
 ],
 "metadata": {
  "kernelspec": {
   "display_name": "Python 3 (ipykernel)",
   "language": "python",
   "name": "python3"
  },
  "language_info": {
   "codemirror_mode": {
    "name": "ipython",
    "version": 3
   },
   "file_extension": ".py",
   "mimetype": "text/x-python",
   "name": "python",
   "nbconvert_exporter": "python",
   "pygments_lexer": "ipython3",
   "version": "3.10.12"
  }
 },
 "nbformat": 4,
 "nbformat_minor": 5
}
