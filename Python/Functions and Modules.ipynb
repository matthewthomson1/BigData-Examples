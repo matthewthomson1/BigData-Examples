{
 "cells": [
  {
   "cell_type": "markdown",
   "id": "4c2ee24e-e97d-4552-af95-6a261a4c8d13",
   "metadata": {},
   "source": [
    "# Functions and Modules"
   ]
  },
  {
   "cell_type": "markdown",
   "id": "6258bacd-d2ab-41c1-8ed1-814f93aa7bff",
   "metadata": {},
   "source": [
    "## My First function"
   ]
  },
  {
   "cell_type": "code",
   "execution_count": 1,
   "id": "c983e1f2-bdde-4bc3-94d9-dce0082e45ca",
   "metadata": {},
   "outputs": [
    {
     "data": {
      "text/plain": [
       "9"
      ]
     },
     "execution_count": 1,
     "metadata": {},
     "output_type": "execute_result"
    }
   ],
   "source": [
    "def f(x):\n",
    "    \"this is the function of x\"\n",
    "    return 2**2 + 5\n",
    "\n"
   ]
  },
  {
   "cell_type": "markdown",
   "id": "cb4070d5-313e-447b-a157-2c37a6e0474a",
   "metadata": {},
   "source": [
    "## Arguments"
   ]
  },
  {
   "cell_type": "code",
   "execution_count": 2,
   "id": "9d24c37d-588a-4d1e-842f-032335bc4ac6",
   "metadata": {},
   "outputs": [
    {
     "name": "stdout",
     "output_type": "stream",
     "text": [
      "ID before passing: 140651181831216\n",
      "ID inside the function: 140651181831216\n"
     ]
    }
   ],
   "source": [
    "def testfunction(arg):\n",
    "   print (\"ID inside the function:\", id(arg))\n",
    "\n",
    "var=\"Hello\"\n",
    "print (\"ID before passing:\", id(var))\n",
    "testfunction(var)\n"
   ]
  },
  {
   "cell_type": "markdown",
   "id": "4c7013d7-a4a0-4455-913c-5e95bf2ee10e",
   "metadata": {},
   "source": [
    "### Keyword Only Args"
   ]
  },
  {
   "cell_type": "code",
   "execution_count": 7,
   "id": "12c84b38-1839-4c51-9fe7-53ffbf1badf3",
   "metadata": {},
   "outputs": [],
   "source": [
    "def intr(amt,*,rate):\n",
    "    val = amt*rate/100\n",
    "    return val"
   ]
  },
  {
   "cell_type": "code",
   "execution_count": 5,
   "id": "7c08fd1f-7ec0-4d71-b5ad-339ce2e5bcb2",
   "metadata": {},
   "outputs": [
    {
     "ename": "TypeError",
     "evalue": "intr() takes 1 positional argument but 2 were given",
     "output_type": "error",
     "traceback": [
      "\u001b[0;31m---------------------------------------------------------------------------\u001b[0m",
      "\u001b[0;31mTypeError\u001b[0m                                 Traceback (most recent call last)",
      "Cell \u001b[0;32mIn[5], line 1\u001b[0m\n\u001b[0;32m----> 1\u001b[0m \u001b[38;5;28mprint\u001b[39m(\u001b[43mintr\u001b[49m\u001b[43m(\u001b[49m\u001b[38;5;241;43m1000\u001b[39;49m\u001b[43m,\u001b[49m\u001b[38;5;241;43m10\u001b[39;49m\u001b[43m)\u001b[49m)\n",
      "\u001b[0;31mTypeError\u001b[0m: intr() takes 1 positional argument but 2 were given"
     ]
    }
   ],
   "source": [
    "# print(intr(1000,10))"
   ]
  },
  {
   "cell_type": "code",
   "execution_count": 8,
   "id": "312bf3f3-6944-4553-9e82-f14a327983ef",
   "metadata": {},
   "outputs": [
    {
     "name": "stdout",
     "output_type": "stream",
     "text": [
      "100.0\n"
     ]
    }
   ],
   "source": [
    "print(intr(1000,rate=10))"
   ]
  },
  {
   "cell_type": "code",
   "execution_count": 9,
   "id": "2d523f62-2132-463a-a683-28923165b7a9",
   "metadata": {},
   "outputs": [],
   "source": [
    "def myFunc(x, /, y, *, z):\n",
    "    print(x,y,z)"
   ]
  },
  {
   "cell_type": "code",
   "execution_count": 10,
   "id": "48a5d50e-58dc-4b6c-85f4-beadf160cc02",
   "metadata": {},
   "outputs": [
    {
     "name": "stdout",
     "output_type": "stream",
     "text": [
      "4 7 123\n"
     ]
    }
   ],
   "source": [
    "myFunc(4,7,z=123)"
   ]
  },
  {
   "cell_type": "code",
   "execution_count": 12,
   "id": "daccf5fa-f6ef-40ff-b909-68539608a102",
   "metadata": {},
   "outputs": [
    {
     "name": "stdout",
     "output_type": "stream",
     "text": [
      "4 234 123\n"
     ]
    }
   ],
   "source": [
    "myFunc(4,z=123,y=234)"
   ]
  },
  {
   "cell_type": "code",
   "execution_count": 13,
   "id": "e4c0b63f-5f53-47fc-93f8-c92084df1ab3",
   "metadata": {},
   "outputs": [
    {
     "ename": "TypeError",
     "evalue": "myFunc() takes 2 positional arguments but 3 were given",
     "output_type": "error",
     "traceback": [
      "\u001b[0;31m---------------------------------------------------------------------------\u001b[0m",
      "\u001b[0;31mTypeError\u001b[0m                                 Traceback (most recent call last)",
      "Cell \u001b[0;32mIn[13], line 1\u001b[0m\n\u001b[0;32m----> 1\u001b[0m \u001b[43mmyFunc\u001b[49m\u001b[43m(\u001b[49m\u001b[38;5;241;43m4\u001b[39;49m\u001b[43m,\u001b[49m\u001b[38;5;241;43m7\u001b[39;49m\u001b[43m,\u001b[49m\u001b[38;5;241;43m123\u001b[39;49m\u001b[43m)\u001b[49m\n",
      "\u001b[0;31mTypeError\u001b[0m: myFunc() takes 2 positional arguments but 3 were given"
     ]
    }
   ],
   "source": [
    "myFunc(4,7,123)"
   ]
  },
  {
   "cell_type": "code",
   "execution_count": null,
   "id": "7efc32cc-bbad-43a9-9bd5-b7efead7b535",
   "metadata": {},
   "outputs": [],
   "source": [
    "### Arbitrary arguments"
   ]
  },
  {
   "cell_type": "code",
   "execution_count": 17,
   "id": "6c65d1a3-e4c8-4512-9af6-e35cb0713d9f",
   "metadata": {},
   "outputs": [],
   "source": [
    "def add(*args):\n",
    "    total = 0\n",
    "    for arg in args:\n",
    "        total += arg\n",
    "    return total"
   ]
  },
  {
   "cell_type": "code",
   "execution_count": 18,
   "id": "3848ca01-77a2-44a5-a48c-8d0b8c7a9309",
   "metadata": {},
   "outputs": [
    {
     "data": {
      "text/plain": [
       "6"
      ]
     },
     "execution_count": 18,
     "metadata": {},
     "output_type": "execute_result"
    }
   ],
   "source": [
    "add(1,2,3)"
   ]
  },
  {
   "cell_type": "code",
   "execution_count": 25,
   "id": "08e507f8-f415-457e-afcf-4f6ace6a6496",
   "metadata": {},
   "outputs": [],
   "source": [
    "def addr(**kwargs):\n",
    "    for k, v in kwargs.items():\n",
    "        print(\"{}:{}\".format(k,v))"
   ]
  },
  {
   "cell_type": "code",
   "execution_count": 26,
   "id": "89f9a4fe-3317-4e3f-a81c-b92f76e5f6b1",
   "metadata": {},
   "outputs": [
    {
     "name": "stdout",
     "output_type": "stream",
     "text": [
      "x:5\n",
      "z:6\n",
      "name:Fred\n"
     ]
    }
   ],
   "source": [
    "addr(x=5,z=6,name=\"Fred\")"
   ]
  },
  {
   "cell_type": "markdown",
   "id": "d9a74632-f374-42f8-970c-e3120fd52dac",
   "metadata": {},
   "source": [
    "# modules"
   ]
  },
  {
   "cell_type": "code",
   "execution_count": 32,
   "id": "1c79063c-bd56-46a6-bd0a-678ed582f8f3",
   "metadata": {},
   "outputs": [],
   "source": [
    "from myfuncs import coolfunc as cf"
   ]
  },
  {
   "cell_type": "code",
   "execution_count": 34,
   "id": "cc79630e-ae1a-4276-a994-105d592552e7",
   "metadata": {},
   "outputs": [
    {
     "data": {
      "text/plain": [
       "20"
      ]
     },
     "execution_count": 34,
     "metadata": {},
     "output_type": "execute_result"
    }
   ],
   "source": [
    "cf(10)"
   ]
  }
 ],
 "metadata": {
  "kernelspec": {
   "display_name": "Python 3 (ipykernel)",
   "language": "python",
   "name": "python3"
  },
  "language_info": {
   "codemirror_mode": {
    "name": "ipython",
    "version": 3
   },
   "file_extension": ".py",
   "mimetype": "text/x-python",
   "name": "python",
   "nbconvert_exporter": "python",
   "pygments_lexer": "ipython3",
   "version": "3.10.12"
  }
 },
 "nbformat": 4,
 "nbformat_minor": 5
}
