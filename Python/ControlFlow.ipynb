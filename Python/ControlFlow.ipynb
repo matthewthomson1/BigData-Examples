{
 "cells": [
  {
   "cell_type": "markdown",
   "id": "0769dd15-ed04-4e5b-9140-b40cca254064",
   "metadata": {},
   "source": [
    "# Control Flow"
   ]
  },
  {
   "cell_type": "code",
   "execution_count": 6,
   "id": "50f5af53-d5c4-4457-8128-7bbf55db1b7e",
   "metadata": {},
   "outputs": [
    {
     "name": "stdout",
     "output_type": "stream",
     "text": [
      "Way to go!\n"
     ]
    }
   ],
   "source": [
    "result = \"\"\n",
    "value = 10000\n",
    "if value < 30:\n",
    "    result = \"Failed\"\n",
    "elif value > 65:\n",
    "    result = \"Way to go!\"\n",
    "else:\n",
    "    result = \"Check.\"\n",
    "print(result)"
   ]
  },
  {
   "cell_type": "markdown",
   "id": "3cc177ff-9e08-437e-82a0-7304b7910286",
   "metadata": {},
   "source": [
    "## Match"
   ]
  },
  {
   "cell_type": "code",
   "execution_count": 15,
   "id": "df94cb15-16bd-41ec-877b-1a54db1ed4f2",
   "metadata": {},
   "outputs": [
    {
     "data": {
      "text/plain": [
       "\"it's an r\""
      ]
     },
     "execution_count": 15,
     "metadata": {},
     "output_type": "execute_result"
    }
   ],
   "source": [
    "letter = \"r\"\n",
    "result = \"\"\n",
    "match letter:\n",
    "    case \"r\" : result = \"it's an r\"\n",
    "    case \"l\" : result = \"it's an l\"\n",
    "    case _: result = \"idk\"\n",
    "result\n"
   ]
  }
 ],
 "metadata": {
  "kernelspec": {
   "display_name": "Python 3 (ipykernel)",
   "language": "python",
   "name": "python3"
  },
  "language_info": {
   "codemirror_mode": {
    "name": "ipython",
    "version": 3
   },
   "file_extension": ".py",
   "mimetype": "text/x-python",
   "name": "python",
   "nbconvert_exporter": "python",
   "pygments_lexer": "ipython3",
   "version": "3.10.12"
  }
 },
 "nbformat": 4,
 "nbformat_minor": 5
}
