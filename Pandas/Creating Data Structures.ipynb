{
 "cells": [
  {
   "cell_type": "markdown",
   "id": "a076cf5a-769d-4844-8baa-d20406a62eab",
   "metadata": {},
   "source": [
    "# Creating data Structures"
   ]
  },
  {
   "cell_type": "markdown",
   "id": "cfbb4a7c-af9e-431f-bc91-3e551e95756a",
   "metadata": {},
   "source": [
    "## Imports"
   ]
  },
  {
   "cell_type": "code",
   "execution_count": 8,
   "id": "cb5987d7-f5c2-4e13-b8a2-148180916126",
   "metadata": {},
   "outputs": [],
   "source": [
    "import numpy as np\n",
    "import matplotlib\n",
    "import matplotlib.pyplot as plt\n",
    "import pandas as pd"
   ]
  },
  {
   "cell_type": "code",
   "execution_count": 9,
   "id": "d6648df9-f836-4c88-9774-56b1c54b8788",
   "metadata": {},
   "outputs": [
    {
     "data": {
      "text/plain": [
       "'1.26.1'"
      ]
     },
     "execution_count": 9,
     "metadata": {},
     "output_type": "execute_result"
    }
   ],
   "source": [
    "np.__version__"
   ]
  },
  {
   "cell_type": "code",
   "execution_count": 10,
   "id": "473b8aad-9632-447a-a0e8-26b638ba1ce6",
   "metadata": {},
   "outputs": [
    {
     "data": {
      "text/plain": [
       "'3.8.1'"
      ]
     },
     "execution_count": 10,
     "metadata": {},
     "output_type": "execute_result"
    }
   ],
   "source": [
    "matplotlib.__version__"
   ]
  },
  {
   "cell_type": "code",
   "execution_count": null,
   "id": "345e9702-a7fe-4480-90f4-c557583e3f0c",
   "metadata": {},
   "outputs": [],
   "source": [
    "pd.__version__"
   ]
  },
  {
   "cell_type": "code",
   "execution_count": null,
   "id": "374de0a3-d7ae-4420-80e3-f3b37eb28834",
   "metadata": {},
   "outputs": [],
   "source": []
  },
  {
   "cell_type": "code",
   "execution_count": 14,
   "id": "0933693e-fc9b-4ebc-ba78-d15082ce3ad6",
   "metadata": {},
   "outputs": [
    {
     "name": "stdout",
     "output_type": "stream",
     "text": [
      "[0 1 2 3 4]\n"
     ]
    }
   ],
   "source": [
    "ser_data = np.array([0,1,2,3,4])\n",
    "print(ser_data)"
   ]
  },
  {
   "cell_type": "code",
   "execution_count": 16,
   "id": "faaf14b2-655e-492f-ac66-4e72f70484b2",
   "metadata": {},
   "outputs": [],
   "source": [
    "pd_series = pd.Series(ser_data)"
   ]
  },
  {
   "cell_type": "code",
   "execution_count": null,
   "id": "891d4892-0450-4eef-b470-b8a44e00858d",
   "metadata": {},
   "outputs": [],
   "source": [
    "pd_series[\"three\"] = 3.333333333"
   ]
  },
  {
   "cell_type": "code",
   "execution_count": 18,
   "id": "28cbc0a9-363f-4c9d-9cd9-de4e3c4201e9",
   "metadata": {},
   "outputs": [
    {
     "name": "stdout",
     "output_type": "stream",
     "text": [
      "0    0\n",
      "1    1\n",
      "2    2\n",
      "3    3\n",
      "4    4\n",
      "dtype: int64\n"
     ]
    }
   ],
   "source": [
    "print(pd_series)"
   ]
  },
  {
   "cell_type": "markdown",
   "id": "18323776-93a1-4f60-969d-32fc3a94e5fb",
   "metadata": {},
   "source": [
    "## Building from a dictionary"
   ]
  },
  {
   "cell_type": "code",
   "execution_count": 20,
   "id": "7eb5413c-bbe5-482c-9eaf-99dfe3a66bbf",
   "metadata": {},
   "outputs": [],
   "source": [
    "cars = {\n",
    "    \"BMW\": 54,\n",
    "    \"VW\":34,\n",
    "    \"Ford\":61\n",
    "}"
   ]
  },
  {
   "cell_type": "code",
   "execution_count": 21,
   "id": "b1656a98-de4e-48b0-83a1-e764612d9ccf",
   "metadata": {},
   "outputs": [],
   "source": [
    "car_series = pd.Series(cars)"
   ]
  },
  {
   "cell_type": "code",
   "execution_count": 22,
   "id": "0bdd92fd-c00d-490b-bfc6-ba2ff6d2ed90",
   "metadata": {},
   "outputs": [
    {
     "name": "stdout",
     "output_type": "stream",
     "text": [
      "BMW     54\n",
      "VW      34\n",
      "Ford    61\n",
      "dtype: int64\n"
     ]
    }
   ],
   "source": [
    "print(car_series)"
   ]
  },
  {
   "cell_type": "markdown",
   "id": "e68c36b2-fc98-4db5-ad84-259b5a602b52",
   "metadata": {},
   "source": [
    "## Dataframes"
   ]
  },
  {
   "cell_type": "code",
   "execution_count": 24,
   "id": "80b2a728-6dfb-486b-835a-34f2add58610",
   "metadata": {},
   "outputs": [
    {
     "name": "stdout",
     "output_type": "stream",
     "text": [
      "   name  age  height  happy\n",
      "0   bob   12    1.23  False\n",
      "1   sue   17    1.43   True\n",
      "2  fred   18    4.00  False\n",
      "3   sam   17    1.00   True\n"
     ]
    }
   ],
   "source": [
    "people = {\n",
    "    \"name\": [\"bob\", \"sue\", \"fred\", \"sam\"],\n",
    "    \"age\": [12,17,18,17],\n",
    "    \"height\": [1.23, 1.43, 4.0, 1.0],\n",
    "    \"happy\": [False, True, False, True]\n",
    "}\n",
    "df_people = pd.DataFrame(people)\n",
    "print(df_people)"
   ]
  },
  {
   "cell_type": "code",
   "execution_count": 25,
   "id": "c26a7589-3e88-4e79-b634-b17bb97b9752",
   "metadata": {},
   "outputs": [
    {
     "name": "stdout",
     "output_type": "stream",
     "text": [
      "<class 'pandas.core.frame.DataFrame'>\n",
      "RangeIndex: 4 entries, 0 to 3\n",
      "Data columns (total 4 columns):\n",
      " #   Column  Non-Null Count  Dtype  \n",
      "---  ------  --------------  -----  \n",
      " 0   name    4 non-null      object \n",
      " 1   age     4 non-null      int64  \n",
      " 2   height  4 non-null      float64\n",
      " 3   happy   4 non-null      bool   \n",
      "dtypes: bool(1), float64(1), int64(1), object(1)\n",
      "memory usage: 228.0+ bytes\n"
     ]
    }
   ],
   "source": [
    "df_people.info()"
   ]
  },
  {
   "cell_type": "code",
   "execution_count": 26,
   "id": "c66a062f-a5d9-4837-8e51-73e1a5807de5",
   "metadata": {},
   "outputs": [
    {
     "name": "stdout",
     "output_type": "stream",
     "text": [
      "0    12\n",
      "1    17\n",
      "2    18\n",
      "3    17\n",
      "Name: age, dtype: int64\n"
     ]
    }
   ],
   "source": [
    "print(df_people.age)"
   ]
  },
  {
   "cell_type": "markdown",
   "id": "494dd286-1100-4543-a1d7-ae99e6e82273",
   "metadata": {},
   "source": [
    "# Saving Data"
   ]
  },
  {
   "cell_type": "code",
   "execution_count": 27,
   "id": "21ec0a95-1af2-4fea-a107-eb8b590555f4",
   "metadata": {},
   "outputs": [],
   "source": [
    "df_people.to_csv(\"people.csv\")"
   ]
  },
  {
   "cell_type": "markdown",
   "id": "b3eff349-3d04-42ee-9917-d0328b59262d",
   "metadata": {},
   "source": [
    "## Reading Data"
   ]
  },
  {
   "cell_type": "code",
   "execution_count": 28,
   "id": "df1058db-e1ff-4457-b811-ee3456959289",
   "metadata": {},
   "outputs": [
    {
     "ename": "NameError",
     "evalue": "name 'pdf' is not defined",
     "output_type": "error",
     "traceback": [
      "\u001b[0;31m---------------------------------------------------------------------------\u001b[0m",
      "\u001b[0;31mNameError\u001b[0m                                 Traceback (most recent call last)",
      "Cell \u001b[0;32mIn[28], line 1\u001b[0m\n\u001b[0;32m----> 1\u001b[0m df_new \u001b[38;5;241m=\u001b[39m \u001b[43mpdf\u001b[49m\u001b[38;5;241m.\u001b[39mread_csv(\u001b[38;5;124m\"\u001b[39m\u001b[38;5;124mpeople.csv\u001b[39m\u001b[38;5;124m\"\u001b[39m)\n\u001b[1;32m      2\u001b[0m df_new\n",
      "\u001b[0;31mNameError\u001b[0m: name 'pdf' is not defined"
     ]
    }
   ],
   "source": [
    "df_new = pdf.read_csv(\"people.csv\")\n",
    "df_new"
   ]
  }
 ],
 "metadata": {
  "kernelspec": {
   "display_name": "Python 3 (ipykernel)",
   "language": "python",
   "name": "python3"
  },
  "language_info": {
   "codemirror_mode": {
    "name": "ipython",
    "version": 3
   },
   "file_extension": ".py",
   "mimetype": "text/x-python",
   "name": "python",
   "nbconvert_exporter": "python",
   "pygments_lexer": "ipython3",
   "version": "3.10.12"
  }
 },
 "nbformat": 4,
 "nbformat_minor": 5
}
