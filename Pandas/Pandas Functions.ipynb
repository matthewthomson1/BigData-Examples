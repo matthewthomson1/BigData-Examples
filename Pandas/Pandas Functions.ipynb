{
 "cells": [
  {
   "cell_type": "markdown",
   "id": "2ea18a2b-ef15-44af-b630-f0d138a2edd4",
   "metadata": {},
   "source": [
    "# Imports"
   ]
  },
  {
   "cell_type": "code",
   "execution_count": 1,
   "id": "e7106092-6f9a-440f-acb4-345caeb9e43d",
   "metadata": {},
   "outputs": [],
   "source": [
    "import numpy as np\n",
    "import matplotlib\n",
    "import matplotlib.pyplot as plt\n",
    "import pandas as pd\n"
   ]
  },
  {
   "cell_type": "code",
   "execution_count": 2,
   "id": "bb417586-ea09-457b-a328-bba7ca6f238c",
   "metadata": {},
   "outputs": [],
   "source": [
    "def showit(x):\n",
    "    print(type(x))\n",
    "    print()\n",
    "    print(x)"
   ]
  },
  {
   "cell_type": "markdown",
   "id": "35736128-913e-4775-a6af-0a51af86fb8c",
   "metadata": {},
   "source": [
    "## Read in the data"
   ]
  },
  {
   "cell_type": "code",
   "execution_count": 3,
   "id": "fa4ddd30-840b-4601-be61-3e9a7c7b2957",
   "metadata": {},
   "outputs": [],
   "source": [
    "df = pd.read_csv(\"sample.csv\")"
   ]
  },
  {
   "cell_type": "code",
   "execution_count": 4,
   "id": "18945de6-8eef-4b7b-9313-0f9fa2f44f55",
   "metadata": {},
   "outputs": [
    {
     "data": {
      "text/html": [
       "<div>\n",
       "<style scoped>\n",
       "    .dataframe tbody tr th:only-of-type {\n",
       "        vertical-align: middle;\n",
       "    }\n",
       "\n",
       "    .dataframe tbody tr th {\n",
       "        vertical-align: top;\n",
       "    }\n",
       "\n",
       "    .dataframe thead th {\n",
       "        text-align: right;\n",
       "    }\n",
       "</style>\n",
       "<table border=\"1\" class=\"dataframe\">\n",
       "  <thead>\n",
       "    <tr style=\"text-align: right;\">\n",
       "      <th></th>\n",
       "      <th>size</th>\n",
       "      <th>age</th>\n",
       "      <th>team</th>\n",
       "      <th>win</th>\n",
       "      <th>date</th>\n",
       "      <th>prob</th>\n",
       "      <th>grade</th>\n",
       "    </tr>\n",
       "  </thead>\n",
       "  <tbody>\n",
       "    <tr>\n",
       "      <th>33553</th>\n",
       "      <td>medium</td>\n",
       "      <td>70</td>\n",
       "      <td>red</td>\n",
       "      <td>False</td>\n",
       "      <td>2023-12-03</td>\n",
       "      <td>0.507487</td>\n",
       "      <td>79.609314</td>\n",
       "    </tr>\n",
       "    <tr>\n",
       "      <th>9427</th>\n",
       "      <td>big</td>\n",
       "      <td>26</td>\n",
       "      <td>blue</td>\n",
       "      <td>False</td>\n",
       "      <td>2023-10-23</td>\n",
       "      <td>0.505165</td>\n",
       "      <td>69.569005</td>\n",
       "    </tr>\n",
       "    <tr>\n",
       "      <th>199</th>\n",
       "      <td>small</td>\n",
       "      <td>50</td>\n",
       "      <td>red</td>\n",
       "      <td>True</td>\n",
       "      <td>2023-08-23</td>\n",
       "      <td>0.847352</td>\n",
       "      <td>88.857845</td>\n",
       "    </tr>\n",
       "    <tr>\n",
       "      <th>12447</th>\n",
       "      <td>big</td>\n",
       "      <td>62</td>\n",
       "      <td>red</td>\n",
       "      <td>True</td>\n",
       "      <td>2023-12-02</td>\n",
       "      <td>0.530678</td>\n",
       "      <td>90.695167</td>\n",
       "    </tr>\n",
       "    <tr>\n",
       "      <th>39489</th>\n",
       "      <td>medium</td>\n",
       "      <td>39</td>\n",
       "      <td>blue</td>\n",
       "      <td>False</td>\n",
       "      <td>2023-11-23</td>\n",
       "      <td>0.518361</td>\n",
       "      <td>80.950326</td>\n",
       "    </tr>\n",
       "  </tbody>\n",
       "</table>\n",
       "</div>"
      ],
      "text/plain": [
       "         size  age  team    win        date      prob      grade\n",
       "33553  medium   70   red  False  2023-12-03  0.507487  79.609314\n",
       "9427      big   26  blue  False  2023-10-23  0.505165  69.569005\n",
       "199     small   50   red   True  2023-08-23  0.847352  88.857845\n",
       "12447     big   62   red   True  2023-12-02  0.530678  90.695167\n",
       "39489  medium   39  blue  False  2023-11-23  0.518361  80.950326"
      ]
     },
     "execution_count": 4,
     "metadata": {},
     "output_type": "execute_result"
    }
   ],
   "source": [
    "df.sample(frac=.0001, random_state=42)"
   ]
  },
  {
   "cell_type": "code",
   "execution_count": 5,
   "id": "f2e47834-b2ad-4fca-9167-58e7b02a559d",
   "metadata": {},
   "outputs": [
    {
     "data": {
      "text/plain": [
       "Index(['size', 'age', 'team', 'win', 'date', 'prob', 'grade'], dtype='object')"
      ]
     },
     "execution_count": 5,
     "metadata": {},
     "output_type": "execute_result"
    }
   ],
   "source": [
    "df.columns"
   ]
  },
  {
   "cell_type": "code",
   "execution_count": 6,
   "id": "32608639-7777-4e43-adfe-358daa8e274d",
   "metadata": {},
   "outputs": [
    {
     "data": {
      "text/plain": [
       "RangeIndex(start=0, stop=50000, step=1)"
      ]
     },
     "execution_count": 6,
     "metadata": {},
     "output_type": "execute_result"
    }
   ],
   "source": [
    "df.index"
   ]
  },
  {
   "cell_type": "code",
   "execution_count": 7,
   "id": "f17f3638-a425-4e79-91c8-5e59f40b88df",
   "metadata": {},
   "outputs": [
    {
     "name": "stdout",
     "output_type": "stream",
     "text": [
      "<class 'pandas.core.frame.DataFrame'>\n",
      "RangeIndex: 50000 entries, 0 to 49999\n",
      "Data columns (total 7 columns):\n",
      " #   Column  Non-Null Count  Dtype  \n",
      "---  ------  --------------  -----  \n",
      " 0   size    50000 non-null  object \n",
      " 1   age     50000 non-null  int64  \n",
      " 2   team    50000 non-null  object \n",
      " 3   win     50000 non-null  bool   \n",
      " 4   date    50000 non-null  object \n",
      " 5   prob    50000 non-null  float64\n",
      " 6   grade   50000 non-null  float64\n",
      "dtypes: bool(1), float64(2), int64(1), object(3)\n",
      "memory usage: 2.3+ MB\n"
     ]
    }
   ],
   "source": [
    "df.info()"
   ]
  },
  {
   "cell_type": "code",
   "execution_count": 8,
   "id": "01370856-a35e-41d5-ae65-fa18dd3f48a4",
   "metadata": {},
   "outputs": [
    {
     "data": {
      "text/html": [
       "<div>\n",
       "<style scoped>\n",
       "    .dataframe tbody tr th:only-of-type {\n",
       "        vertical-align: middle;\n",
       "    }\n",
       "\n",
       "    .dataframe tbody tr th {\n",
       "        vertical-align: top;\n",
       "    }\n",
       "\n",
       "    .dataframe thead th {\n",
       "        text-align: right;\n",
       "    }\n",
       "</style>\n",
       "<table border=\"1\" class=\"dataframe\">\n",
       "  <thead>\n",
       "    <tr style=\"text-align: right;\">\n",
       "      <th></th>\n",
       "      <th>age</th>\n",
       "      <th>prob</th>\n",
       "      <th>grade</th>\n",
       "    </tr>\n",
       "  </thead>\n",
       "  <tbody>\n",
       "    <tr>\n",
       "      <th>count</th>\n",
       "      <td>50000.00000</td>\n",
       "      <td>50000.000000</td>\n",
       "      <td>50000.000000</td>\n",
       "    </tr>\n",
       "    <tr>\n",
       "      <th>mean</th>\n",
       "      <td>50.97078</td>\n",
       "      <td>0.466941</td>\n",
       "      <td>82.408342</td>\n",
       "    </tr>\n",
       "    <tr>\n",
       "      <th>std</th>\n",
       "      <td>19.32833</td>\n",
       "      <td>0.289434</td>\n",
       "      <td>7.452343</td>\n",
       "    </tr>\n",
       "    <tr>\n",
       "      <th>min</th>\n",
       "      <td>18.00000</td>\n",
       "      <td>0.000000</td>\n",
       "      <td>51.414152</td>\n",
       "    </tr>\n",
       "    <tr>\n",
       "      <th>25%</th>\n",
       "      <td>34.00000</td>\n",
       "      <td>0.215220</td>\n",
       "      <td>77.383642</td>\n",
       "    </tr>\n",
       "    <tr>\n",
       "      <th>50%</th>\n",
       "      <td>51.00000</td>\n",
       "      <td>0.467223</td>\n",
       "      <td>82.391035</td>\n",
       "    </tr>\n",
       "    <tr>\n",
       "      <th>75%</th>\n",
       "      <td>68.00000</td>\n",
       "      <td>0.714926</td>\n",
       "      <td>87.382418</td>\n",
       "    </tr>\n",
       "    <tr>\n",
       "      <th>max</th>\n",
       "      <td>84.00000</td>\n",
       "      <td>1.000000</td>\n",
       "      <td>113.617684</td>\n",
       "    </tr>\n",
       "  </tbody>\n",
       "</table>\n",
       "</div>"
      ],
      "text/plain": [
       "               age          prob         grade\n",
       "count  50000.00000  50000.000000  50000.000000\n",
       "mean      50.97078      0.466941     82.408342\n",
       "std       19.32833      0.289434      7.452343\n",
       "min       18.00000      0.000000     51.414152\n",
       "25%       34.00000      0.215220     77.383642\n",
       "50%       51.00000      0.467223     82.391035\n",
       "75%       68.00000      0.714926     87.382418\n",
       "max       84.00000      1.000000    113.617684"
      ]
     },
     "execution_count": 8,
     "metadata": {},
     "output_type": "execute_result"
    }
   ],
   "source": [
    "df.describe()"
   ]
  },
  {
   "cell_type": "code",
   "execution_count": 9,
   "id": "c9982204-7cdf-40c8-8db8-fe062f05085d",
   "metadata": {},
   "outputs": [
    {
     "data": {
      "text/html": [
       "<div>\n",
       "<style scoped>\n",
       "    .dataframe tbody tr th:only-of-type {\n",
       "        vertical-align: middle;\n",
       "    }\n",
       "\n",
       "    .dataframe tbody tr th {\n",
       "        vertical-align: top;\n",
       "    }\n",
       "\n",
       "    .dataframe thead th {\n",
       "        text-align: right;\n",
       "    }\n",
       "</style>\n",
       "<table border=\"1\" class=\"dataframe\">\n",
       "  <thead>\n",
       "    <tr style=\"text-align: right;\">\n",
       "      <th></th>\n",
       "      <th>team</th>\n",
       "    </tr>\n",
       "  </thead>\n",
       "  <tbody>\n",
       "    <tr>\n",
       "      <th>count</th>\n",
       "      <td>50000</td>\n",
       "    </tr>\n",
       "    <tr>\n",
       "      <th>unique</th>\n",
       "      <td>4</td>\n",
       "    </tr>\n",
       "    <tr>\n",
       "      <th>top</th>\n",
       "      <td>green</td>\n",
       "    </tr>\n",
       "    <tr>\n",
       "      <th>freq</th>\n",
       "      <td>12583</td>\n",
       "    </tr>\n",
       "  </tbody>\n",
       "</table>\n",
       "</div>"
      ],
      "text/plain": [
       "         team\n",
       "count   50000\n",
       "unique      4\n",
       "top     green\n",
       "freq    12583"
      ]
     },
     "execution_count": 9,
     "metadata": {},
     "output_type": "execute_result"
    }
   ],
   "source": [
    "df[['team']].describe()"
   ]
  },
  {
   "cell_type": "code",
   "execution_count": 10,
   "id": "84aabf9b-c988-4cb0-9b54-1909a9e3f56b",
   "metadata": {},
   "outputs": [
    {
     "data": {
      "text/plain": [
       "(50000, 7)"
      ]
     },
     "execution_count": 10,
     "metadata": {},
     "output_type": "execute_result"
    }
   ],
   "source": [
    "df.shape"
   ]
  },
  {
   "cell_type": "markdown",
   "id": "f00782b6-cda9-4997-9e6d-da8cb5a09303",
   "metadata": {},
   "source": [
    "## Filter rows"
   ]
  },
  {
   "cell_type": "code",
   "execution_count": 11,
   "id": "a80fec89-fc38-4789-ab19-60d6ab778e62",
   "metadata": {},
   "outputs": [
    {
     "data": {
      "text/plain": [
       "'green'"
      ]
     },
     "execution_count": 11,
     "metadata": {},
     "output_type": "execute_result"
    }
   ],
   "source": [
    "df.iloc[2,2]"
   ]
  },
  {
   "cell_type": "code",
   "execution_count": 12,
   "id": "fc0fe17c-f6f1-4706-9e89-4deb9e0cfacb",
   "metadata": {},
   "outputs": [
    {
     "data": {
      "text/plain": [
       "size            big\n",
       "age              51\n",
       "team         yellow\n",
       "win            True\n",
       "date     2023-12-14\n",
       "prob       0.708568\n",
       "grade     81.645377\n",
       "Name: 5, dtype: object"
      ]
     },
     "execution_count": 12,
     "metadata": {},
     "output_type": "execute_result"
    }
   ],
   "source": [
    "df.iloc[5]"
   ]
  },
  {
   "cell_type": "code",
   "execution_count": 13,
   "id": "4927ec48-28cb-43c0-b335-d31dcd7064bb",
   "metadata": {},
   "outputs": [
    {
     "data": {
      "text/html": [
       "<div>\n",
       "<style scoped>\n",
       "    .dataframe tbody tr th:only-of-type {\n",
       "        vertical-align: middle;\n",
       "    }\n",
       "\n",
       "    .dataframe tbody tr th {\n",
       "        vertical-align: top;\n",
       "    }\n",
       "\n",
       "    .dataframe thead th {\n",
       "        text-align: right;\n",
       "    }\n",
       "</style>\n",
       "<table border=\"1\" class=\"dataframe\">\n",
       "  <thead>\n",
       "    <tr style=\"text-align: right;\">\n",
       "      <th></th>\n",
       "      <th>size</th>\n",
       "      <th>age</th>\n",
       "      <th>team</th>\n",
       "      <th>win</th>\n",
       "      <th>date</th>\n",
       "      <th>prob</th>\n",
       "      <th>grade</th>\n",
       "    </tr>\n",
       "  </thead>\n",
       "  <tbody>\n",
       "    <tr>\n",
       "      <th>5</th>\n",
       "      <td>big</td>\n",
       "      <td>51</td>\n",
       "      <td>yellow</td>\n",
       "      <td>True</td>\n",
       "      <td>2023-12-14</td>\n",
       "      <td>0.708568</td>\n",
       "      <td>81.645377</td>\n",
       "    </tr>\n",
       "    <tr>\n",
       "      <th>26</th>\n",
       "      <td>big</td>\n",
       "      <td>44</td>\n",
       "      <td>yellow</td>\n",
       "      <td>False</td>\n",
       "      <td>2023-12-06</td>\n",
       "      <td>0.877490</td>\n",
       "      <td>77.498612</td>\n",
       "    </tr>\n",
       "  </tbody>\n",
       "</table>\n",
       "</div>"
      ],
      "text/plain": [
       "   size  age    team    win        date      prob      grade\n",
       "5   big   51  yellow   True  2023-12-14  0.708568  81.645377\n",
       "26  big   44  yellow  False  2023-12-06  0.877490  77.498612"
      ]
     },
     "execution_count": 13,
     "metadata": {},
     "output_type": "execute_result"
    }
   ],
   "source": [
    "df.iloc[[5,26]]"
   ]
  },
  {
   "cell_type": "code",
   "execution_count": 14,
   "id": "12018ba7-ca7a-4399-9323-d53a9368e2ac",
   "metadata": {},
   "outputs": [
    {
     "data": {
      "text/plain": [
       "0        False\n",
       "1        False\n",
       "2        False\n",
       "3         True\n",
       "4        False\n",
       "         ...  \n",
       "49995    False\n",
       "49996     True\n",
       "49997    False\n",
       "49998    False\n",
       "49999    False\n",
       "Name: size, Length: 50000, dtype: bool"
      ]
     },
     "execution_count": 14,
     "metadata": {},
     "output_type": "execute_result"
    }
   ],
   "source": [
    "df['size'] == 'medium'"
   ]
  },
  {
   "cell_type": "code",
   "execution_count": 15,
   "id": "cc62a59d-aa65-464a-8903-dfec3e745715",
   "metadata": {},
   "outputs": [
    {
     "data": {
      "text/html": [
       "<div>\n",
       "<style scoped>\n",
       "    .dataframe tbody tr th:only-of-type {\n",
       "        vertical-align: middle;\n",
       "    }\n",
       "\n",
       "    .dataframe tbody tr th {\n",
       "        vertical-align: top;\n",
       "    }\n",
       "\n",
       "    .dataframe thead th {\n",
       "        text-align: right;\n",
       "    }\n",
       "</style>\n",
       "<table border=\"1\" class=\"dataframe\">\n",
       "  <thead>\n",
       "    <tr style=\"text-align: right;\">\n",
       "      <th></th>\n",
       "      <th>size</th>\n",
       "      <th>age</th>\n",
       "      <th>team</th>\n",
       "      <th>win</th>\n",
       "      <th>date</th>\n",
       "      <th>prob</th>\n",
       "      <th>grade</th>\n",
       "    </tr>\n",
       "  </thead>\n",
       "  <tbody>\n",
       "    <tr>\n",
       "      <th>3</th>\n",
       "      <td>medium</td>\n",
       "      <td>73</td>\n",
       "      <td>blue</td>\n",
       "      <td>False</td>\n",
       "      <td>2023-10-16</td>\n",
       "      <td>0.982599</td>\n",
       "      <td>86.724554</td>\n",
       "    </tr>\n",
       "    <tr>\n",
       "      <th>8</th>\n",
       "      <td>medium</td>\n",
       "      <td>60</td>\n",
       "      <td>yellow</td>\n",
       "      <td>False</td>\n",
       "      <td>2024-04-12</td>\n",
       "      <td>0.678985</td>\n",
       "      <td>79.311407</td>\n",
       "    </tr>\n",
       "    <tr>\n",
       "      <th>13</th>\n",
       "      <td>medium</td>\n",
       "      <td>52</td>\n",
       "      <td>green</td>\n",
       "      <td>True</td>\n",
       "      <td>2023-11-14</td>\n",
       "      <td>0.177618</td>\n",
       "      <td>84.018867</td>\n",
       "    </tr>\n",
       "    <tr>\n",
       "      <th>14</th>\n",
       "      <td>medium</td>\n",
       "      <td>36</td>\n",
       "      <td>red</td>\n",
       "      <td>False</td>\n",
       "      <td>2024-03-11</td>\n",
       "      <td>0.312485</td>\n",
       "      <td>68.640865</td>\n",
       "    </tr>\n",
       "    <tr>\n",
       "      <th>15</th>\n",
       "      <td>medium</td>\n",
       "      <td>52</td>\n",
       "      <td>green</td>\n",
       "      <td>True</td>\n",
       "      <td>2024-03-06</td>\n",
       "      <td>0.362879</td>\n",
       "      <td>75.582323</td>\n",
       "    </tr>\n",
       "    <tr>\n",
       "      <th>...</th>\n",
       "      <td>...</td>\n",
       "      <td>...</td>\n",
       "      <td>...</td>\n",
       "      <td>...</td>\n",
       "      <td>...</td>\n",
       "      <td>...</td>\n",
       "      <td>...</td>\n",
       "    </tr>\n",
       "    <tr>\n",
       "      <th>49981</th>\n",
       "      <td>medium</td>\n",
       "      <td>20</td>\n",
       "      <td>green</td>\n",
       "      <td>False</td>\n",
       "      <td>2024-03-15</td>\n",
       "      <td>0.024315</td>\n",
       "      <td>79.965449</td>\n",
       "    </tr>\n",
       "    <tr>\n",
       "      <th>49986</th>\n",
       "      <td>medium</td>\n",
       "      <td>59</td>\n",
       "      <td>green</td>\n",
       "      <td>False</td>\n",
       "      <td>2024-05-08</td>\n",
       "      <td>0.602568</td>\n",
       "      <td>97.559009</td>\n",
       "    </tr>\n",
       "    <tr>\n",
       "      <th>49987</th>\n",
       "      <td>medium</td>\n",
       "      <td>75</td>\n",
       "      <td>green</td>\n",
       "      <td>False</td>\n",
       "      <td>2023-11-06</td>\n",
       "      <td>0.737011</td>\n",
       "      <td>83.910104</td>\n",
       "    </tr>\n",
       "    <tr>\n",
       "      <th>49994</th>\n",
       "      <td>medium</td>\n",
       "      <td>48</td>\n",
       "      <td>yellow</td>\n",
       "      <td>False</td>\n",
       "      <td>2023-09-22</td>\n",
       "      <td>0.721019</td>\n",
       "      <td>84.810945</td>\n",
       "    </tr>\n",
       "    <tr>\n",
       "      <th>49996</th>\n",
       "      <td>medium</td>\n",
       "      <td>65</td>\n",
       "      <td>blue</td>\n",
       "      <td>True</td>\n",
       "      <td>2023-09-07</td>\n",
       "      <td>0.054184</td>\n",
       "      <td>78.426529</td>\n",
       "    </tr>\n",
       "  </tbody>\n",
       "</table>\n",
       "<p>16774 rows × 7 columns</p>\n",
       "</div>"
      ],
      "text/plain": [
       "         size  age    team    win        date      prob      grade\n",
       "3      medium   73    blue  False  2023-10-16  0.982599  86.724554\n",
       "8      medium   60  yellow  False  2024-04-12  0.678985  79.311407\n",
       "13     medium   52   green   True  2023-11-14  0.177618  84.018867\n",
       "14     medium   36     red  False  2024-03-11  0.312485  68.640865\n",
       "15     medium   52   green   True  2024-03-06  0.362879  75.582323\n",
       "...       ...  ...     ...    ...         ...       ...        ...\n",
       "49981  medium   20   green  False  2024-03-15  0.024315  79.965449\n",
       "49986  medium   59   green  False  2024-05-08  0.602568  97.559009\n",
       "49987  medium   75   green  False  2023-11-06  0.737011  83.910104\n",
       "49994  medium   48  yellow  False  2023-09-22  0.721019  84.810945\n",
       "49996  medium   65    blue   True  2023-09-07  0.054184  78.426529\n",
       "\n",
       "[16774 rows x 7 columns]"
      ]
     },
     "execution_count": 15,
     "metadata": {},
     "output_type": "execute_result"
    }
   ],
   "source": [
    "df[df['size'] == 'medium']"
   ]
  },
  {
   "cell_type": "code",
   "execution_count": 16,
   "id": "5b2db018-cd1f-4d87-9d04-59c1efeeef10",
   "metadata": {},
   "outputs": [
    {
     "data": {
      "text/html": [
       "<div>\n",
       "<style scoped>\n",
       "    .dataframe tbody tr th:only-of-type {\n",
       "        vertical-align: middle;\n",
       "    }\n",
       "\n",
       "    .dataframe tbody tr th {\n",
       "        vertical-align: top;\n",
       "    }\n",
       "\n",
       "    .dataframe thead th {\n",
       "        text-align: right;\n",
       "    }\n",
       "</style>\n",
       "<table border=\"1\" class=\"dataframe\">\n",
       "  <thead>\n",
       "    <tr style=\"text-align: right;\">\n",
       "      <th></th>\n",
       "      <th>size</th>\n",
       "      <th>age</th>\n",
       "      <th>team</th>\n",
       "      <th>win</th>\n",
       "      <th>date</th>\n",
       "      <th>prob</th>\n",
       "      <th>grade</th>\n",
       "    </tr>\n",
       "  </thead>\n",
       "  <tbody>\n",
       "    <tr>\n",
       "      <th>3</th>\n",
       "      <td>medium</td>\n",
       "      <td>73</td>\n",
       "      <td>blue</td>\n",
       "      <td>False</td>\n",
       "      <td>2023-10-16</td>\n",
       "      <td>0.982599</td>\n",
       "      <td>86.724554</td>\n",
       "    </tr>\n",
       "    <tr>\n",
       "      <th>8</th>\n",
       "      <td>medium</td>\n",
       "      <td>60</td>\n",
       "      <td>yellow</td>\n",
       "      <td>False</td>\n",
       "      <td>2024-04-12</td>\n",
       "      <td>0.678985</td>\n",
       "      <td>79.311407</td>\n",
       "    </tr>\n",
       "    <tr>\n",
       "      <th>14</th>\n",
       "      <td>medium</td>\n",
       "      <td>36</td>\n",
       "      <td>red</td>\n",
       "      <td>False</td>\n",
       "      <td>2024-03-11</td>\n",
       "      <td>0.312485</td>\n",
       "      <td>68.640865</td>\n",
       "    </tr>\n",
       "    <tr>\n",
       "      <th>16</th>\n",
       "      <td>medium</td>\n",
       "      <td>65</td>\n",
       "      <td>yellow</td>\n",
       "      <td>False</td>\n",
       "      <td>2023-12-04</td>\n",
       "      <td>0.529683</td>\n",
       "      <td>84.926477</td>\n",
       "    </tr>\n",
       "    <tr>\n",
       "      <th>25</th>\n",
       "      <td>medium</td>\n",
       "      <td>43</td>\n",
       "      <td>green</td>\n",
       "      <td>False</td>\n",
       "      <td>2023-10-26</td>\n",
       "      <td>0.702130</td>\n",
       "      <td>81.054229</td>\n",
       "    </tr>\n",
       "    <tr>\n",
       "      <th>...</th>\n",
       "      <td>...</td>\n",
       "      <td>...</td>\n",
       "      <td>...</td>\n",
       "      <td>...</td>\n",
       "      <td>...</td>\n",
       "      <td>...</td>\n",
       "      <td>...</td>\n",
       "    </tr>\n",
       "    <tr>\n",
       "      <th>49980</th>\n",
       "      <td>medium</td>\n",
       "      <td>80</td>\n",
       "      <td>red</td>\n",
       "      <td>False</td>\n",
       "      <td>2024-01-22</td>\n",
       "      <td>0.131547</td>\n",
       "      <td>76.762536</td>\n",
       "    </tr>\n",
       "    <tr>\n",
       "      <th>49981</th>\n",
       "      <td>medium</td>\n",
       "      <td>20</td>\n",
       "      <td>green</td>\n",
       "      <td>False</td>\n",
       "      <td>2024-03-15</td>\n",
       "      <td>0.024315</td>\n",
       "      <td>79.965449</td>\n",
       "    </tr>\n",
       "    <tr>\n",
       "      <th>49986</th>\n",
       "      <td>medium</td>\n",
       "      <td>59</td>\n",
       "      <td>green</td>\n",
       "      <td>False</td>\n",
       "      <td>2024-05-08</td>\n",
       "      <td>0.602568</td>\n",
       "      <td>97.559009</td>\n",
       "    </tr>\n",
       "    <tr>\n",
       "      <th>49987</th>\n",
       "      <td>medium</td>\n",
       "      <td>75</td>\n",
       "      <td>green</td>\n",
       "      <td>False</td>\n",
       "      <td>2023-11-06</td>\n",
       "      <td>0.737011</td>\n",
       "      <td>83.910104</td>\n",
       "    </tr>\n",
       "    <tr>\n",
       "      <th>49994</th>\n",
       "      <td>medium</td>\n",
       "      <td>48</td>\n",
       "      <td>yellow</td>\n",
       "      <td>False</td>\n",
       "      <td>2023-09-22</td>\n",
       "      <td>0.721019</td>\n",
       "      <td>84.810945</td>\n",
       "    </tr>\n",
       "  </tbody>\n",
       "</table>\n",
       "<p>8367 rows × 7 columns</p>\n",
       "</div>"
      ],
      "text/plain": [
       "         size  age    team    win        date      prob      grade\n",
       "3      medium   73    blue  False  2023-10-16  0.982599  86.724554\n",
       "8      medium   60  yellow  False  2024-04-12  0.678985  79.311407\n",
       "14     medium   36     red  False  2024-03-11  0.312485  68.640865\n",
       "16     medium   65  yellow  False  2023-12-04  0.529683  84.926477\n",
       "25     medium   43   green  False  2023-10-26  0.702130  81.054229\n",
       "...       ...  ...     ...    ...         ...       ...        ...\n",
       "49980  medium   80     red  False  2024-01-22  0.131547  76.762536\n",
       "49981  medium   20   green  False  2024-03-15  0.024315  79.965449\n",
       "49986  medium   59   green  False  2024-05-08  0.602568  97.559009\n",
       "49987  medium   75   green  False  2023-11-06  0.737011  83.910104\n",
       "49994  medium   48  yellow  False  2023-09-22  0.721019  84.810945\n",
       "\n",
       "[8367 rows x 7 columns]"
      ]
     },
     "execution_count": 16,
     "metadata": {},
     "output_type": "execute_result"
    }
   ],
   "source": [
    "df.loc[(df['size'] == 'medium') * (df['win'] == False)]"
   ]
  },
  {
   "cell_type": "code",
   "execution_count": 17,
   "id": "8e760b0f-a224-490a-8f4f-bfb0452ff7b8",
   "metadata": {},
   "outputs": [],
   "source": [
    "# df.query('grade >= 80 and grade < 90 and team = \"red\" and date >= \"2024-01-01\"')"
   ]
  },
  {
   "cell_type": "code",
   "execution_count": 18,
   "id": "4ea65fbe-8889-4440-bdc2-2088478351e3",
   "metadata": {},
   "outputs": [
    {
     "data": {
      "text/html": [
       "<div>\n",
       "<style scoped>\n",
       "    .dataframe tbody tr th:only-of-type {\n",
       "        vertical-align: middle;\n",
       "    }\n",
       "\n",
       "    .dataframe tbody tr th {\n",
       "        vertical-align: top;\n",
       "    }\n",
       "\n",
       "    .dataframe thead th {\n",
       "        text-align: right;\n",
       "    }\n",
       "</style>\n",
       "<table border=\"1\" class=\"dataframe\">\n",
       "  <thead>\n",
       "    <tr style=\"text-align: right;\">\n",
       "      <th></th>\n",
       "      <th>age</th>\n",
       "    </tr>\n",
       "  </thead>\n",
       "  <tbody>\n",
       "    <tr>\n",
       "      <th>0.25</th>\n",
       "      <td>34.0</td>\n",
       "    </tr>\n",
       "    <tr>\n",
       "      <th>0.30</th>\n",
       "      <td>38.0</td>\n",
       "    </tr>\n",
       "    <tr>\n",
       "      <th>0.35</th>\n",
       "      <td>41.0</td>\n",
       "    </tr>\n",
       "  </tbody>\n",
       "</table>\n",
       "</div>"
      ],
      "text/plain": [
       "       age\n",
       "0.25  34.0\n",
       "0.30  38.0\n",
       "0.35  41.0"
      ]
     },
     "execution_count": 18,
     "metadata": {},
     "output_type": "execute_result"
    }
   ],
   "source": [
    "df[['age']].quantile([0.25,0.3, 0.35])"
   ]
  },
  {
   "cell_type": "code",
   "execution_count": 19,
   "id": "445c85b3-5283-41a9-9ca3-91c099a5222e",
   "metadata": {},
   "outputs": [
    {
     "data": {
      "text/plain": [
       "age      50.970780\n",
       "grade    82.408342\n",
       "prob      0.466941\n",
       "Name: mean, dtype: float64"
      ]
     },
     "execution_count": 19,
     "metadata": {},
     "output_type": "execute_result"
    }
   ],
   "source": [
    "df[['age','grade','prob']].agg(['mean',\"std\"]).iloc[0]"
   ]
  },
  {
   "cell_type": "code",
   "execution_count": 20,
   "id": "acb1e15d-2724-4009-9a5a-4a3bc95fa210",
   "metadata": {},
   "outputs": [
    {
     "data": {
      "text/plain": [
       "<bound method DataFrame.nunique of          size\n",
       "0         big\n",
       "1         big\n",
       "2         big\n",
       "3      medium\n",
       "4         big\n",
       "...       ...\n",
       "49995     big\n",
       "49996  medium\n",
       "49997   small\n",
       "49998     big\n",
       "49999   small\n",
       "\n",
       "[50000 rows x 1 columns]>"
      ]
     },
     "execution_count": 20,
     "metadata": {},
     "output_type": "execute_result"
    }
   ],
   "source": [
    "df[['size']].nunique"
   ]
  },
  {
   "cell_type": "code",
   "execution_count": 21,
   "id": "d76a7127-7843-4f83-aa28-aedbde26d29e",
   "metadata": {},
   "outputs": [
    {
     "data": {
      "text/plain": [
       "size\n",
       "medium    16774\n",
       "big       16666\n",
       "small     16560\n",
       "Name: count, dtype: int64"
      ]
     },
     "execution_count": 21,
     "metadata": {},
     "output_type": "execute_result"
    }
   ],
   "source": [
    "df['size'].value_counts()"
   ]
  },
  {
   "cell_type": "markdown",
   "id": "865a2976-e31e-4984-b3e7-c79b984eab97",
   "metadata": {},
   "source": [
    "## Groupby"
   ]
  },
  {
   "cell_type": "code",
   "execution_count": 24,
   "id": "ccbfa7fe-218c-4e7d-b1a2-a5172e91036d",
   "metadata": {},
   "outputs": [],
   "source": [
    "df_agg = df.groupby('team')[['grade','prob']].agg(['mean', 'std'])"
   ]
  },
  {
   "cell_type": "code",
   "execution_count": 25,
   "id": "2641d3a6-ba44-4f18-bb7c-84d1cc1cbd5f",
   "metadata": {},
   "outputs": [
    {
     "data": {
      "text/html": [
       "<div>\n",
       "<style scoped>\n",
       "    .dataframe tbody tr th:only-of-type {\n",
       "        vertical-align: middle;\n",
       "    }\n",
       "\n",
       "    .dataframe tbody tr th {\n",
       "        vertical-align: top;\n",
       "    }\n",
       "\n",
       "    .dataframe thead tr th {\n",
       "        text-align: left;\n",
       "    }\n",
       "\n",
       "    .dataframe thead tr:last-of-type th {\n",
       "        text-align: right;\n",
       "    }\n",
       "</style>\n",
       "<table border=\"1\" class=\"dataframe\">\n",
       "  <thead>\n",
       "    <tr>\n",
       "      <th></th>\n",
       "      <th colspan=\"2\" halign=\"left\">grade</th>\n",
       "      <th colspan=\"2\" halign=\"left\">prob</th>\n",
       "    </tr>\n",
       "    <tr>\n",
       "      <th></th>\n",
       "      <th>mean</th>\n",
       "      <th>std</th>\n",
       "      <th>mean</th>\n",
       "      <th>std</th>\n",
       "    </tr>\n",
       "    <tr>\n",
       "      <th>team</th>\n",
       "      <th></th>\n",
       "      <th></th>\n",
       "      <th></th>\n",
       "      <th></th>\n",
       "    </tr>\n",
       "  </thead>\n",
       "  <tbody>\n",
       "    <tr>\n",
       "      <th>blue</th>\n",
       "      <td>82.47878</td>\n",
       "      <td>7.502601</td>\n",
       "      <td>0.509014</td>\n",
       "      <td>0.287375</td>\n",
       "    </tr>\n",
       "    <tr>\n",
       "      <th>green</th>\n",
       "      <td>82.37494</td>\n",
       "      <td>7.396862</td>\n",
       "      <td>0.429645</td>\n",
       "      <td>0.284609</td>\n",
       "    </tr>\n",
       "    <tr>\n",
       "      <th>red</th>\n",
       "      <td>82.34968</td>\n",
       "      <td>7.418476</td>\n",
       "      <td>0.500834</td>\n",
       "      <td>0.289893</td>\n",
       "    </tr>\n",
       "    <tr>\n",
       "      <th>yellow</th>\n",
       "      <td>82.42989</td>\n",
       "      <td>7.491316</td>\n",
       "      <td>0.428714</td>\n",
       "      <td>0.285885</td>\n",
       "    </tr>\n",
       "  </tbody>\n",
       "</table>\n",
       "</div>"
      ],
      "text/plain": [
       "           grade                prob          \n",
       "            mean       std      mean       std\n",
       "team                                          \n",
       "blue    82.47878  7.502601  0.509014  0.287375\n",
       "green   82.37494  7.396862  0.429645  0.284609\n",
       "red     82.34968  7.418476  0.500834  0.289893\n",
       "yellow  82.42989  7.491316  0.428714  0.285885"
      ]
     },
     "execution_count": 25,
     "metadata": {},
     "output_type": "execute_result"
    }
   ],
   "source": [
    "df_agg"
   ]
  },
  {
   "cell_type": "code",
   "execution_count": 29,
   "id": "8abe7f00-2a68-4570-8b6a-ad39691072d6",
   "metadata": {},
   "outputs": [
    {
     "data": {
      "text/plain": [
       "'std'"
      ]
     },
     "execution_count": 29,
     "metadata": {},
     "output_type": "execute_result"
    }
   ],
   "source": [
    "df_agg.columns[1][1]"
   ]
  },
  {
   "cell_type": "code",
   "execution_count": null,
   "id": "98f5922e-e5ef-4b2e-ab58-e1acdc7cd723",
   "metadata": {},
   "outputs": [],
   "source": [
    "for c in df_agg.columns:\n",
    "    print(c)"
   ]
  },
  {
   "cell_type": "code",
   "execution_count": 30,
   "id": "e2fa010a-5e26-4c6c-a1e1-c8ba889eb85b",
   "metadata": {},
   "outputs": [
    {
     "data": {
      "text/plain": [
       "['grade_mean', 'grade_std', 'prob_mean', 'prob_std']"
      ]
     },
     "execution_count": 30,
     "metadata": {},
     "output_type": "execute_result"
    }
   ],
   "source": [
    "df_agg.columns = ['_'.join(c) for c in df_agg.columns]"
   ]
  },
  {
   "cell_type": "code",
   "execution_count": 35,
   "id": "223b57b4-9895-4173-86ce-b98f69a1342e",
   "metadata": {},
   "outputs": [
    {
     "data": {
      "text/plain": [
       "82.3749398467787"
      ]
     },
     "execution_count": 35,
     "metadata": {},
     "output_type": "execute_result"
    }
   ],
   "source": [
    "df_agg.loc['green']['grade','mean']"
   ]
  },
  {
   "cell_type": "markdown",
   "id": "fd549eed-5811-4f95-b54f-f8a0b99e9265",
   "metadata": {},
   "source": [
    "## calculated columns"
   ]
  },
  {
   "cell_type": "code",
   "execution_count": null,
   "id": "312924d7-8c5f-4e9b-bb10-5632ed275495",
   "metadata": {},
   "outputs": [],
   "source": []
  }
 ],
 "metadata": {
  "kernelspec": {
   "display_name": "Python 3 (ipykernel)",
   "language": "python",
   "name": "python3"
  },
  "language_info": {
   "codemirror_mode": {
    "name": "ipython",
    "version": 3
   },
   "file_extension": ".py",
   "mimetype": "text/x-python",
   "name": "python",
   "nbconvert_exporter": "python",
   "pygments_lexer": "ipython3",
   "version": "3.10.12"
  }
 },
 "nbformat": 4,
 "nbformat_minor": 5
}
