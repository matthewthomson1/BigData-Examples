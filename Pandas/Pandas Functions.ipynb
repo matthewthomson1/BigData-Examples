{
 "cells": [
  {
   "cell_type": "markdown",
   "id": "2ea18a2b-ef15-44af-b630-f0d138a2edd4",
   "metadata": {},
   "source": [
    "# Imports"
   ]
  },
  {
   "cell_type": "code",
   "execution_count": 5,
   "id": "e7106092-6f9a-440f-acb4-345caeb9e43d",
   "metadata": {},
   "outputs": [],
   "source": [
    "import numpy as np\n",
    "import matplotlib\n",
    "import matplotlib.pyplot as plt\n",
    "import pandas as pd\n"
   ]
  },
  {
   "cell_type": "code",
   "execution_count": 6,
   "id": "bb417586-ea09-457b-a328-bba7ca6f238c",
   "metadata": {},
   "outputs": [],
   "source": [
    "def showit(x):\n",
    "    print(type(x))\n",
    "    print()\n",
    "    print(x)"
   ]
  },
  {
   "cell_type": "markdown",
   "id": "35736128-913e-4775-a6af-0a51af86fb8c",
   "metadata": {},
   "source": [
    "## Read in the data"
   ]
  },
  {
   "cell_type": "code",
   "execution_count": 8,
   "id": "fa4ddd30-840b-4601-be61-3e9a7c7b2957",
   "metadata": {},
   "outputs": [],
   "source": [
    "df = pd.read_csv(\"sample.csv\")"
   ]
  },
  {
   "cell_type": "code",
   "execution_count": 9,
   "id": "18945de6-8eef-4b7b-9313-0f9fa2f44f55",
   "metadata": {},
   "outputs": [
    {
     "data": {
      "text/html": [
       "<div>\n",
       "<style scoped>\n",
       "    .dataframe tbody tr th:only-of-type {\n",
       "        vertical-align: middle;\n",
       "    }\n",
       "\n",
       "    .dataframe tbody tr th {\n",
       "        vertical-align: top;\n",
       "    }\n",
       "\n",
       "    .dataframe thead th {\n",
       "        text-align: right;\n",
       "    }\n",
       "</style>\n",
       "<table border=\"1\" class=\"dataframe\">\n",
       "  <thead>\n",
       "    <tr style=\"text-align: right;\">\n",
       "      <th></th>\n",
       "      <th>size</th>\n",
       "      <th>age</th>\n",
       "      <th>team</th>\n",
       "      <th>win</th>\n",
       "      <th>date</th>\n",
       "      <th>prob</th>\n",
       "      <th>grade</th>\n",
       "    </tr>\n",
       "  </thead>\n",
       "  <tbody>\n",
       "    <tr>\n",
       "      <th>33553</th>\n",
       "      <td>medium</td>\n",
       "      <td>70</td>\n",
       "      <td>red</td>\n",
       "      <td>False</td>\n",
       "      <td>2023-12-03</td>\n",
       "      <td>0.507487</td>\n",
       "      <td>79.609314</td>\n",
       "    </tr>\n",
       "    <tr>\n",
       "      <th>9427</th>\n",
       "      <td>big</td>\n",
       "      <td>26</td>\n",
       "      <td>blue</td>\n",
       "      <td>False</td>\n",
       "      <td>2023-10-23</td>\n",
       "      <td>0.505165</td>\n",
       "      <td>69.569005</td>\n",
       "    </tr>\n",
       "    <tr>\n",
       "      <th>199</th>\n",
       "      <td>small</td>\n",
       "      <td>50</td>\n",
       "      <td>red</td>\n",
       "      <td>True</td>\n",
       "      <td>2023-08-23</td>\n",
       "      <td>0.847352</td>\n",
       "      <td>88.857845</td>\n",
       "    </tr>\n",
       "    <tr>\n",
       "      <th>12447</th>\n",
       "      <td>big</td>\n",
       "      <td>62</td>\n",
       "      <td>red</td>\n",
       "      <td>True</td>\n",
       "      <td>2023-12-02</td>\n",
       "      <td>0.530678</td>\n",
       "      <td>90.695167</td>\n",
       "    </tr>\n",
       "    <tr>\n",
       "      <th>39489</th>\n",
       "      <td>medium</td>\n",
       "      <td>39</td>\n",
       "      <td>blue</td>\n",
       "      <td>False</td>\n",
       "      <td>2023-11-23</td>\n",
       "      <td>0.518361</td>\n",
       "      <td>80.950326</td>\n",
       "    </tr>\n",
       "  </tbody>\n",
       "</table>\n",
       "</div>"
      ],
      "text/plain": [
       "         size  age  team    win        date      prob      grade\n",
       "33553  medium   70   red  False  2023-12-03  0.507487  79.609314\n",
       "9427      big   26  blue  False  2023-10-23  0.505165  69.569005\n",
       "199     small   50   red   True  2023-08-23  0.847352  88.857845\n",
       "12447     big   62   red   True  2023-12-02  0.530678  90.695167\n",
       "39489  medium   39  blue  False  2023-11-23  0.518361  80.950326"
      ]
     },
     "execution_count": 9,
     "metadata": {},
     "output_type": "execute_result"
    }
   ],
   "source": [
    "df.sample(frac=.0001, random_state=42)"
   ]
  },
  {
   "cell_type": "code",
   "execution_count": 10,
   "id": "f2e47834-b2ad-4fca-9167-58e7b02a559d",
   "metadata": {},
   "outputs": [
    {
     "data": {
      "text/plain": [
       "Index(['size', 'age', 'team', 'win', 'date', 'prob', 'grade'], dtype='object')"
      ]
     },
     "execution_count": 10,
     "metadata": {},
     "output_type": "execute_result"
    }
   ],
   "source": [
    "df.columns"
   ]
  },
  {
   "cell_type": "code",
   "execution_count": 15,
   "id": "32608639-7777-4e43-adfe-358daa8e274d",
   "metadata": {},
   "outputs": [
    {
     "data": {
      "text/plain": [
       "RangeIndex(start=0, stop=50000, step=1)"
      ]
     },
     "execution_count": 15,
     "metadata": {},
     "output_type": "execute_result"
    }
   ],
   "source": [
    "df.index"
   ]
  },
  {
   "cell_type": "code",
   "execution_count": 13,
   "id": "f17f3638-a425-4e79-91c8-5e59f40b88df",
   "metadata": {},
   "outputs": [
    {
     "name": "stdout",
     "output_type": "stream",
     "text": [
      "<class 'pandas.core.frame.DataFrame'>\n",
      "RangeIndex: 50000 entries, 0 to 49999\n",
      "Data columns (total 7 columns):\n",
      " #   Column  Non-Null Count  Dtype  \n",
      "---  ------  --------------  -----  \n",
      " 0   size    50000 non-null  object \n",
      " 1   age     50000 non-null  int64  \n",
      " 2   team    50000 non-null  object \n",
      " 3   win     50000 non-null  bool   \n",
      " 4   date    50000 non-null  object \n",
      " 5   prob    50000 non-null  float64\n",
      " 6   grade   50000 non-null  float64\n",
      "dtypes: bool(1), float64(2), int64(1), object(3)\n",
      "memory usage: 2.3+ MB\n"
     ]
    }
   ],
   "source": [
    "df.info()"
   ]
  },
  {
   "cell_type": "code",
   "execution_count": 20,
   "id": "01370856-a35e-41d5-ae65-fa18dd3f48a4",
   "metadata": {},
   "outputs": [
    {
     "data": {
      "text/html": [
       "<div>\n",
       "<style scoped>\n",
       "    .dataframe tbody tr th:only-of-type {\n",
       "        vertical-align: middle;\n",
       "    }\n",
       "\n",
       "    .dataframe tbody tr th {\n",
       "        vertical-align: top;\n",
       "    }\n",
       "\n",
       "    .dataframe thead th {\n",
       "        text-align: right;\n",
       "    }\n",
       "</style>\n",
       "<table border=\"1\" class=\"dataframe\">\n",
       "  <thead>\n",
       "    <tr style=\"text-align: right;\">\n",
       "      <th></th>\n",
       "      <th>age</th>\n",
       "      <th>prob</th>\n",
       "      <th>grade</th>\n",
       "    </tr>\n",
       "  </thead>\n",
       "  <tbody>\n",
       "    <tr>\n",
       "      <th>count</th>\n",
       "      <td>50000.00000</td>\n",
       "      <td>50000.000000</td>\n",
       "      <td>50000.000000</td>\n",
       "    </tr>\n",
       "    <tr>\n",
       "      <th>mean</th>\n",
       "      <td>50.97078</td>\n",
       "      <td>0.466941</td>\n",
       "      <td>82.408342</td>\n",
       "    </tr>\n",
       "    <tr>\n",
       "      <th>std</th>\n",
       "      <td>19.32833</td>\n",
       "      <td>0.289434</td>\n",
       "      <td>7.452343</td>\n",
       "    </tr>\n",
       "    <tr>\n",
       "      <th>min</th>\n",
       "      <td>18.00000</td>\n",
       "      <td>0.000000</td>\n",
       "      <td>51.414152</td>\n",
       "    </tr>\n",
       "    <tr>\n",
       "      <th>25%</th>\n",
       "      <td>34.00000</td>\n",
       "      <td>0.215220</td>\n",
       "      <td>77.383642</td>\n",
       "    </tr>\n",
       "    <tr>\n",
       "      <th>50%</th>\n",
       "      <td>51.00000</td>\n",
       "      <td>0.467223</td>\n",
       "      <td>82.391035</td>\n",
       "    </tr>\n",
       "    <tr>\n",
       "      <th>75%</th>\n",
       "      <td>68.00000</td>\n",
       "      <td>0.714926</td>\n",
       "      <td>87.382418</td>\n",
       "    </tr>\n",
       "    <tr>\n",
       "      <th>max</th>\n",
       "      <td>84.00000</td>\n",
       "      <td>1.000000</td>\n",
       "      <td>113.617684</td>\n",
       "    </tr>\n",
       "  </tbody>\n",
       "</table>\n",
       "</div>"
      ],
      "text/plain": [
       "               age          prob         grade\n",
       "count  50000.00000  50000.000000  50000.000000\n",
       "mean      50.97078      0.466941     82.408342\n",
       "std       19.32833      0.289434      7.452343\n",
       "min       18.00000      0.000000     51.414152\n",
       "25%       34.00000      0.215220     77.383642\n",
       "50%       51.00000      0.467223     82.391035\n",
       "75%       68.00000      0.714926     87.382418\n",
       "max       84.00000      1.000000    113.617684"
      ]
     },
     "execution_count": 20,
     "metadata": {},
     "output_type": "execute_result"
    }
   ],
   "source": [
    "df.describe()"
   ]
  },
  {
   "cell_type": "code",
   "execution_count": 21,
   "id": "c9982204-7cdf-40c8-8db8-fe062f05085d",
   "metadata": {},
   "outputs": [
    {
     "data": {
      "text/html": [
       "<div>\n",
       "<style scoped>\n",
       "    .dataframe tbody tr th:only-of-type {\n",
       "        vertical-align: middle;\n",
       "    }\n",
       "\n",
       "    .dataframe tbody tr th {\n",
       "        vertical-align: top;\n",
       "    }\n",
       "\n",
       "    .dataframe thead th {\n",
       "        text-align: right;\n",
       "    }\n",
       "</style>\n",
       "<table border=\"1\" class=\"dataframe\">\n",
       "  <thead>\n",
       "    <tr style=\"text-align: right;\">\n",
       "      <th></th>\n",
       "      <th>team</th>\n",
       "    </tr>\n",
       "  </thead>\n",
       "  <tbody>\n",
       "    <tr>\n",
       "      <th>count</th>\n",
       "      <td>50000</td>\n",
       "    </tr>\n",
       "    <tr>\n",
       "      <th>unique</th>\n",
       "      <td>4</td>\n",
       "    </tr>\n",
       "    <tr>\n",
       "      <th>top</th>\n",
       "      <td>green</td>\n",
       "    </tr>\n",
       "    <tr>\n",
       "      <th>freq</th>\n",
       "      <td>12583</td>\n",
       "    </tr>\n",
       "  </tbody>\n",
       "</table>\n",
       "</div>"
      ],
      "text/plain": [
       "         team\n",
       "count   50000\n",
       "unique      4\n",
       "top     green\n",
       "freq    12583"
      ]
     },
     "execution_count": 21,
     "metadata": {},
     "output_type": "execute_result"
    }
   ],
   "source": [
    "df[['team']].describe()"
   ]
  },
  {
   "cell_type": "code",
   "execution_count": 22,
   "id": "84aabf9b-c988-4cb0-9b54-1909a9e3f56b",
   "metadata": {},
   "outputs": [
    {
     "data": {
      "text/plain": [
       "(50000, 7)"
      ]
     },
     "execution_count": 22,
     "metadata": {},
     "output_type": "execute_result"
    }
   ],
   "source": [
    "df.shape"
   ]
  }
 ],
 "metadata": {
  "kernelspec": {
   "display_name": "Python 3 (ipykernel)",
   "language": "python",
   "name": "python3"
  },
  "language_info": {
   "codemirror_mode": {
    "name": "ipython",
    "version": 3
   },
   "file_extension": ".py",
   "mimetype": "text/x-python",
   "name": "python",
   "nbconvert_exporter": "python",
   "pygments_lexer": "ipython3",
   "version": "3.10.12"
  }
 },
 "nbformat": 4,
 "nbformat_minor": 5
}
