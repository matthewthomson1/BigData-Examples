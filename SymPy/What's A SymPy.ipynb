{
 "cells": [
  {
   "cell_type": "markdown",
   "id": "b6642335-2244-4ae2-a29d-4c3205f14043",
   "metadata": {},
   "source": [
    "# What is SymPy??????"
   ]
  },
  {
   "cell_type": "markdown",
   "id": "5b8c8d61-22a6-481d-a77f-c0d63b7bc3cb",
   "metadata": {},
   "source": [
    "## THE PROBLEM"
   ]
  },
  {
   "cell_type": "code",
   "execution_count": null,
   "id": "c81ede50-6ffd-4643-98b7-211536e1852a",
   "metadata": {},
   "outputs": [],
   "source": [
    "answer = .1+.2"
   ]
  },
  {
   "cell_type": "code",
   "execution_count": 13,
   "id": "1d7499f0-1084-4a95-84a3-ed5106335cd8",
   "metadata": {},
   "outputs": [
    {
     "name": "stdout",
     "output_type": "stream",
     "text": [
      "0.30000000000000004\n"
     ]
    }
   ],
   "source": [
    "print(answer)"
   ]
  },
  {
   "cell_type": "markdown",
   "id": "e57d7157-9400-4d30-afd5-f5dbf0cbe77f",
   "metadata": {},
   "source": [
    "## SymPy to the rescue"
   ]
  },
  {
   "cell_type": "code",
   "execution_count": 14,
   "id": "e0c2cfa6-4fb4-44c5-a57c-8a5be46550e9",
   "metadata": {},
   "outputs": [],
   "source": [
    "import sympy as sp"
   ]
  },
  {
   "cell_type": "code",
   "execution_count": 17,
   "id": "75e1d849-36ae-44b0-91c0-fc28fec72b2a",
   "metadata": {},
   "outputs": [
    {
     "data": {
      "text/plain": [
       "'1.12'"
      ]
     },
     "execution_count": 17,
     "metadata": {},
     "output_type": "execute_result"
    }
   ],
   "source": [
    "sp.__version__"
   ]
  },
  {
   "cell_type": "code",
   "execution_count": 18,
   "id": "365f93cd-4afc-4d7c-a4f5-a7ebd44fb147",
   "metadata": {},
   "outputs": [],
   "source": [
    "tenth, twotenth = sp.symbols(\"tenth twotenth\")"
   ]
  },
  {
   "cell_type": "code",
   "execution_count": 19,
   "id": "8003f847-7ef6-45c6-bf74-8e6c4c1718aa",
   "metadata": {},
   "outputs": [],
   "source": [
    "tenth = sp.Rational(1,10)"
   ]
  },
  {
   "cell_type": "code",
   "execution_count": 28,
   "id": "1a77a73b-54db-4d31-9ac4-fe0f2195aa6d",
   "metadata": {},
   "outputs": [
    {
     "data": {
      "text/latex": [
       "$\\displaystyle \\frac{1}{10}$"
      ],
      "text/plain": [
       "1/10"
      ]
     },
     "metadata": {},
     "output_type": "display_data"
    }
   ],
   "source": [
    "display(tenth)"
   ]
  },
  {
   "cell_type": "code",
   "execution_count": 29,
   "id": "8111305f-cfcb-47ef-8eb2-ce7eaf82bdc5",
   "metadata": {},
   "outputs": [],
   "source": [
    "twotenth = sp.Rational(2,10)"
   ]
  },
  {
   "cell_type": "code",
   "execution_count": 30,
   "id": "15dfff13-201a-44db-947e-818a765791c3",
   "metadata": {},
   "outputs": [
    {
     "data": {
      "text/latex": [
       "$\\displaystyle \\frac{1}{5}$"
      ],
      "text/plain": [
       "1/5"
      ]
     },
     "execution_count": 30,
     "metadata": {},
     "output_type": "execute_result"
    }
   ],
   "source": [
    "twotenth"
   ]
  },
  {
   "cell_type": "code",
   "execution_count": 38,
   "id": "a06186ed-79cd-486f-9936-e50ef58a0ad5",
   "metadata": {},
   "outputs": [
    {
     "data": {
      "text/latex": [
       "$\\displaystyle \\frac{3}{10}$"
      ],
      "text/plain": [
       "3/10"
      ]
     },
     "execution_count": 38,
     "metadata": {},
     "output_type": "execute_result"
    }
   ],
   "source": [
    "tenth + twotenth"
   ]
  },
  {
   "cell_type": "code",
   "execution_count": 41,
   "id": "f5bf7be3-2ac8-4f19-9aa7-ad4f23875442",
   "metadata": {},
   "outputs": [
    {
     "data": {
      "text/latex": [
       "$\\displaystyle \\frac{5^{\\frac{9}{10}}}{5}$"
      ],
      "text/plain": [
       "5**(9/10)/5"
      ]
     },
     "execution_count": 41,
     "metadata": {},
     "output_type": "execute_result"
    }
   ],
   "source": [
    "twotenth**tenth"
   ]
  },
  {
   "cell_type": "code",
   "execution_count": 42,
   "id": "074b3df7-dee0-4ab8-8453-08e8f616e5f9",
   "metadata": {
    "scrolled": true
   },
   "outputs": [
    {
     "data": {
      "text/latex": [
       "$\\displaystyle \\frac{1}{50}$"
      ],
      "text/plain": [
       "1/50"
      ]
     },
     "execution_count": 42,
     "metadata": {},
     "output_type": "execute_result"
    }
   ],
   "source": [
    "tenth*twotenth"
   ]
  },
  {
   "cell_type": "code",
   "execution_count": 44,
   "id": "63d6d194-9bca-4e64-b373-7868cf81f445",
   "metadata": {},
   "outputs": [
    {
     "data": {
      "text/latex": [
       "$\\displaystyle \\frac{1}{3410}$"
      ],
      "text/plain": [
       "1/3410"
      ]
     },
     "execution_count": 44,
     "metadata": {},
     "output_type": "execute_result"
    }
   ],
   "source": [
    "tenth/341"
   ]
  },
  {
   "cell_type": "markdown",
   "id": "4d94d3fd-1f90-4991-8538-3758e8cb67d2",
   "metadata": {},
   "source": [
    "## Simple Algorithm"
   ]
  },
  {
   "cell_type": "code",
   "execution_count": 46,
   "id": "b851dc57-31fa-4266-a4a0-1cf102aebcca",
   "metadata": {},
   "outputs": [],
   "source": [
    "x, y, z = sp.symbols(\"x y z\")"
   ]
  },
  {
   "cell_type": "code",
   "execution_count": 47,
   "id": "ae04d3a8-735c-48ba-8830-1e9b194be36d",
   "metadata": {},
   "outputs": [],
   "source": [
    "formula = 5*x**2 + 8*y - z"
   ]
  },
  {
   "cell_type": "code",
   "execution_count": 48,
   "id": "6a9a414a-3fa7-43dd-97a9-9d67ab4952b6",
   "metadata": {},
   "outputs": [
    {
     "data": {
      "text/latex": [
       "$\\displaystyle 5 x^{2} + 8 y - z$"
      ],
      "text/plain": [
       "5*x**2 + 8*y - z"
      ]
     },
     "execution_count": 48,
     "metadata": {},
     "output_type": "execute_result"
    }
   ],
   "source": [
    "formula"
   ]
  },
  {
   "cell_type": "code",
   "execution_count": 49,
   "id": "49201b25-0e98-450a-9e8f-b274e7fb4e1e",
   "metadata": {},
   "outputs": [
    {
     "data": {
      "text/latex": [
       "$\\displaystyle z \\left(5 x^{2} + 8 y - z\\right)$"
      ],
      "text/plain": [
       "z*(5*x**2 + 8*y - z)"
      ]
     },
     "execution_count": 49,
     "metadata": {},
     "output_type": "execute_result"
    }
   ],
   "source": [
    "formula*z"
   ]
  },
  {
   "cell_type": "code",
   "execution_count": 57,
   "id": "6fabea64-c6fa-464c-8016-75cdb64737b1",
   "metadata": {},
   "outputs": [
    {
     "data": {
      "text/latex": [
       "$\\displaystyle 5 x^{2} z + 8 y z - z^{2}$"
      ],
      "text/plain": [
       "5*x**2*z + 8*y*z - z**2"
      ]
     },
     "execution_count": 57,
     "metadata": {},
     "output_type": "execute_result"
    }
   ],
   "source": [
    "sp.expand(formula*z)"
   ]
  },
  {
   "cell_type": "code",
   "execution_count": 60,
   "id": "a1db9701-8353-44b1-bfde-5647c24d7ab2",
   "metadata": {},
   "outputs": [
    {
     "data": {
      "text/latex": [
       "$\\displaystyle \\left(5 x^{2} + 8 y - z\\right)^{0.5}$"
      ],
      "text/plain": [
       "(5*x**2 + 8*y - z)**0.5"
      ]
     },
     "execution_count": 60,
     "metadata": {},
     "output_type": "execute_result"
    }
   ],
   "source": [
    "formula**(1/2)"
   ]
  },
  {
   "cell_type": "code",
   "execution_count": 62,
   "id": "dc3bb99b-64b6-49c9-8b03-752fe48c8139",
   "metadata": {},
   "outputs": [
    {
     "data": {
      "text/latex": [
       "$\\displaystyle 4255 x^{2} + 6808 y - 851 z$"
      ],
      "text/plain": [
       "4255*x**2 + 6808*y - 851*z"
      ]
     },
     "execution_count": 62,
     "metadata": {},
     "output_type": "execute_result"
    }
   ],
   "source": [
    "formula*851"
   ]
  },
  {
   "cell_type": "code",
   "execution_count": 64,
   "id": "b0066771-4aeb-4791-8ed7-7d6a56d5a628",
   "metadata": {},
   "outputs": [],
   "source": [
    "f = sp.lambdify((x,y,z), formula)"
   ]
  },
  {
   "cell_type": "code",
   "execution_count": 67,
   "id": "bbd70805-ad5c-49b5-af26-914b71f2ea54",
   "metadata": {},
   "outputs": [
    {
     "data": {
      "text/plain": [
       "18"
      ]
     },
     "execution_count": 67,
     "metadata": {},
     "output_type": "execute_result"
    }
   ],
   "source": [
    "f(1,2,3)"
   ]
  },
  {
   "cell_type": "code",
   "execution_count": 71,
   "id": "7c6902fc-4a97-4f6e-8c35-7935e43be985",
   "metadata": {},
   "outputs": [],
   "source": [
    "formula = .1 + .2"
   ]
  },
  {
   "cell_type": "code",
   "execution_count": 72,
   "id": "ad36154a-b73c-4853-8e5a-0157175ef1bb",
   "metadata": {},
   "outputs": [],
   "source": [
    "f = sp.lambdify(x,formula)"
   ]
  },
  {
   "cell_type": "code",
   "execution_count": 73,
   "id": "9966f0cc-96d7-4098-9861-13ca11a1e954",
   "metadata": {},
   "outputs": [
    {
     "data": {
      "text/plain": [
       "0.3"
      ]
     },
     "execution_count": 73,
     "metadata": {},
     "output_type": "execute_result"
    }
   ],
   "source": [
    "f(1)"
   ]
  },
  {
   "cell_type": "code",
   "execution_count": null,
   "id": "fe84f8b6-8a97-40cf-8f92-b3ac0a902476",
   "metadata": {},
   "outputs": [],
   "source": []
  }
 ],
 "metadata": {
  "kernelspec": {
   "display_name": "Python 3 (ipykernel)",
   "language": "python",
   "name": "python3"
  },
  "language_info": {
   "codemirror_mode": {
    "name": "ipython",
    "version": 3
   },
   "file_extension": ".py",
   "mimetype": "text/x-python",
   "name": "python",
   "nbconvert_exporter": "python",
   "pygments_lexer": "ipython3",
   "version": "3.10.12"
  }
 },
 "nbformat": 4,
 "nbformat_minor": 5
}
