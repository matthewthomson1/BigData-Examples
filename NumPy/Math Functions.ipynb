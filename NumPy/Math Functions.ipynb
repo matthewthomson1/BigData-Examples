{
 "cells": [
  {
   "cell_type": "markdown",
   "id": "8359261c-0904-4dc6-a40c-d2a745483060",
   "metadata": {},
   "source": [
    "## Operations of Python Lists"
   ]
  },
  {
   "cell_type": "code",
   "execution_count": 1,
   "id": "1499e265-df70-4e0a-8d1c-5674cd3a6484",
   "metadata": {},
   "outputs": [
    {
     "name": "stdout",
     "output_type": "stream",
     "text": [
      "np version:\t1.26.1\n"
     ]
    }
   ],
   "source": [
    "import numpy as np\n",
    "print(\"np version:\\t\" + np.__version__)"
   ]
  },
  {
   "cell_type": "code",
   "execution_count": 2,
   "id": "637f5530-2ed0-48de-998e-ebc227f54a5b",
   "metadata": {},
   "outputs": [],
   "source": [
    "p = [1,2,3,4,5,6]"
   ]
  },
  {
   "cell_type": "code",
   "execution_count": 4,
   "id": "5f829062-cd63-4016-98aa-4721e7bfed5e",
   "metadata": {},
   "outputs": [
    {
     "name": "stdout",
     "output_type": "stream",
     "text": [
      "<class 'list'>\n",
      "[1, 2, 3, 4, 5, 6]\n"
     ]
    }
   ],
   "source": [
    "print(type(p))\n",
    "print(p)"
   ]
  },
  {
   "cell_type": "code",
   "execution_count": 5,
   "id": "1c029f5b-adb0-4caf-889a-27fe9e0976af",
   "metadata": {},
   "outputs": [
    {
     "name": "stdout",
     "output_type": "stream",
     "text": [
      "[1, 2, 3, 4, 5, 6, 1, 2, 3, 4, 5, 6, 1, 2, 3, 4, 5, 6]\n"
     ]
    }
   ],
   "source": [
    "print(p*3)"
   ]
  },
  {
   "cell_type": "code",
   "execution_count": 12,
   "id": "a9e4cccd-820a-4bb4-9816-2ee5b3d55774",
   "metadata": {},
   "outputs": [
    {
     "name": "stdout",
     "output_type": "stream",
     "text": [
      "<class 'numpy.ndarray'>\n",
      "[1 2 3 4 5 6]\n"
     ]
    }
   ],
   "source": [
    "np_arr = np.array(p)\n",
    "print(type(np_arr))\n",
    "print(np_arr)"
   ]
  },
  {
   "cell_type": "code",
   "execution_count": 13,
   "id": "ec150157-3059-4c53-87c0-45dcb98ba1a4",
   "metadata": {},
   "outputs": [
    {
     "name": "stdout",
     "output_type": "stream",
     "text": [
      "[ 3  6  9 12 15 18]\n"
     ]
    }
   ],
   "source": [
    "print(np_arr*3)"
   ]
  },
  {
   "cell_type": "markdown",
   "id": "4cf04c8a-af1a-494a-b4ed-e60aee87ae74",
   "metadata": {},
   "source": [
    "## Functions"
   ]
  },
  {
   "cell_type": "code",
   "execution_count": 8,
   "id": "4250e126-8331-469b-8c26-42b2be6281ff",
   "metadata": {},
   "outputs": [],
   "source": [
    "x = np.arange(15)"
   ]
  },
  {
   "cell_type": "code",
   "execution_count": 9,
   "id": "8fcd03b0-4ae1-442a-acdd-bf36a5c62429",
   "metadata": {},
   "outputs": [
    {
     "name": "stdout",
     "output_type": "stream",
     "text": [
      "[ 0  1  2  3  4  5  6  7  8  9 10 11 12 13 14]\n"
     ]
    }
   ],
   "source": [
    "print(x)"
   ]
  },
  {
   "cell_type": "code",
   "execution_count": 10,
   "id": "589e2ba2-de54-4e45-9ac7-acdcaee301c3",
   "metadata": {},
   "outputs": [],
   "source": [
    "y = x**2 + 5"
   ]
  },
  {
   "cell_type": "code",
   "execution_count": 11,
   "id": "4f0aaab8-e70f-497d-8ad6-ec775de1fa8e",
   "metadata": {
    "scrolled": true
   },
   "outputs": [
    {
     "name": "stdout",
     "output_type": "stream",
     "text": [
      "[  5   6   9  14  21  30  41  54  69  86 105 126 149 174 201]\n"
     ]
    }
   ],
   "source": [
    "print(y)"
   ]
  },
  {
   "cell_type": "code",
   "execution_count": 14,
   "id": "9acfda54-04b8-4ebd-bed3-5ba11d69608f",
   "metadata": {},
   "outputs": [],
   "source": [
    "def f(x):\n",
    "    return -4 * x**3 + 2*x**2 + 65"
   ]
  },
  {
   "cell_type": "markdown",
   "id": "19402418-cf61-4013-ae0b-f85ae8a20b84",
   "metadata": {},
   "source": [
    "y = f(x)\n",
    "print(y)"
   ]
  },
  {
   "cell_type": "markdown",
   "id": "62c2c5f8-1b68-4590-9ef2-60149f8344ec",
   "metadata": {},
   "source": [
    "## Cool vector stuff"
   ]
  },
  {
   "cell_type": "code",
   "execution_count": 20,
   "id": "39d4fda4-888b-4e8d-b80d-c07e57e6cd0f",
   "metadata": {},
   "outputs": [
    {
     "name": "stdout",
     "output_type": "stream",
     "text": [
      "[[ 0.  1.  2.]\n",
      " [ 3.  4.  5.]\n",
      " [ 6.  7.  8.]\n",
      " [ 9. 10. 11.]]\n"
     ]
    }
   ],
   "source": [
    "x = np.arange(12, dtype=float).reshape(4,3)\n",
    "print(x)"
   ]
  },
  {
   "cell_type": "code",
   "execution_count": 23,
   "id": "31fcbaab-7472-4b90-8ed0-ddc191449b88",
   "metadata": {},
   "outputs": [
    {
     "name": "stdout",
     "output_type": "stream",
     "text": [
      "[-4.  6.  3.]\n"
     ]
    }
   ],
   "source": [
    "y = np.array([-4,6,3],dtype=float)\n",
    "print(y)"
   ]
  },
  {
   "cell_type": "code",
   "execution_count": 24,
   "id": "a920eba6-79f9-4204-8576-982b14cb3fe7",
   "metadata": {},
   "outputs": [
    {
     "name": "stdout",
     "output_type": "stream",
     "text": [
      "[[-4.  7.  5.]\n",
      " [-1. 10.  8.]\n",
      " [ 2. 13. 11.]\n",
      " [ 5. 16. 14.]]\n"
     ]
    }
   ],
   "source": [
    "print(x+y)"
   ]
  },
  {
   "cell_type": "code",
   "execution_count": 25,
   "id": "a7f6e526-4be8-4137-8d5c-b4ee0d267993",
   "metadata": {},
   "outputs": [
    {
     "name": "stdout",
     "output_type": "stream",
     "text": [
      "[[ -0.   6.   6.]\n",
      " [-12.  24.  15.]\n",
      " [-24.  42.  24.]\n",
      " [-36.  60.  33.]]\n"
     ]
    }
   ],
   "source": [
    "print(x*y)"
   ]
  },
  {
   "cell_type": "code",
   "execution_count": 31,
   "id": "43da4bb9-3a4f-4f90-b705-ceaabca288b2",
   "metadata": {},
   "outputs": [],
   "source": [
    "z = np.arange(12,dtype=float).reshape(3,4)"
   ]
  },
  {
   "cell_type": "markdown",
   "id": "75c78255-c5fb-4e07-bf7b-a0a26d53e79e",
   "metadata": {},
   "source": [
    "## Linear Algebra"
   ]
  },
  {
   "cell_type": "markdown",
   "id": "5ea92afa-8d05-4f3a-ba3f-66c3bf9bd014",
   "metadata": {},
   "source": [
    "### Dot Product"
   ]
  },
  {
   "cell_type": "code",
   "execution_count": 26,
   "id": "243e2080-10ed-43ca-8aab-85343b5be3a3",
   "metadata": {},
   "outputs": [],
   "source": [
    "import numpy.matlib"
   ]
  },
  {
   "cell_type": "code",
   "execution_count": 33,
   "id": "ececfbf8-e179-44cf-b099-1fa01734483c",
   "metadata": {},
   "outputs": [
    {
     "name": "stdout",
     "output_type": "stream",
     "text": [
      "[[ 20.  23.  26.  29.]\n",
      " [ 56.  68.  80.  92.]\n",
      " [ 92. 113. 134. 155.]\n",
      " [128. 158. 188. 218.]]\n"
     ]
    }
   ],
   "source": [
    "print(np.dot(x,z))"
   ]
  },
  {
   "cell_type": "code",
   "execution_count": 34,
   "id": "02912561-ef15-41a1-a905-e75485986d84",
   "metadata": {},
   "outputs": [
    {
     "name": "stdout",
     "output_type": "stream",
     "text": [
      "506.0\n"
     ]
    }
   ],
   "source": [
    "print(np.vdot(x,z))"
   ]
  },
  {
   "cell_type": "markdown",
   "id": "250a4ce5-58e0-4095-8198-ff47264c3ed2",
   "metadata": {},
   "source": [
    "### Statistical Functions"
   ]
  },
  {
   "cell_type": "code",
   "execution_count": 35,
   "id": "c3bf7d6c-2450-449f-b14b-0c3a78670e7c",
   "metadata": {},
   "outputs": [
    {
     "data": {
      "text/plain": [
       "2.0"
      ]
     },
     "execution_count": 35,
     "metadata": {},
     "output_type": "execute_result"
    }
   ],
   "source": [
    "np.amax(x[0])"
   ]
  },
  {
   "cell_type": "code",
   "execution_count": 37,
   "id": "3a5be0ca-8ebe-499d-bd92-31e5758dd732",
   "metadata": {},
   "outputs": [
    {
     "name": "stdout",
     "output_type": "stream",
     "text": [
      "2.0\n",
      "5.0\n",
      "8.0\n",
      "11.0\n"
     ]
    }
   ],
   "source": [
    "for i in range(len(x)):\n",
    "    print(np.amax(x[i]))"
   ]
  }
 ],
 "metadata": {
  "kernelspec": {
   "display_name": "Python 3 (ipykernel)",
   "language": "python",
   "name": "python3"
  },
  "language_info": {
   "codemirror_mode": {
    "name": "ipython",
    "version": 3
   },
   "file_extension": ".py",
   "mimetype": "text/x-python",
   "name": "python",
   "nbconvert_exporter": "python",
   "pygments_lexer": "ipython3",
   "version": "3.10.12"
  }
 },
 "nbformat": 4,
 "nbformat_minor": 5
}
