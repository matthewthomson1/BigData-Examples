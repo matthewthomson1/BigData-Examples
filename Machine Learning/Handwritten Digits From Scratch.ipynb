{
 "cells": [
  {
   "cell_type": "markdown",
   "id": "81d317ca-5dc3-4360-bb01-87915e4b70fb",
   "metadata": {},
   "source": [
    "# Handwritten Digits From Scratch"
   ]
  },
  {
   "cell_type": "markdown",
   "id": "9708bcf3-bc49-4d38-9409-1ab3eb05b7c1",
   "metadata": {},
   "source": [
    "Video: https://www.youtube.com/watch?v=w8yWXqWQYmU&ab_channel=SamsonZhang\n",
    "\n",
    "Data: https://www.kaggle.com/code/wwsalmon/simple-mnist-nn-from-scratch-numpy-no-tf-keras/input?select=sample_submission.csv"
   ]
  },
  {
   "cell_type": "markdown",
   "id": "43b61405-29a8-4bc5-9042-71c53d7dd100",
   "metadata": {},
   "source": [
    "![Network design](data/network.png)"
   ]
  },
  {
   "cell_type": "markdown",
   "id": "0da81aef-4e9f-4c76-8bc1-43e7c6a845ba",
   "metadata": {},
   "source": [
    "## Imports"
   ]
  },
  {
   "cell_type": "code",
   "execution_count": 1,
   "id": "3759ccca-133c-48d8-99ae-2c3cc6286206",
   "metadata": {},
   "outputs": [],
   "source": [
    "import numpy as np\n",
    "import pandas as pd\n",
    "import matplotlib.pyplot as plt"
   ]
  },
  {
   "cell_type": "markdown",
   "id": "32fbc876-2545-46e9-b9ac-1a09850d6609",
   "metadata": {},
   "source": [
    "## Read in data"
   ]
  },
  {
   "cell_type": "code",
   "execution_count": 6,
   "id": "2f2dc6f4-5a84-4061-ae99-6cec2dd6de9d",
   "metadata": {},
   "outputs": [],
   "source": [
    "data = pd.read_csv('data/train.csv')"
   ]
  },
  {
   "cell_type": "code",
   "execution_count": 9,
   "id": "4bc3b5c6-69ce-4695-b6b9-4bfbd8b7f2ef",
   "metadata": {},
   "outputs": [
    {
     "data": {
      "text/html": [
       "<div>\n",
       "<style scoped>\n",
       "    .dataframe tbody tr th:only-of-type {\n",
       "        vertical-align: middle;\n",
       "    }\n",
       "\n",
       "    .dataframe tbody tr th {\n",
       "        vertical-align: top;\n",
       "    }\n",
       "\n",
       "    .dataframe thead th {\n",
       "        text-align: right;\n",
       "    }\n",
       "</style>\n",
       "<table border=\"1\" class=\"dataframe\">\n",
       "  <thead>\n",
       "    <tr style=\"text-align: right;\">\n",
       "      <th></th>\n",
       "      <th>label</th>\n",
       "      <th>pixel0</th>\n",
       "      <th>pixel1</th>\n",
       "      <th>pixel2</th>\n",
       "      <th>pixel3</th>\n",
       "      <th>pixel4</th>\n",
       "      <th>pixel5</th>\n",
       "      <th>pixel6</th>\n",
       "      <th>pixel7</th>\n",
       "      <th>pixel8</th>\n",
       "      <th>...</th>\n",
       "      <th>pixel774</th>\n",
       "      <th>pixel775</th>\n",
       "      <th>pixel776</th>\n",
       "      <th>pixel777</th>\n",
       "      <th>pixel778</th>\n",
       "      <th>pixel779</th>\n",
       "      <th>pixel780</th>\n",
       "      <th>pixel781</th>\n",
       "      <th>pixel782</th>\n",
       "      <th>pixel783</th>\n",
       "    </tr>\n",
       "  </thead>\n",
       "  <tbody>\n",
       "    <tr>\n",
       "      <th>0</th>\n",
       "      <td>1</td>\n",
       "      <td>0</td>\n",
       "      <td>0</td>\n",
       "      <td>0</td>\n",
       "      <td>0</td>\n",
       "      <td>0</td>\n",
       "      <td>0</td>\n",
       "      <td>0</td>\n",
       "      <td>0</td>\n",
       "      <td>0</td>\n",
       "      <td>...</td>\n",
       "      <td>0</td>\n",
       "      <td>0</td>\n",
       "      <td>0</td>\n",
       "      <td>0</td>\n",
       "      <td>0</td>\n",
       "      <td>0</td>\n",
       "      <td>0</td>\n",
       "      <td>0</td>\n",
       "      <td>0</td>\n",
       "      <td>0</td>\n",
       "    </tr>\n",
       "    <tr>\n",
       "      <th>1</th>\n",
       "      <td>0</td>\n",
       "      <td>0</td>\n",
       "      <td>0</td>\n",
       "      <td>0</td>\n",
       "      <td>0</td>\n",
       "      <td>0</td>\n",
       "      <td>0</td>\n",
       "      <td>0</td>\n",
       "      <td>0</td>\n",
       "      <td>0</td>\n",
       "      <td>...</td>\n",
       "      <td>0</td>\n",
       "      <td>0</td>\n",
       "      <td>0</td>\n",
       "      <td>0</td>\n",
       "      <td>0</td>\n",
       "      <td>0</td>\n",
       "      <td>0</td>\n",
       "      <td>0</td>\n",
       "      <td>0</td>\n",
       "      <td>0</td>\n",
       "    </tr>\n",
       "    <tr>\n",
       "      <th>2</th>\n",
       "      <td>1</td>\n",
       "      <td>0</td>\n",
       "      <td>0</td>\n",
       "      <td>0</td>\n",
       "      <td>0</td>\n",
       "      <td>0</td>\n",
       "      <td>0</td>\n",
       "      <td>0</td>\n",
       "      <td>0</td>\n",
       "      <td>0</td>\n",
       "      <td>...</td>\n",
       "      <td>0</td>\n",
       "      <td>0</td>\n",
       "      <td>0</td>\n",
       "      <td>0</td>\n",
       "      <td>0</td>\n",
       "      <td>0</td>\n",
       "      <td>0</td>\n",
       "      <td>0</td>\n",
       "      <td>0</td>\n",
       "      <td>0</td>\n",
       "    </tr>\n",
       "    <tr>\n",
       "      <th>3</th>\n",
       "      <td>4</td>\n",
       "      <td>0</td>\n",
       "      <td>0</td>\n",
       "      <td>0</td>\n",
       "      <td>0</td>\n",
       "      <td>0</td>\n",
       "      <td>0</td>\n",
       "      <td>0</td>\n",
       "      <td>0</td>\n",
       "      <td>0</td>\n",
       "      <td>...</td>\n",
       "      <td>0</td>\n",
       "      <td>0</td>\n",
       "      <td>0</td>\n",
       "      <td>0</td>\n",
       "      <td>0</td>\n",
       "      <td>0</td>\n",
       "      <td>0</td>\n",
       "      <td>0</td>\n",
       "      <td>0</td>\n",
       "      <td>0</td>\n",
       "    </tr>\n",
       "    <tr>\n",
       "      <th>4</th>\n",
       "      <td>0</td>\n",
       "      <td>0</td>\n",
       "      <td>0</td>\n",
       "      <td>0</td>\n",
       "      <td>0</td>\n",
       "      <td>0</td>\n",
       "      <td>0</td>\n",
       "      <td>0</td>\n",
       "      <td>0</td>\n",
       "      <td>0</td>\n",
       "      <td>...</td>\n",
       "      <td>0</td>\n",
       "      <td>0</td>\n",
       "      <td>0</td>\n",
       "      <td>0</td>\n",
       "      <td>0</td>\n",
       "      <td>0</td>\n",
       "      <td>0</td>\n",
       "      <td>0</td>\n",
       "      <td>0</td>\n",
       "      <td>0</td>\n",
       "    </tr>\n",
       "  </tbody>\n",
       "</table>\n",
       "<p>5 rows × 785 columns</p>\n",
       "</div>"
      ],
      "text/plain": [
       "   label  pixel0  pixel1  pixel2  pixel3  pixel4  pixel5  pixel6  pixel7  \\\n",
       "0      1       0       0       0       0       0       0       0       0   \n",
       "1      0       0       0       0       0       0       0       0       0   \n",
       "2      1       0       0       0       0       0       0       0       0   \n",
       "3      4       0       0       0       0       0       0       0       0   \n",
       "4      0       0       0       0       0       0       0       0       0   \n",
       "\n",
       "   pixel8  ...  pixel774  pixel775  pixel776  pixel777  pixel778  pixel779  \\\n",
       "0       0  ...         0         0         0         0         0         0   \n",
       "1       0  ...         0         0         0         0         0         0   \n",
       "2       0  ...         0         0         0         0         0         0   \n",
       "3       0  ...         0         0         0         0         0         0   \n",
       "4       0  ...         0         0         0         0         0         0   \n",
       "\n",
       "   pixel780  pixel781  pixel782  pixel783  \n",
       "0         0         0         0         0  \n",
       "1         0         0         0         0  \n",
       "2         0         0         0         0  \n",
       "3         0         0         0         0  \n",
       "4         0         0         0         0  \n",
       "\n",
       "[5 rows x 785 columns]"
      ]
     },
     "execution_count": 9,
     "metadata": {},
     "output_type": "execute_result"
    }
   ],
   "source": [
    "data.head()"
   ]
  },
  {
   "cell_type": "code",
   "execution_count": 11,
   "id": "5eebcf14-fd6e-4c7b-a396-33da9ceda366",
   "metadata": {},
   "outputs": [
    {
     "name": "stdout",
     "output_type": "stream",
     "text": [
      "<class 'pandas.core.frame.DataFrame'>\n",
      "RangeIndex: 42000 entries, 0 to 41999\n",
      "Columns: 785 entries, label to pixel783\n",
      "dtypes: int64(785)\n",
      "memory usage: 251.5 MB\n"
     ]
    }
   ],
   "source": [
    "data.info()"
   ]
  },
  {
   "cell_type": "code",
   "execution_count": 26,
   "id": "bac2fab4-27ef-4513-971e-76fb2bad25c7",
   "metadata": {},
   "outputs": [],
   "source": [
    "# Convert into a more useful data type\n",
    "data = np.array(data)"
   ]
  },
  {
   "cell_type": "code",
   "execution_count": 27,
   "id": "ac764a7f-ce6c-43f0-9b58-5f593e00efd9",
   "metadata": {},
   "outputs": [],
   "source": [
    "# Get the dimensions of the data, 42000 x 785\n",
    "m, n = data.shape"
   ]
  },
  {
   "cell_type": "code",
   "execution_count": 28,
   "id": "b427c6c1-3bb2-4985-8c31-306ae9f85096",
   "metadata": {},
   "outputs": [],
   "source": [
    "# shuffle before splitting into dev and training sets\n",
    "np.random.shuffle(data) "
   ]
  },
  {
   "cell_type": "markdown",
   "id": "926c784f-0cad-4f34-8563-f9376d39b165",
   "metadata": {},
   "source": [
    "## Split Training and testing data"
   ]
  },
  {
   "cell_type": "code",
   "execution_count": 33,
   "id": "bbf46f85-aac4-49df-82e3-070c2961162a",
   "metadata": {},
   "outputs": [],
   "source": [
    "data_dev = data[0:1000].T\n",
    "Y_dev = data_dev[0]\n",
    "X_dev = data_dev[1:n] / 225."
   ]
  },
  {
   "cell_type": "code",
   "execution_count": 34,
   "id": "a1b8446a-5fea-420f-8a76-ab536ec5fb76",
   "metadata": {},
   "outputs": [
    {
     "data": {
      "text/plain": [
       "array([7, 9, 1, 1, 3, 8, 2, 8, 1, 7, 0, 3, 0, 0, 0, 2, 3, 5, 2, 3, 4, 6,\n",
       "       9, 9, 0, 1, 8, 8, 0, 7, 8, 1, 2, 8, 0, 5, 6, 1, 8, 3, 8, 2, 2, 1,\n",
       "       3, 0, 0, 8, 8, 7, 0, 9, 8, 8, 3, 3, 6, 1, 7, 2, 1, 1, 2, 7, 8, 7,\n",
       "       5, 7, 5, 6, 4, 1, 8, 8, 7, 3, 2, 7, 8, 4, 9, 1, 3, 9, 2, 5, 9, 9,\n",
       "       3, 2, 5, 2, 0, 2, 9, 9, 5, 7, 3, 4, 4, 1, 6, 0, 8, 8, 7, 6, 4, 6,\n",
       "       0, 6, 7, 1, 7, 6, 0, 0, 6, 4, 6, 2, 5, 7, 3, 8, 7, 9, 2, 9, 9, 0,\n",
       "       2, 0, 7, 9, 5, 0, 3, 1, 4, 3, 0, 8, 0, 2, 6, 3, 2, 5, 1, 4, 1, 8,\n",
       "       1, 4, 0, 5, 8, 0, 8, 9, 0, 9, 8, 2, 0, 0, 4, 4, 1, 9, 4, 3, 4, 9,\n",
       "       2, 0, 6, 1, 5, 9, 4, 2, 3, 8, 6, 6, 5, 9, 2, 1, 9, 2, 2, 3, 0, 4,\n",
       "       9, 9, 9, 6, 3, 9, 5, 9, 3, 2, 6, 2, 7, 5, 6, 4, 0, 5, 6, 4, 2, 8,\n",
       "       5, 1, 6, 8, 0, 0, 4, 1, 7, 1, 8, 7, 7, 0, 0, 8, 5, 1, 3, 2, 1, 4,\n",
       "       1, 1, 5, 1, 8, 6, 8, 0, 7, 1, 3, 5, 8, 0, 6, 6, 3, 6, 0, 7, 3, 1,\n",
       "       1, 0, 2, 7, 2, 7, 8, 9, 2, 5, 1, 1, 6, 9, 1, 0, 3, 2, 4, 4, 2, 8,\n",
       "       1, 2, 4, 1, 3, 1, 1, 8, 9, 0, 4, 1, 3, 6, 9, 8, 1, 6, 4, 8, 6, 8,\n",
       "       0, 7, 0, 1, 8, 7, 3, 1, 3, 3, 2, 8, 4, 6, 5, 5, 8, 0, 5, 3, 4, 6,\n",
       "       2, 2, 9, 1, 6, 1, 9, 0, 2, 9, 4, 8, 6, 7, 5, 7, 7, 1, 0, 4, 4, 7,\n",
       "       1, 7, 4, 3, 3, 0, 1, 2, 0, 3, 6, 8, 4, 7, 2, 5, 8, 9, 0, 5, 7, 5,\n",
       "       2, 0, 4, 7, 2, 0, 5, 0, 9, 7, 8, 1, 3, 6, 6, 3, 9, 8, 7, 6, 4, 3,\n",
       "       8, 8, 0, 0, 7, 9, 3, 5, 7, 9, 9, 8, 6, 9, 4, 9, 9, 8, 9, 3, 3, 0,\n",
       "       0, 4, 6, 8, 0, 6, 3, 9, 5, 6, 4, 1, 7, 1, 0, 1, 7, 6, 6, 2, 9, 5,\n",
       "       2, 8, 6, 9, 1, 3, 8, 5, 0, 3, 7, 8, 1, 6, 6, 3, 9, 7, 1, 1, 8, 0,\n",
       "       8, 2, 1, 1, 0, 3, 1, 2, 0, 9, 0, 3, 3, 0, 2, 9, 5, 0, 8, 4, 3, 3,\n",
       "       0, 2, 0, 0, 2, 1, 6, 9, 6, 4, 8, 1, 9, 8, 2, 7, 9, 7, 1, 1, 7, 0,\n",
       "       5, 1, 3, 6, 2, 0, 8, 7, 3, 4, 5, 8, 1, 6, 1, 1, 8, 9, 5, 7, 2, 1,\n",
       "       5, 0, 3, 9, 2, 7, 0, 2, 6, 2, 9, 0, 9, 4, 3, 7, 1, 1, 6, 8, 7, 5,\n",
       "       9, 0, 1, 5, 9, 6, 1, 8, 7, 7, 8, 0, 3, 6, 0, 7, 2, 4, 7, 3, 1, 6,\n",
       "       3, 9, 7, 8, 6, 5, 1, 6, 9, 9, 1, 4, 8, 5, 8, 8, 7, 7, 5, 8, 2, 4,\n",
       "       5, 7, 5, 4, 3, 7, 3, 8, 8, 4, 0, 3, 2, 0, 5, 9, 2, 9, 3, 6, 7, 5,\n",
       "       6, 9, 1, 4, 5, 4, 6, 3, 7, 2, 5, 2, 2, 3, 7, 4, 7, 2, 6, 3, 8, 9,\n",
       "       7, 0, 8, 3, 8, 5, 0, 0, 3, 4, 9, 2, 6, 9, 1, 5, 7, 9, 4, 4, 8, 4,\n",
       "       1, 4, 2, 5, 6, 8, 4, 7, 2, 2, 3, 5, 1, 8, 6, 8, 1, 9, 4, 7, 0, 3,\n",
       "       4, 3, 5, 6, 2, 1, 3, 2, 1, 2, 1, 1, 2, 2, 0, 3, 1, 7, 6, 0, 9, 2,\n",
       "       7, 8, 4, 9, 6, 7, 3, 3, 8, 7, 0, 6, 7, 6, 0, 4, 3, 5, 7, 8, 4, 3,\n",
       "       7, 0, 2, 0, 1, 9, 5, 1, 1, 6, 7, 9, 9, 4, 4, 9, 6, 3, 5, 1, 9, 1,\n",
       "       7, 2, 3, 2, 7, 4, 9, 0, 5, 5, 9, 8, 6, 2, 4, 1, 5, 7, 0, 1, 2, 7,\n",
       "       6, 6, 3, 1, 6, 2, 8, 2, 0, 9, 0, 9, 8, 1, 9, 7, 5, 8, 5, 8, 9, 3,\n",
       "       1, 3, 0, 0, 8, 7, 0, 7, 7, 4, 0, 0, 0, 2, 0, 3, 1, 4, 1, 7, 5, 6,\n",
       "       9, 2, 3, 8, 4, 9, 1, 2, 7, 4, 3, 1, 6, 7, 2, 3, 3, 9, 2, 3, 2, 0,\n",
       "       0, 2, 2, 7, 5, 1, 7, 8, 7, 2, 1, 6, 2, 0, 9, 4, 0, 7, 7, 2, 1, 8,\n",
       "       4, 4, 4, 1, 0, 6, 9, 0, 5, 9, 1, 5, 7, 4, 3, 9, 5, 2, 0, 9, 6, 7,\n",
       "       1, 5, 9, 9, 2, 9, 9, 7, 1, 4, 4, 0, 4, 0, 8, 2, 9, 9, 9, 8, 5, 4,\n",
       "       9, 9, 9, 4, 8, 8, 2, 1, 3, 2, 6, 2, 8, 5, 7, 1, 1, 9, 2, 5, 4, 7,\n",
       "       3, 3, 1, 4, 4, 5, 0, 7, 9, 5, 8, 9, 2, 6, 1, 8, 1, 6, 2, 3, 5, 0,\n",
       "       1, 8, 2, 5, 0, 7, 0, 0, 6, 6, 7, 1, 7, 2, 5, 6, 2, 1, 3, 6, 6, 5,\n",
       "       6, 3, 1, 1, 4, 6, 8, 7, 6, 4, 9, 6, 7, 8, 3, 7, 5, 7, 5, 4, 3, 0,\n",
       "       5, 2, 2, 8, 7, 0, 7, 9, 8, 5])"
      ]
     },
     "execution_count": 34,
     "metadata": {},
     "output_type": "execute_result"
    }
   ],
   "source": [
    "Y_dev"
   ]
  },
  {
   "cell_type": "code",
   "execution_count": 35,
   "id": "48d4b94b-2adf-4477-b64c-1fcf956b7f89",
   "metadata": {},
   "outputs": [
    {
     "data": {
      "text/plain": [
       "array([[0., 0., 0., ..., 0., 0., 0.],\n",
       "       [0., 0., 0., ..., 0., 0., 0.],\n",
       "       [0., 0., 0., ..., 0., 0., 0.],\n",
       "       ...,\n",
       "       [0., 0., 0., ..., 0., 0., 0.],\n",
       "       [0., 0., 0., ..., 0., 0., 0.],\n",
       "       [0., 0., 0., ..., 0., 0., 0.]])"
      ]
     },
     "execution_count": 35,
     "metadata": {},
     "output_type": "execute_result"
    }
   ],
   "source": [
    "X_dev"
   ]
  }
 ],
 "metadata": {
  "kernelspec": {
   "display_name": "Python 3 (ipykernel)",
   "language": "python",
   "name": "python3"
  },
  "language_info": {
   "codemirror_mode": {
    "name": "ipython",
    "version": 3
   },
   "file_extension": ".py",
   "mimetype": "text/x-python",
   "name": "python",
   "nbconvert_exporter": "python",
   "pygments_lexer": "ipython3",
   "version": "3.10.12"
  }
 },
 "nbformat": 4,
 "nbformat_minor": 5
}
