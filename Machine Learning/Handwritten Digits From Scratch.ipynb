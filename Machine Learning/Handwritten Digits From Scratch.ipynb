{
 "cells": [
  {
   "cell_type": "markdown",
   "id": "81d317ca-5dc3-4360-bb01-87915e4b70fb",
   "metadata": {},
   "source": [
    "# Handwritten Digits From Scratch"
   ]
  },
  {
   "cell_type": "markdown",
   "id": "9708bcf3-bc49-4d38-9409-1ab3eb05b7c1",
   "metadata": {},
   "source": [
    "Video: https://www.youtube.com/watch?v=w8yWXqWQYmU&ab_channel=SamsonZhang\n",
    "\n",
    "Data: https://www.kaggle.com/code/wwsalmon/simple-mnist-nn-from-scratch-numpy-no-tf-keras/input?select=sample_submission.csv"
   ]
  },
  {
   "cell_type": "markdown",
   "id": "43b61405-29a8-4bc5-9042-71c53d7dd100",
   "metadata": {},
   "source": [
    "![Network design](data/network.png)"
   ]
  },
  {
   "cell_type": "markdown",
   "id": "0da81aef-4e9f-4c76-8bc1-43e7c6a845ba",
   "metadata": {},
   "source": [
    "## Imports"
   ]
  },
  {
   "cell_type": "code",
   "execution_count": 1,
   "id": "3759ccca-133c-48d8-99ae-2c3cc6286206",
   "metadata": {},
   "outputs": [],
   "source": [
    "import numpy as np\n",
    "import pandas as pd\n",
    "import matplotlib.pyplot as plt"
   ]
  },
  {
   "cell_type": "markdown",
   "id": "32fbc876-2545-46e9-b9ac-1a09850d6609",
   "metadata": {},
   "source": [
    "## Read in data"
   ]
  },
  {
   "cell_type": "code",
   "execution_count": 2,
   "id": "2f2dc6f4-5a84-4061-ae99-6cec2dd6de9d",
   "metadata": {},
   "outputs": [],
   "source": [
    "data = pd.read_csv('data/train.csv')"
   ]
  },
  {
   "cell_type": "code",
   "execution_count": 3,
   "id": "4bc3b5c6-69ce-4695-b6b9-4bfbd8b7f2ef",
   "metadata": {},
   "outputs": [
    {
     "data": {
      "text/html": [
       "<div>\n",
       "<style scoped>\n",
       "    .dataframe tbody tr th:only-of-type {\n",
       "        vertical-align: middle;\n",
       "    }\n",
       "\n",
       "    .dataframe tbody tr th {\n",
       "        vertical-align: top;\n",
       "    }\n",
       "\n",
       "    .dataframe thead th {\n",
       "        text-align: right;\n",
       "    }\n",
       "</style>\n",
       "<table border=\"1\" class=\"dataframe\">\n",
       "  <thead>\n",
       "    <tr style=\"text-align: right;\">\n",
       "      <th></th>\n",
       "      <th>label</th>\n",
       "      <th>pixel0</th>\n",
       "      <th>pixel1</th>\n",
       "      <th>pixel2</th>\n",
       "      <th>pixel3</th>\n",
       "      <th>pixel4</th>\n",
       "      <th>pixel5</th>\n",
       "      <th>pixel6</th>\n",
       "      <th>pixel7</th>\n",
       "      <th>pixel8</th>\n",
       "      <th>...</th>\n",
       "      <th>pixel774</th>\n",
       "      <th>pixel775</th>\n",
       "      <th>pixel776</th>\n",
       "      <th>pixel777</th>\n",
       "      <th>pixel778</th>\n",
       "      <th>pixel779</th>\n",
       "      <th>pixel780</th>\n",
       "      <th>pixel781</th>\n",
       "      <th>pixel782</th>\n",
       "      <th>pixel783</th>\n",
       "    </tr>\n",
       "  </thead>\n",
       "  <tbody>\n",
       "    <tr>\n",
       "      <th>0</th>\n",
       "      <td>1</td>\n",
       "      <td>0</td>\n",
       "      <td>0</td>\n",
       "      <td>0</td>\n",
       "      <td>0</td>\n",
       "      <td>0</td>\n",
       "      <td>0</td>\n",
       "      <td>0</td>\n",
       "      <td>0</td>\n",
       "      <td>0</td>\n",
       "      <td>...</td>\n",
       "      <td>0</td>\n",
       "      <td>0</td>\n",
       "      <td>0</td>\n",
       "      <td>0</td>\n",
       "      <td>0</td>\n",
       "      <td>0</td>\n",
       "      <td>0</td>\n",
       "      <td>0</td>\n",
       "      <td>0</td>\n",
       "      <td>0</td>\n",
       "    </tr>\n",
       "    <tr>\n",
       "      <th>1</th>\n",
       "      <td>0</td>\n",
       "      <td>0</td>\n",
       "      <td>0</td>\n",
       "      <td>0</td>\n",
       "      <td>0</td>\n",
       "      <td>0</td>\n",
       "      <td>0</td>\n",
       "      <td>0</td>\n",
       "      <td>0</td>\n",
       "      <td>0</td>\n",
       "      <td>...</td>\n",
       "      <td>0</td>\n",
       "      <td>0</td>\n",
       "      <td>0</td>\n",
       "      <td>0</td>\n",
       "      <td>0</td>\n",
       "      <td>0</td>\n",
       "      <td>0</td>\n",
       "      <td>0</td>\n",
       "      <td>0</td>\n",
       "      <td>0</td>\n",
       "    </tr>\n",
       "    <tr>\n",
       "      <th>2</th>\n",
       "      <td>1</td>\n",
       "      <td>0</td>\n",
       "      <td>0</td>\n",
       "      <td>0</td>\n",
       "      <td>0</td>\n",
       "      <td>0</td>\n",
       "      <td>0</td>\n",
       "      <td>0</td>\n",
       "      <td>0</td>\n",
       "      <td>0</td>\n",
       "      <td>...</td>\n",
       "      <td>0</td>\n",
       "      <td>0</td>\n",
       "      <td>0</td>\n",
       "      <td>0</td>\n",
       "      <td>0</td>\n",
       "      <td>0</td>\n",
       "      <td>0</td>\n",
       "      <td>0</td>\n",
       "      <td>0</td>\n",
       "      <td>0</td>\n",
       "    </tr>\n",
       "    <tr>\n",
       "      <th>3</th>\n",
       "      <td>4</td>\n",
       "      <td>0</td>\n",
       "      <td>0</td>\n",
       "      <td>0</td>\n",
       "      <td>0</td>\n",
       "      <td>0</td>\n",
       "      <td>0</td>\n",
       "      <td>0</td>\n",
       "      <td>0</td>\n",
       "      <td>0</td>\n",
       "      <td>...</td>\n",
       "      <td>0</td>\n",
       "      <td>0</td>\n",
       "      <td>0</td>\n",
       "      <td>0</td>\n",
       "      <td>0</td>\n",
       "      <td>0</td>\n",
       "      <td>0</td>\n",
       "      <td>0</td>\n",
       "      <td>0</td>\n",
       "      <td>0</td>\n",
       "    </tr>\n",
       "    <tr>\n",
       "      <th>4</th>\n",
       "      <td>0</td>\n",
       "      <td>0</td>\n",
       "      <td>0</td>\n",
       "      <td>0</td>\n",
       "      <td>0</td>\n",
       "      <td>0</td>\n",
       "      <td>0</td>\n",
       "      <td>0</td>\n",
       "      <td>0</td>\n",
       "      <td>0</td>\n",
       "      <td>...</td>\n",
       "      <td>0</td>\n",
       "      <td>0</td>\n",
       "      <td>0</td>\n",
       "      <td>0</td>\n",
       "      <td>0</td>\n",
       "      <td>0</td>\n",
       "      <td>0</td>\n",
       "      <td>0</td>\n",
       "      <td>0</td>\n",
       "      <td>0</td>\n",
       "    </tr>\n",
       "  </tbody>\n",
       "</table>\n",
       "<p>5 rows × 785 columns</p>\n",
       "</div>"
      ],
      "text/plain": [
       "   label  pixel0  pixel1  pixel2  pixel3  pixel4  pixel5  pixel6  pixel7  \\\n",
       "0      1       0       0       0       0       0       0       0       0   \n",
       "1      0       0       0       0       0       0       0       0       0   \n",
       "2      1       0       0       0       0       0       0       0       0   \n",
       "3      4       0       0       0       0       0       0       0       0   \n",
       "4      0       0       0       0       0       0       0       0       0   \n",
       "\n",
       "   pixel8  ...  pixel774  pixel775  pixel776  pixel777  pixel778  pixel779  \\\n",
       "0       0  ...         0         0         0         0         0         0   \n",
       "1       0  ...         0         0         0         0         0         0   \n",
       "2       0  ...         0         0         0         0         0         0   \n",
       "3       0  ...         0         0         0         0         0         0   \n",
       "4       0  ...         0         0         0         0         0         0   \n",
       "\n",
       "   pixel780  pixel781  pixel782  pixel783  \n",
       "0         0         0         0         0  \n",
       "1         0         0         0         0  \n",
       "2         0         0         0         0  \n",
       "3         0         0         0         0  \n",
       "4         0         0         0         0  \n",
       "\n",
       "[5 rows x 785 columns]"
      ]
     },
     "execution_count": 3,
     "metadata": {},
     "output_type": "execute_result"
    }
   ],
   "source": [
    "data.head()"
   ]
  },
  {
   "cell_type": "code",
   "execution_count": 4,
   "id": "5eebcf14-fd6e-4c7b-a396-33da9ceda366",
   "metadata": {},
   "outputs": [
    {
     "name": "stdout",
     "output_type": "stream",
     "text": [
      "<class 'pandas.core.frame.DataFrame'>\n",
      "RangeIndex: 42000 entries, 0 to 41999\n",
      "Columns: 785 entries, label to pixel783\n",
      "dtypes: int64(785)\n",
      "memory usage: 251.5 MB\n"
     ]
    }
   ],
   "source": [
    "data.info()"
   ]
  },
  {
   "cell_type": "code",
   "execution_count": 5,
   "id": "bac2fab4-27ef-4513-971e-76fb2bad25c7",
   "metadata": {},
   "outputs": [],
   "source": [
    "# Convert into a more useful data type\n",
    "data = np.array(data)"
   ]
  },
  {
   "cell_type": "code",
   "execution_count": 6,
   "id": "ac764a7f-ce6c-43f0-9b58-5f593e00efd9",
   "metadata": {},
   "outputs": [],
   "source": [
    "# Get the dimensions of the data, 42000 x 785, rows x columns\n",
    "m, n = data.shape\n",
    "#42000 rows, each row is one box"
   ]
  },
  {
   "cell_type": "code",
   "execution_count": 7,
   "id": "b427c6c1-3bb2-4985-8c31-306ae9f85096",
   "metadata": {},
   "outputs": [],
   "source": [
    "# shuffle before splitting into dev and training sets\n",
    "np.random.shuffle(data) "
   ]
  },
  {
   "cell_type": "markdown",
   "id": "926c784f-0cad-4f34-8563-f9376d39b165",
   "metadata": {},
   "source": [
    "## Split Training and testing data"
   ]
  },
  {
   "cell_type": "code",
   "execution_count": 8,
   "id": "bbf46f85-aac4-49df-82e3-070c2961162a",
   "metadata": {},
   "outputs": [],
   "source": [
    "#Separate out first 1000 boxes of data and transpose them\n",
    "data_dev = data[0:1000].T #.T = transposed, so each column is a box\n",
    "# Take out the row that represents the answers\n",
    "Y_dev = data_dev[0]\n",
    "# The actual data\n",
    "#adjust data to put all pixel values between 0 and 1 (?)\n",
    "X_dev = data_dev[1:n] / 225. #n=785"
   ]
  },
  {
   "cell_type": "code",
   "execution_count": 9,
   "id": "a1b8446a-5fea-420f-8a76-ab536ec5fb76",
   "metadata": {},
   "outputs": [
    {
     "data": {
      "text/plain": [
       "array([9, 4, 1, 1, 4, 5, 3, 0, 0, 0, 4, 6, 7, 7, 0, 6, 7, 0, 9, 8, 6, 4,\n",
       "       9, 8, 4, 4, 3, 5, 3, 6, 5, 2, 1, 4, 7, 8, 1, 2, 1, 0, 5, 7, 4, 9,\n",
       "       0, 9, 7, 0, 4, 8, 5, 8, 1, 5, 5, 3, 0, 8, 5, 0, 1, 6, 4, 1, 7, 3,\n",
       "       7, 4, 9, 3, 6, 2, 5, 3, 5, 4, 6, 0, 2, 6, 8, 8, 1, 2, 6, 1, 2, 1,\n",
       "       5, 3, 5, 1, 3, 6, 4, 6, 7, 4, 5, 0, 1, 1, 5, 9, 1, 6, 3, 3, 6, 8,\n",
       "       9, 4, 4, 6, 5, 0, 8, 8, 0, 2, 5, 2, 7, 7, 6, 9, 6, 1, 5, 0, 3, 9,\n",
       "       2, 3, 5, 1, 7, 8, 4, 7, 0, 0, 9, 1, 2, 9, 7, 6, 6, 8, 1, 0, 6, 1,\n",
       "       9, 0, 8, 6, 9, 3, 4, 4, 9, 8, 1, 3, 5, 5, 6, 5, 1, 8, 3, 0, 1, 1,\n",
       "       3, 9, 1, 3, 5, 8, 5, 2, 5, 1, 7, 3, 7, 8, 1, 4, 0, 3, 1, 0, 1, 5,\n",
       "       5, 2, 3, 1, 2, 6, 6, 3, 9, 2, 0, 3, 8, 1, 5, 5, 5, 6, 4, 3, 0, 1,\n",
       "       0, 4, 6, 5, 7, 5, 7, 3, 3, 5, 3, 1, 4, 2, 3, 0, 5, 0, 6, 3, 3, 6,\n",
       "       9, 7, 9, 2, 2, 0, 3, 7, 5, 3, 6, 1, 4, 3, 2, 7, 7, 2, 9, 8, 4, 2,\n",
       "       3, 7, 1, 6, 6, 7, 5, 0, 7, 2, 9, 3, 3, 3, 6, 0, 0, 5, 9, 8, 8, 5,\n",
       "       0, 1, 6, 1, 4, 1, 3, 2, 0, 9, 4, 1, 0, 0, 0, 8, 3, 6, 7, 7, 4, 1,\n",
       "       7, 5, 2, 9, 8, 8, 9, 3, 7, 9, 3, 4, 1, 0, 5, 6, 8, 1, 8, 7, 5, 3,\n",
       "       0, 9, 8, 8, 3, 9, 7, 9, 1, 6, 0, 1, 0, 3, 8, 1, 7, 3, 4, 2, 4, 4,\n",
       "       8, 4, 1, 7, 2, 2, 9, 5, 0, 3, 6, 7, 8, 8, 8, 5, 4, 2, 8, 0, 3, 4,\n",
       "       6, 0, 0, 8, 8, 6, 7, 7, 5, 5, 0, 5, 3, 6, 2, 1, 5, 7, 8, 6, 4, 9,\n",
       "       3, 7, 0, 3, 2, 2, 1, 0, 3, 5, 2, 7, 4, 5, 2, 1, 5, 9, 2, 1, 4, 6,\n",
       "       4, 7, 9, 9, 2, 8, 9, 7, 1, 7, 7, 0, 3, 6, 6, 0, 8, 8, 2, 8, 1, 7,\n",
       "       5, 3, 8, 0, 3, 1, 7, 5, 5, 1, 2, 3, 9, 5, 9, 3, 9, 0, 0, 0, 4, 0,\n",
       "       1, 6, 6, 2, 7, 1, 5, 3, 4, 0, 3, 6, 0, 5, 4, 7, 9, 6, 4, 6, 1, 1,\n",
       "       9, 8, 6, 5, 5, 7, 7, 2, 8, 3, 0, 2, 6, 6, 2, 0, 9, 8, 3, 8, 7, 4,\n",
       "       2, 9, 6, 3, 2, 6, 5, 0, 3, 3, 7, 8, 8, 0, 9, 7, 4, 5, 5, 9, 3, 1,\n",
       "       6, 5, 2, 9, 8, 8, 1, 7, 3, 4, 0, 8, 0, 5, 4, 8, 7, 1, 7, 9, 8, 4,\n",
       "       6, 7, 1, 6, 7, 4, 8, 5, 4, 8, 6, 0, 5, 1, 3, 0, 5, 1, 6, 5, 3, 0,\n",
       "       3, 4, 0, 8, 8, 6, 0, 6, 7, 1, 4, 3, 9, 0, 4, 4, 2, 3, 3, 8, 9, 4,\n",
       "       8, 9, 5, 5, 3, 0, 9, 8, 6, 4, 4, 8, 3, 2, 1, 9, 4, 3, 1, 6, 6, 2,\n",
       "       6, 1, 6, 5, 6, 0, 5, 9, 4, 4, 0, 2, 1, 9, 3, 5, 5, 9, 7, 2, 3, 2,\n",
       "       9, 4, 1, 6, 9, 6, 3, 2, 0, 6, 3, 2, 3, 0, 4, 2, 1, 5, 0, 2, 7, 6,\n",
       "       2, 1, 7, 2, 4, 5, 3, 4, 5, 3, 0, 4, 7, 1, 9, 9, 8, 0, 1, 7, 0, 6,\n",
       "       7, 1, 5, 4, 4, 3, 5, 4, 9, 7, 1, 5, 6, 9, 1, 5, 7, 4, 3, 0, 1, 8,\n",
       "       6, 4, 0, 8, 7, 6, 8, 9, 9, 7, 5, 4, 7, 6, 4, 7, 1, 6, 8, 5, 4, 5,\n",
       "       4, 5, 0, 8, 1, 9, 0, 8, 3, 9, 8, 9, 7, 2, 6, 0, 6, 5, 3, 2, 2, 4,\n",
       "       2, 4, 7, 0, 3, 1, 6, 5, 8, 0, 6, 2, 4, 0, 3, 8, 1, 1, 9, 3, 1, 8,\n",
       "       9, 9, 6, 4, 0, 1, 4, 0, 1, 1, 2, 0, 6, 4, 7, 2, 7, 3, 2, 3, 7, 7,\n",
       "       6, 8, 7, 8, 2, 9, 5, 1, 3, 6, 7, 3, 4, 7, 9, 0, 9, 9, 0, 4, 5, 8,\n",
       "       3, 6, 2, 7, 1, 8, 2, 6, 2, 1, 9, 8, 0, 6, 6, 0, 3, 1, 9, 7, 7, 5,\n",
       "       1, 2, 8, 3, 7, 7, 5, 5, 1, 9, 7, 7, 0, 1, 6, 2, 9, 7, 3, 5, 6, 7,\n",
       "       9, 7, 1, 0, 5, 3, 4, 4, 7, 5, 7, 6, 3, 0, 8, 8, 6, 5, 4, 2, 6, 7,\n",
       "       5, 0, 6, 8, 9, 1, 8, 0, 0, 9, 2, 8, 2, 5, 6, 3, 2, 3, 6, 8, 8, 7,\n",
       "       3, 7, 6, 3, 4, 3, 2, 6, 0, 1, 4, 4, 6, 5, 9, 7, 6, 5, 4, 1, 8, 7,\n",
       "       3, 0, 5, 6, 0, 4, 7, 1, 6, 6, 3, 9, 5, 5, 4, 6, 5, 8, 3, 7, 1, 1,\n",
       "       1, 9, 0, 3, 9, 4, 0, 5, 8, 3, 5, 1, 2, 7, 1, 3, 3, 5, 3, 0, 4, 5,\n",
       "       2, 7, 7, 9, 2, 3, 5, 7, 5, 9, 2, 8, 6, 8, 2, 1, 6, 7, 0, 3, 4, 6,\n",
       "       5, 3, 2, 3, 3, 8, 7, 7, 1, 2])"
      ]
     },
     "execution_count": 9,
     "metadata": {},
     "output_type": "execute_result"
    }
   ],
   "source": [
    "#All the answers\n",
    "Y_dev"
   ]
  },
  {
   "cell_type": "code",
   "execution_count": 10,
   "id": "48d4b94b-2adf-4477-b64c-1fcf956b7f89",
   "metadata": {},
   "outputs": [],
   "source": [
    "#X_dev"
   ]
  },
  {
   "cell_type": "markdown",
   "id": "fa070e92-2cb6-4dbb-a4db-d1e0c8abb616",
   "metadata": {},
   "source": [
    "## Training data"
   ]
  },
  {
   "cell_type": "code",
   "execution_count": 11,
   "id": "eb7d6b20-9cb3-4e0c-86cc-81c70e734ed5",
   "metadata": {},
   "outputs": [],
   "source": [
    "#Do the same thing with another chunk of data\n",
    "data_train = data[1000:m].T\n",
    "# The answers\n",
    "Y_train = data_train[0]\n",
    "#The data\n",
    "X_train = data_train[1:n]"
   ]
  },
  {
   "cell_type": "code",
   "execution_count": 12,
   "id": "b8828314-cb22-4024-b07f-e652e4fd852c",
   "metadata": {},
   "outputs": [],
   "source": [
    "#Not sure what this does\n",
    "#adjust data to put all pixel values between 0 and 1 (?)\n",
    "X_train = X_train / 255.\n",
    "#m = number of training boxes we have\n",
    "_,m_train = X_train.shape"
   ]
  },
  {
   "cell_type": "markdown",
   "id": "40172717-d4c1-40b0-94e2-f64aace95a1c",
   "metadata": {},
   "source": [
    "## Neural network functions"
   ]
  },
  {
   "cell_type": "markdown",
   "id": "8fc75654-d5ae-4438-bd6c-55690a9ee2c7",
   "metadata": {},
   "source": [
    "### Initialize weights and biases"
   ]
  },
  {
   "cell_type": "code",
   "execution_count": 13,
   "id": "74ddecbf-24fe-42fb-ab64-48816462ccab",
   "metadata": {},
   "outputs": [],
   "source": [
    "def init_params():\n",
    "    #np.random.rand creates arrays of random numbers of the size given\n",
    "    # Create ten weights for each of the 784 boxes for the ten nodes of the first row\n",
    "    W1 = np.random.rand(10,784)-.5\n",
    "    # Give each node of the first row a bias\n",
    "    b1 = np.random.rand(10,1)-.5\n",
    "    #Ten weight for the ten nodes to get to the ten nodes of the next layer\n",
    "    W2 = np.random.rand(10,10)-.5\n",
    "    #Ten biases for the second layer\n",
    "    b2 = np.random.rand(10,1)-.5\n",
    "    return W1,b1,W2,b2"
   ]
  },
  {
   "cell_type": "code",
   "execution_count": 36,
   "id": "bc0fe168-49fe-48f3-b40c-851256465cb4",
   "metadata": {},
   "outputs": [],
   "source": [
    "# Just sets the variables to how they're defined above\n",
    "W1,b1,W2,b2 = init_params()"
   ]
  },
  {
   "cell_type": "code",
   "execution_count": 15,
   "id": "e53e9450-7966-4e74-bd8a-7a307082da0a",
   "metadata": {},
   "outputs": [
    {
     "data": {
      "text/plain": [
       "(10, 784)"
      ]
     },
     "execution_count": 15,
     "metadata": {},
     "output_type": "execute_result"
    }
   ],
   "source": [
    "W1.shape"
   ]
  },
  {
   "cell_type": "markdown",
   "id": "2a603be8-9ab3-466d-ad82-5ebd75f0a37a",
   "metadata": {},
   "source": [
    "### Forward propagation"
   ]
  },
  {
   "cell_type": "code",
   "execution_count": 16,
   "id": "f715b714-9013-45f8-9949-cf1e39a5b8c7",
   "metadata": {},
   "outputs": [],
   "source": [
    "#Relu function that defines how positive a data point is. Negative values return 0 and positive values return themselves.\n",
    "def ReLU(Z):\n",
    "    return np.maximum(0,Z)"
   ]
  },
  {
   "cell_type": "code",
   "execution_count": 42,
   "id": "fd6fee76-0b47-4af3-8267-f3d96ad304b0",
   "metadata": {},
   "outputs": [
    {
     "data": {
      "text/plain": [
       "7.290000000000001"
      ]
     },
     "execution_count": 42,
     "metadata": {},
     "output_type": "execute_result"
    }
   ],
   "source": [
    "def softmax(Z):\n",
    "    #np.exp takes e^x \n",
    "    return np.exp(Z) / sum(np.exp(Z))"
   ]
  },
  {
   "cell_type": "code",
   "execution_count": 18,
   "id": "21b66107-eba2-44b0-b771-0536a24dc731",
   "metadata": {},
   "outputs": [],
   "source": [
    "def forward_prop(W1,b1,W2,b2,X):\n",
    "    #.dot takes the dot product of two arrays\n",
    "    Z1 = W1.dot(X) + b1\n",
    "    #How positive is Z1\n",
    "    A1 = ReLU(Z1)\n",
    "    Z2 = W2.dot(A1) + b2\n",
    "    A2 = softmax(Z2)\n",
    "    return Z1, A1, Z2, A2"
   ]
  },
  {
   "cell_type": "code",
   "execution_count": 19,
   "id": "3ea23176-fdd1-403c-be1e-5c5a9b25a1de",
   "metadata": {},
   "outputs": [],
   "source": [
    "def ReLU_deriv(Z):\n",
    "    return (Z > 0)"
   ]
  },
  {
   "cell_type": "code",
   "execution_count": 20,
   "id": "fb3b7797-4513-4745-b9d3-529b4e113b2c",
   "metadata": {},
   "outputs": [],
   "source": [
    "def one_hot(Y):\n",
    "    one_hot_Y = np.zeros((Y.size, Y.max() + 1))\n",
    "    one_hot_Y[np.arange(Y.size), Y] = 1\n",
    "    one_hot_Y = one_hot_Y.T\n",
    "    return one_hot_Y"
   ]
  },
  {
   "cell_type": "markdown",
   "id": "437468e2-95f7-4fcc-9a7d-133ed5bc2efe",
   "metadata": {},
   "source": [
    "## Back Propagation"
   ]
  },
  {
   "cell_type": "code",
   "execution_count": 21,
   "id": "819aa341-c462-492a-aaf7-9b7ec218a151",
   "metadata": {},
   "outputs": [],
   "source": [
    "def backward_prop(Z1, A1, Z2, A2, W1, W2, X, Y):\n",
    "    one_hot_Y = one_hot(Y)\n",
    "    dZ2 = A2 - one_hot_Y\n",
    "    dW2 = 1 / m * dZ2.dot(A1.T)\n",
    "    #Maybe remove the line below this?\n",
    "    db2 = 1 / m * np.sum(dZ2)\n",
    "    dZ1 = W2.T.dot(dZ2) * ReLU_deriv(Z1)\n",
    "    dW1 = 1 / m * dZ1.dot(X.T)\n",
    "    db1 = 1 / m * np.sum(dZ1)\n",
    "    return dW1, db1, dW2, db2"
   ]
  },
  {
   "cell_type": "code",
   "execution_count": 22,
   "id": "d78726c8-84d1-40ef-b77a-79265080b0a1",
   "metadata": {},
   "outputs": [],
   "source": [
    "def update_params(W1, b1, W2, b2, dW1, db1, dW2, db2, alpha):\n",
    "    W1 = W1 - alpha * dW1\n",
    "    b1 = b1 - alpha * db1    \n",
    "    W2 = W2 - alpha * dW2  \n",
    "    b2 = b2 - alpha * db2    \n",
    "    return W1, b1, W2, b2"
   ]
  },
  {
   "cell_type": "markdown",
   "id": "750d7b35-0d7b-444f-9585-157da25641db",
   "metadata": {},
   "source": [
    "## Running the model"
   ]
  },
  {
   "cell_type": "markdown",
   "id": "2524d8b6-f6b5-483c-8aed-10ed75f6d2f9",
   "metadata": {},
   "source": [
    "### Prepare gradient descent"
   ]
  },
  {
   "cell_type": "code",
   "execution_count": 23,
   "id": "8d985b84-c78b-47ee-baf8-4d00d5f09590",
   "metadata": {},
   "outputs": [],
   "source": [
    "def get_predictions(A2):\n",
    "    return np.argmax(A2, 0)\n",
    "\n",
    "def get_accuracy(predictions, Y):\n",
    "    print(predictions, Y)\n",
    "    return np.sum(predictions == Y) / Y.size\n",
    "\n",
    "def gradient_descent(X, Y, alpha, iterations):\n",
    "    W1, b1, W2, b2 = init_params()\n",
    "    for i in range(iterations):\n",
    "        Z1, A1, Z2, A2 = forward_prop(W1, b1, W2, b2, X)\n",
    "        dW1, db1, dW2, db2 = backward_prop(Z1, A1, Z2, A2, W1, W2, X, Y)\n",
    "        W1, b1, W2, b2 = update_params(W1, b1, W2, b2, dW1, db1, dW2, db2, alpha)\n",
    "        if i % 50 == 0:\n",
    "            print(\"Iteration: \", i)\n",
    "            predictions = get_predictions(A2)\n",
    "            print(get_accuracy(predictions, Y))\n",
    "    return W1, b1, W2, b2"
   ]
  },
  {
   "cell_type": "markdown",
   "id": "f62e95d9-4da3-4eda-8234-c9ec7ad90306",
   "metadata": {},
   "source": [
    "### Run it"
   ]
  },
  {
   "cell_type": "code",
   "execution_count": 24,
   "id": "c8ba9531-cf8d-4308-b61a-088d18f7e212",
   "metadata": {},
   "outputs": [
    {
     "name": "stdout",
     "output_type": "stream",
     "text": [
      "Iteration:  0\n",
      "[2 0 4 ... 7 0 4] [7 8 6 ... 4 5 2]\n",
      "0.14121951219512194\n",
      "Iteration:  50\n",
      "[7 3 6 ... 1 3 1] [7 8 6 ... 4 5 2]\n",
      "0.46960975609756095\n",
      "Iteration:  100\n",
      "[7 3 6 ... 8 3 2] [7 8 6 ... 4 5 2]\n",
      "0.6132195121951219\n",
      "Iteration:  150\n",
      "[7 8 6 ... 8 3 2] [7 8 6 ... 4 5 2]\n",
      "0.7046341463414634\n",
      "Iteration:  200\n",
      "[7 8 6 ... 9 3 2] [7 8 6 ... 4 5 2]\n",
      "0.7530487804878049\n",
      "Iteration:  250\n",
      "[7 8 6 ... 9 3 2] [7 8 6 ... 4 5 2]\n",
      "0.7831219512195122\n",
      "Iteration:  300\n",
      "[7 8 6 ... 9 3 2] [7 8 6 ... 4 5 2]\n",
      "0.804219512195122\n",
      "Iteration:  350\n",
      "[7 8 6 ... 9 3 2] [7 8 6 ... 4 5 2]\n",
      "0.8198292682926829\n",
      "Iteration:  400\n",
      "[7 8 6 ... 9 5 2] [7 8 6 ... 4 5 2]\n",
      "0.8306097560975609\n",
      "Iteration:  450\n",
      "[7 8 6 ... 4 5 2] [7 8 6 ... 4 5 2]\n",
      "0.8390731707317073\n"
     ]
    }
   ],
   "source": [
    "W1, b1, W2, b2 = gradient_descent(X_train, Y_train, 0.10, 500)"
   ]
  },
  {
   "cell_type": "markdown",
   "id": "b100540c-909e-4a55-9c4a-472be0950302",
   "metadata": {},
   "source": [
    "## Testing"
   ]
  },
  {
   "cell_type": "markdown",
   "id": "515360d0-30ee-43e4-a2d1-a1a1fa59bac4",
   "metadata": {},
   "source": [
    "To test the model "
   ]
  },
  {
   "cell_type": "code",
   "execution_count": 25,
   "id": "a04c0cad-ccd8-4243-ab90-604a19dd8a27",
   "metadata": {},
   "outputs": [],
   "source": [
    "_, _, _, A2 = forward_prop(W1,b1,W2, b2,X_dev)"
   ]
  },
  {
   "cell_type": "code",
   "execution_count": 26,
   "id": "adaa4380-c16e-41a7-a828-590059850ae2",
   "metadata": {},
   "outputs": [
    {
     "name": "stdout",
     "output_type": "stream",
     "text": [
      "[9 4 1 1 4 5 7 0 0 0 4 6 7 7 0 6 1 0 3 8 6 4 9 8 9 4 8 2 3 2 3 2 1 9 7 8 1\n",
      " 2 1 0 5 7 4 9 0 9 7 0 4 8 8 3 1 5 5 3 0 8 5 0 1 6 4 1 7 3 9 9 9 3 6 2 6 3\n",
      " 6 9 6 0 2 6 8 8 2 6 6 1 2 1 5 3 5 1 3 6 4 6 7 9 3 0 1 1 5 4 1 6 5 2 6 8 3\n",
      " 4 4 6 5 0 8 8 7 2 1 4 7 7 6 9 6 1 5 0 3 9 2 1 5 1 7 8 4 7 0 0 9 1 2 9 7 6\n",
      " 4 8 1 0 6 1 9 0 5 6 3 3 4 4 9 5 1 5 5 5 4 5 1 8 3 0 1 1 3 9 1 3 5 8 5 2 0\n",
      " 1 7 3 1 8 1 4 0 3 1 3 1 5 5 2 3 8 2 6 6 3 9 2 0 3 8 1 5 5 2 6 9 7 0 1 0 4\n",
      " 6 5 7 5 7 3 3 5 3 1 4 2 3 0 5 0 6 3 9 6 9 7 4 2 2 5 3 7 3 3 6 1 4 3 2 7 4\n",
      " 2 9 8 4 2 3 7 1 6 6 7 5 0 7 2 5 8 3 3 6 0 6 5 9 2 8 5 0 1 6 1 4 1 3 2 0 1\n",
      " 4 1 0 0 0 8 3 6 7 7 4 1 7 5 2 4 8 3 0 3 7 5 3 4 1 0 5 6 8 1 8 7 5 5 0 4 8\n",
      " 8 3 9 7 9 1 6 0 1 0 5 5 1 4 3 4 2 4 4 8 4 1 7 0 9 9 5 0 3 6 7 8 8 8 3 4 2\n",
      " 5 8 3 4 6 0 7 3 8 6 7 9 5 0 0 1 3 6 2 1 5 7 8 6 9 9 3 7 0 3 2 1 1 0 3 6 2\n",
      " 7 4 4 2 1 5 9 2 1 8 6 8 7 9 4 2 8 9 7 1 7 7 0 3 6 6 0 1 8 2 2 1 1 0 2 8 0\n",
      " 7 1 7 5 5 1 2 2 9 5 9 8 9 0 0 0 4 0 1 6 6 7 7 1 5 3 4 0 3 2 2 5 4 7 9 6 7\n",
      " 6 1 1 9 8 6 5 5 7 7 2 8 3 0 2 1 6 2 0 4 5 5 8 7 4 2 9 6 3 2 6 5 0 3 8 3 6\n",
      " 8 0 9 7 4 0 8 9 3 1 6 5 0 9 1 8 1 7 7 4 0 3 0 5 4 8 7 1 7 9 8 9 6 7 1 6 7\n",
      " 4 8 5 4 8 6 0 5 1 3 0 5 1 6 8 3 0 3 9 0 5 8 6 0 6 7 1 4 3 9 0 4 4 2 3 3 5\n",
      " 9 9 8 9 5 5 3 0 2 8 6 4 4 8 3 2 1 4 4 3 1 5 6 2 6 1 6 3 6 0 5 9 4 4 0 2 1\n",
      " 9 3 5 5 4 7 0 3 2 9 4 1 4 9 2 3 2 0 6 3 2 2 3 4 2 7 8 0 8 7 6 2 1 1 7 4 5\n",
      " 3 4 6 3 0 4 7 1 9 9 6 0 1 9 0 6 2 1 3 4 4 3 6 4 9 2 1 5 6 9 1 9 7 9 3 0 1\n",
      " 8 6 4 0 8 1 6 8 9 9 7 5 4 4 6 4 7 1 6 5 5 4 5 4 5 0 8 1 9 0 8 3 9 8 9 7 2\n",
      " 6 0 6 0 9 2 2 4 2 4 7 0 2 1 6 5 6 0 6 8 9 0 3 8 1 1 4 3 1 8 8 9 6 4 0 1 4\n",
      " 0 1 1 2 0 6 4 4 2 7 3 2 3 7 7 6 8 7 8 2 9 5 1 3 6 7 3 4 7 4 0 9 9 0 4 5 8\n",
      " 3 6 2 7 1 8 2 6 2 1 9 8 0 6 6 0 3 1 7 7 7 5 1 2 8 3 7 7 5 5 1 9 7 7 0 1 6\n",
      " 2 9 7 3 5 6 7 9 7 3 0 5 3 0 4 7 5 9 6 3 0 8 3 6 5 4 2 6 7 6 0 6 2 9 1 8 0\n",
      " 0 9 2 8 4 5 6 3 2 4 6 8 8 7 8 7 6 3 4 3 2 6 0 1 4 6 6 5 9 7 5 5 4 1 1 7 3\n",
      " 0 5 6 0 4 7 1 6 6 3 9 5 5 4 6 3 8 3 7 1 1 1 9 0 3 9 9 0 5 8 3 8 1 2 7 1 3\n",
      " 3 5 5 0 4 5 2 7 4 9 2 3 0 7 0 9 2 8 6 5 2 1 6 7 0 2 4 6 5 2 8 3 3 9 7 7 1\n",
      " 2] [9 4 1 1 4 5 3 0 0 0 4 6 7 7 0 6 7 0 9 8 6 4 9 8 4 4 3 5 3 6 5 2 1 4 7 8 1\n",
      " 2 1 0 5 7 4 9 0 9 7 0 4 8 5 8 1 5 5 3 0 8 5 0 1 6 4 1 7 3 7 4 9 3 6 2 5 3\n",
      " 5 4 6 0 2 6 8 8 1 2 6 1 2 1 5 3 5 1 3 6 4 6 7 4 5 0 1 1 5 9 1 6 3 3 6 8 9\n",
      " 4 4 6 5 0 8 8 0 2 5 2 7 7 6 9 6 1 5 0 3 9 2 3 5 1 7 8 4 7 0 0 9 1 2 9 7 6\n",
      " 6 8 1 0 6 1 9 0 8 6 9 3 4 4 9 8 1 3 5 5 6 5 1 8 3 0 1 1 3 9 1 3 5 8 5 2 5\n",
      " 1 7 3 7 8 1 4 0 3 1 0 1 5 5 2 3 1 2 6 6 3 9 2 0 3 8 1 5 5 5 6 4 3 0 1 0 4\n",
      " 6 5 7 5 7 3 3 5 3 1 4 2 3 0 5 0 6 3 3 6 9 7 9 2 2 0 3 7 5 3 6 1 4 3 2 7 7\n",
      " 2 9 8 4 2 3 7 1 6 6 7 5 0 7 2 9 3 3 3 6 0 0 5 9 8 8 5 0 1 6 1 4 1 3 2 0 9\n",
      " 4 1 0 0 0 8 3 6 7 7 4 1 7 5 2 9 8 8 9 3 7 9 3 4 1 0 5 6 8 1 8 7 5 3 0 9 8\n",
      " 8 3 9 7 9 1 6 0 1 0 3 8 1 7 3 4 2 4 4 8 4 1 7 2 2 9 5 0 3 6 7 8 8 8 5 4 2\n",
      " 8 0 3 4 6 0 0 8 8 6 7 7 5 5 0 5 3 6 2 1 5 7 8 6 4 9 3 7 0 3 2 2 1 0 3 5 2\n",
      " 7 4 5 2 1 5 9 2 1 4 6 4 7 9 9 2 8 9 7 1 7 7 0 3 6 6 0 8 8 2 8 1 7 5 3 8 0\n",
      " 3 1 7 5 5 1 2 3 9 5 9 3 9 0 0 0 4 0 1 6 6 2 7 1 5 3 4 0 3 6 0 5 4 7 9 6 4\n",
      " 6 1 1 9 8 6 5 5 7 7 2 8 3 0 2 6 6 2 0 9 8 3 8 7 4 2 9 6 3 2 6 5 0 3 3 7 8\n",
      " 8 0 9 7 4 5 5 9 3 1 6 5 2 9 8 8 1 7 3 4 0 8 0 5 4 8 7 1 7 9 8 4 6 7 1 6 7\n",
      " 4 8 5 4 8 6 0 5 1 3 0 5 1 6 5 3 0 3 4 0 8 8 6 0 6 7 1 4 3 9 0 4 4 2 3 3 8\n",
      " 9 4 8 9 5 5 3 0 9 8 6 4 4 8 3 2 1 9 4 3 1 6 6 2 6 1 6 5 6 0 5 9 4 4 0 2 1\n",
      " 9 3 5 5 9 7 2 3 2 9 4 1 6 9 6 3 2 0 6 3 2 3 0 4 2 1 5 0 2 7 6 2 1 7 2 4 5\n",
      " 3 4 5 3 0 4 7 1 9 9 8 0 1 7 0 6 7 1 5 4 4 3 5 4 9 7 1 5 6 9 1 5 7 4 3 0 1\n",
      " 8 6 4 0 8 7 6 8 9 9 7 5 4 7 6 4 7 1 6 8 5 4 5 4 5 0 8 1 9 0 8 3 9 8 9 7 2\n",
      " 6 0 6 5 3 2 2 4 2 4 7 0 3 1 6 5 8 0 6 2 4 0 3 8 1 1 9 3 1 8 9 9 6 4 0 1 4\n",
      " 0 1 1 2 0 6 4 7 2 7 3 2 3 7 7 6 8 7 8 2 9 5 1 3 6 7 3 4 7 9 0 9 9 0 4 5 8\n",
      " 3 6 2 7 1 8 2 6 2 1 9 8 0 6 6 0 3 1 9 7 7 5 1 2 8 3 7 7 5 5 1 9 7 7 0 1 6\n",
      " 2 9 7 3 5 6 7 9 7 1 0 5 3 4 4 7 5 7 6 3 0 8 8 6 5 4 2 6 7 5 0 6 8 9 1 8 0\n",
      " 0 9 2 8 2 5 6 3 2 3 6 8 8 7 3 7 6 3 4 3 2 6 0 1 4 4 6 5 9 7 6 5 4 1 8 7 3\n",
      " 0 5 6 0 4 7 1 6 6 3 9 5 5 4 6 5 8 3 7 1 1 1 9 0 3 9 4 0 5 8 3 5 1 2 7 1 3\n",
      " 3 5 3 0 4 5 2 7 7 9 2 3 5 7 5 9 2 8 6 8 2 1 6 7 0 3 4 6 5 3 2 3 3 8 7 7 1\n",
      " 2]\n",
      "Accuracy 0.83\n"
     ]
    }
   ],
   "source": [
    "print(\"Accuracy\",get_accuracy(get_predictions(A2),Y_dev))\n",
    "predictions = get_predictions(A2)"
   ]
  },
  {
   "cell_type": "code",
   "execution_count": 27,
   "id": "4edace75-5700-4fc9-a8f7-5ddc058aabb8",
   "metadata": {},
   "outputs": [
    {
     "name": "stdout",
     "output_type": "stream",
     "text": [
      "170\n",
      "[6, 16, 18, 24, 26, 27, 29, 30, 33, 50, 51, 66, 67, 72, 74, 75, 82, 83, 97, 98, 103, 106, 107, 110, 118, 120, 121, 133, 148, 156, 158, 163, 165, 168, 184, 188, 195, 201, 214, 216, 217, 240, 244, 247, 250, 258, 274, 275, 280, 283, 295, 311, 313, 314, 317, 329, 331, 343, 344, 346, 356, 357, 367, 370, 371, 376, 377, 381, 383, 385, 394, 401, 405, 409, 416, 418, 421, 434, 437, 439, 440, 441, 444, 451, 455, 465, 473, 474, 480, 496, 500, 501, 502, 515, 516, 517, 523, 524, 530, 532, 536, 539, 549, 569, 573, 575, 591, 593, 600, 609, 613, 619, 633, 635, 641, 643, 650, 651, 654, 655, 657, 662, 663, 668, 676, 679, 682, 684, 688, 691, 697, 699, 708, 716, 722, 743, 744, 752, 756, 759, 760, 766, 770, 784, 806, 832, 860, 864, 868, 873, 880, 883, 892, 897, 902, 913, 918, 922, 940, 951, 956, 964, 970, 974, 976, 981, 987, 991, 992, 995]\n"
     ]
    }
   ],
   "source": [
    "wrong = []\n",
    "for i in range(len(predictions)):\n",
    "    if Y_dev[i] != predictions[i]:\n",
    "        wrong.append(i)\n",
    "print(len(wrong))\n",
    "print(wrong)"
   ]
  },
  {
   "cell_type": "code",
   "execution_count": 28,
   "id": "220f0d24-1a5a-40a4-8aee-291070748833",
   "metadata": {},
   "outputs": [],
   "source": [
    "# Rotate all the data with the boxes\n",
    "X_dev_images = X_dev.T"
   ]
  },
  {
   "cell_type": "code",
   "execution_count": 29,
   "id": "3e4dcec5-0131-4f1e-a0a6-b5a2b06fec0e",
   "metadata": {},
   "outputs": [],
   "source": [
    "#Turn 1000 rows of 784 digits into 1000 rows of 28x28 boxes\n",
    "X_dev_images = X_dev_images.reshape(1000,28,28)"
   ]
  },
  {
   "cell_type": "code",
   "execution_count": 30,
   "id": "b3846fda-5541-4419-9753-ec13e3095e29",
   "metadata": {},
   "outputs": [],
   "source": [
    "# graphit(the data to graph, the answers, # of rows of graph grid, # of cols of graph grid, where to start in the data, size of graph)\n",
    "def graph_predictions(images, labels, predictions, rows=1, cols=1, start=0, zoom=2):\n",
    "   #The number of images we have to graph\n",
    "  n_images = rows * cols\n",
    "    #Make a graph the correct size\n",
    "  fig, ax = plt.subplots(rows,cols,figsize=(cols * zoom, rows * zoom))\n",
    "    # For every graph we need to make\n",
    "  for n in range(n_images):\n",
    "    plt.subplot(rows, cols, n+1)\n",
    "    plt.xticks([])\n",
    "    plt.yticks([])\n",
    "    plt.grid(False)\n",
    "    plt.imshow(images[n+start], cmap=plt.cm.binary)\n",
    "    # plt.imshow(images[n])\n",
    "    plt.xlabel(\"[\" + str(n+start) + \"] is a : \" + str(labels[n+start]) + \" looks like : \" + str(predictions[n+start]))\n",
    "  plt.show()"
   ]
  },
  {
   "cell_type": "code",
   "execution_count": 33,
   "id": "60f3a1e3-90ce-4997-af4a-c22b53330d92",
   "metadata": {},
   "outputs": [
    {
     "data": {
      "image/png": "[encoded data removed]",
      "text/plain": [
       "<Figure size 200x200 with 1 Axes>"
      ]
     },
     "metadata": {},
     "output_type": "display_data"
    }
   ],
   "source": [
    "graph_predictions(X_dev_images,Y_dev,predictions,1,1,6,zoom=2)"
   ]
  }
 ],
 "metadata": {
  "kernelspec": {
   "display_name": "Python 3 (ipykernel)",
   "language": "python",
   "name": "python3"
  },
  "language_info": {
   "codemirror_mode": {
    "name": "ipython",
    "version": 3
   },
   "file_extension": ".py",
   "mimetype": "text/x-python",
   "name": "python",
   "nbconvert_exporter": "python",
   "pygments_lexer": "ipython3",
   "version": "3.10.12"
  }
 },
 "nbformat": 4,
 "nbformat_minor": 5
}
