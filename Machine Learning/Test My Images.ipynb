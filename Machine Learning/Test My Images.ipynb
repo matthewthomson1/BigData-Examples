{
 "cells": [
  {
   "cell_type": "markdown",
   "id": "754ef954-0970-4b05-8334-f0a457f9a0ec",
   "metadata": {},
   "source": [
    "# Test My Images"
   ]
  },
  {
   "cell_type": "markdown",
   "id": "a04d09dc-9fc3-4bd5-acf1-94a5965222af",
   "metadata": {},
   "source": [
    "## Imports"
   ]
  },
  {
   "cell_type": "code",
   "execution_count": 2,
   "id": "0e37d8e0-6eff-401c-b8c2-9a0ec170e3e0",
   "metadata": {},
   "outputs": [
    {
     "name": "stderr",
     "output_type": "stream",
     "text": [
      "2024-05-16 10:35:33.190353: I tensorflow/tsl/cuda/cudart_stub.cc:28] Could not find cuda drivers on your machine, GPU will not be used.\n",
      "2024-05-16 10:35:33.218004: E tensorflow/compiler/xla/stream_executor/cuda/cuda_dnn.cc:9342] Unable to register cuDNN factory: Attempting to register factory for plugin cuDNN when one has already been registered\n",
      "2024-05-16 10:35:33.218036: E tensorflow/compiler/xla/stream_executor/cuda/cuda_fft.cc:609] Unable to register cuFFT factory: Attempting to register factory for plugin cuFFT when one has already been registered\n",
      "2024-05-16 10:35:33.218060: E tensorflow/compiler/xla/stream_executor/cuda/cuda_blas.cc:1518] Unable to register cuBLAS factory: Attempting to register factory for plugin cuBLAS when one has already been registered\n",
      "2024-05-16 10:35:33.223565: I tensorflow/tsl/cuda/cudart_stub.cc:28] Could not find cuda drivers on your machine, GPU will not be used.\n",
      "2024-05-16 10:35:33.223988: I tensorflow/core/platform/cpu_feature_guard.cc:182] This TensorFlow binary is optimized to use available CPU instructions in performance-critical operations.\n",
      "To enable the following instructions: AVX2 FMA, in other operations, rebuild TensorFlow with the appropriate compiler flags.\n",
      "2024-05-16 10:35:34.084684: W tensorflow/compiler/tf2tensorrt/utils/py_utils.cc:38] TF-TRT Warning: Could not find TensorRT\n"
     ]
    }
   ],
   "source": [
    "import tensorflow as tf\n",
    "from keras.datasets import mnist\n",
    "import keras\n",
    "import numpy as np\n",
    "import pandas as pd\n",
    "import matplotlib\n",
    "import matplotlib.pyplot as plt\n",
    "from PIL import Image"
   ]
  },
  {
   "cell_type": "markdown",
   "id": "e3c4062b-ab4a-4722-9de8-c8ff388360ba",
   "metadata": {},
   "source": [
    "## Load model from disk"
   ]
  },
  {
   "cell_type": "code",
   "execution_count": 6,
   "id": "e154fdfc-67b9-4660-b6bd-ad62c2685e1f",
   "metadata": {},
   "outputs": [],
   "source": [
    "model = tf.keras.models.load_model(\"HandWriting_model.keras\")"
   ]
  },
  {
   "cell_type": "markdown",
   "id": "3972dbcb-8823-4bef-bd2d-d9a0c66d503a",
   "metadata": {},
   "source": [
    "## Go and read in the images and labels"
   ]
  },
  {
   "cell_type": "code",
   "execution_count": 9,
   "id": "d9d0a1f9-4663-42a0-bf4f-fa9b79b2d46f",
   "metadata": {},
   "outputs": [],
   "source": [
    "imgs_labels = np.load(\"mynumber.npz\")"
   ]
  },
  {
   "cell_type": "code",
   "execution_count": 10,
   "id": "51089abe-2543-464c-b40c-ed9919d9ccda",
   "metadata": {},
   "outputs": [
    {
     "data": {
      "text/plain": [
       "numpy.lib.npyio.NpzFile"
      ]
     },
     "execution_count": 10,
     "metadata": {},
     "output_type": "execute_result"
    }
   ],
   "source": [
    "type(imgs_labels)"
   ]
  },
  {
   "cell_type": "code",
   "execution_count": 11,
   "id": "2d40adf5-790f-4eb4-9c8c-81dd698087fd",
   "metadata": {},
   "outputs": [
    {
     "data": {
      "text/plain": [
       "['image', 'labels']"
      ]
     },
     "execution_count": 11,
     "metadata": {},
     "output_type": "execute_result"
    }
   ],
   "source": [
    "imgs_labels.files"
   ]
  },
  {
   "cell_type": "code",
   "execution_count": 14,
   "id": "ba68441e-784b-4275-85af-95597ee6b8d8",
   "metadata": {},
   "outputs": [
    {
     "data": {
      "text/plain": [
       "(10, 28, 28)"
      ]
     },
     "execution_count": 14,
     "metadata": {},
     "output_type": "execute_result"
    }
   ],
   "source": [
    "imgs_labels[\"image\"].shape"
   ]
  },
  {
   "cell_type": "code",
   "execution_count": 15,
   "id": "927cd68b-13ed-4545-9b48-81d48e68464c",
   "metadata": {},
   "outputs": [
    {
     "data": {
      "text/plain": [
       "(10,)"
      ]
     },
     "execution_count": 15,
     "metadata": {},
     "output_type": "execute_result"
    }
   ],
   "source": [
    "imgs_labels[\"labels\"].shape"
   ]
  },
  {
   "cell_type": "code",
   "execution_count": 18,
   "id": "dfd6eba6-f70c-4fde-85e5-168d86c3e25c",
   "metadata": {},
   "outputs": [],
   "source": [
    "images = imgs_labels['image']/255."
   ]
  },
  {
   "cell_type": "code",
   "execution_count": 33,
   "id": "d202cc86-a569-4e26-9905-fc1ae5f76fb9",
   "metadata": {},
   "outputs": [
    {
     "name": "stdout",
     "output_type": "stream",
     "text": [
      "\n",
      "Test accuracy: 89.99999761581421 %\n"
     ]
    }
   ],
   "source": [
    "test_loss,test_acc=model.evaluate(images,imgs_labels[\"labels\"],verbose=3)\n",
    "\n",
    "print(\"\\nTest accuracy:\",test_acc*100,\"%\")"
   ]
  },
  {
   "cell_type": "code",
   "execution_count": 36,
   "id": "781a1343-f607-4f03-8cb7-fdf2aaf63ba6",
   "metadata": {},
   "outputs": [
    {
     "name": "stdout",
     "output_type": "stream",
     "text": [
      "1/1 [==============================] - 0s 60ms/step\n"
     ]
    }
   ],
   "source": [
    "predictions = model.predict(images)"
   ]
  },
  {
   "cell_type": "code",
   "execution_count": 38,
   "id": "2ccfdda3-fd42-40f8-a7fe-0ba5905d0c90",
   "metadata": {},
   "outputs": [
    {
     "data": {
      "text/plain": [
       "0.9"
      ]
     },
     "execution_count": 38,
     "metadata": {},
     "output_type": "execute_result"
    }
   ],
   "source": [
    "wrong = []\n",
    "for i in range(len(predictions)):\n",
    "    if predictions[i].argmax() != imgs_labels[\"labels\"][i]:\n",
    "        wrong.append(i)\n",
    "\n",
    "(10-len(wrong))/10"
   ]
  },
  {
   "cell_type": "code",
   "execution_count": 39,
   "id": "bddf8461-b28b-40c4-acc4-649fe0d5d7cb",
   "metadata": {},
   "outputs": [
    {
     "name": "stdout",
     "output_type": "stream",
     "text": [
      "[3]\n"
     ]
    }
   ],
   "source": [
    "print(wrong)"
   ]
  },
  {
   "cell_type": "code",
   "execution_count": 40,
   "id": "f13512fd-f43c-4bb5-ad77-3321eed10e8c",
   "metadata": {},
   "outputs": [
    {
     "data": {
      "text/plain": [
       "array([1.4493486e-12, 9.5651883e-01, 2.4396459e-06, 1.5479711e-05,\n",
       "       1.1266555e-10, 8.4463642e-10, 4.2628245e-11, 4.3378480e-02,\n",
       "       1.9697688e-06, 8.2721243e-05], dtype=float32)"
      ]
     },
     "execution_count": 40,
     "metadata": {},
     "output_type": "execute_result"
    }
   ],
   "source": [
    "predictions[1]"
   ]
  },
  {
   "cell_type": "code",
   "execution_count": 41,
   "id": "225ad83c-c608-41d1-8e78-23f589a8bb81",
   "metadata": {},
   "outputs": [],
   "source": [
    "x_vals = np.arange(10)"
   ]
  },
  {
   "cell_type": "code",
   "execution_count": 50,
   "id": "c10e9908-b613-47a9-a9e2-c6d7bb32e732",
   "metadata": {},
   "outputs": [
    {
     "data": {
      "image/png": "[encoded data removed]",
      "text/plain": [
       "<Figure size 600x600 with 1 Axes>"
      ]
     },
     "metadata": {},
     "output_type": "display_data"
    }
   ],
   "source": [
    "fig, ax = plt.subplots(1,1,figsize=(6,6),layout=\"tight\")\n",
    "ax.set_xticks(x_vals)\n",
    "plt.bar(x_vals,predictions[5])\n",
    "plt.show()"
   ]
  }
 ],
 "metadata": {
  "kernelspec": {
   "display_name": "Python 3 (ipykernel)",
   "language": "python",
   "name": "python3"
  },
  "language_info": {
   "codemirror_mode": {
    "name": "ipython",
    "version": 3
   },
   "file_extension": ".py",
   "mimetype": "text/x-python",
   "name": "python",
   "nbconvert_exporter": "python",
   "pygments_lexer": "ipython3",
   "version": "3.10.12"
  }
 },
 "nbformat": 4,
 "nbformat_minor": 5
}
