{
 "cells": [
  {
   "cell_type": "markdown",
   "id": "a327fd30-34ff-4866-90d4-5c360654479b",
   "metadata": {},
   "source": [
    "# Reading Handwritten Digits with Tensorflow"
   ]
  },
  {
   "cell_type": "markdown",
   "id": "b19a178a-bcb5-4b70-a26c-4941453dec61",
   "metadata": {},
   "source": [
    "What we're doing:\n",
    "https://www.tensorflow.org/tutorials/keras/classification"
   ]
  },
  {
   "cell_type": "code",
   "execution_count": 1,
   "id": "0fdcd6ee-cedf-42c9-9048-ce8669a14f57",
   "metadata": {},
   "outputs": [
    {
     "name": "stderr",
     "output_type": "stream",
     "text": [
      "2024-05-15 09:58:30.977847: I tensorflow/tsl/cuda/cudart_stub.cc:28] Could not find cuda drivers on your machine, GPU will not be used.\n",
      "2024-05-15 09:58:31.004619: E tensorflow/compiler/xla/stream_executor/cuda/cuda_dnn.cc:9342] Unable to register cuDNN factory: Attempting to register factory for plugin cuDNN when one has already been registered\n",
      "2024-05-15 09:58:31.004651: E tensorflow/compiler/xla/stream_executor/cuda/cuda_fft.cc:609] Unable to register cuFFT factory: Attempting to register factory for plugin cuFFT when one has already been registered\n",
      "2024-05-15 09:58:31.004675: E tensorflow/compiler/xla/stream_executor/cuda/cuda_blas.cc:1518] Unable to register cuBLAS factory: Attempting to register factory for plugin cuBLAS when one has already been registered\n",
      "2024-05-15 09:58:31.009756: I tensorflow/tsl/cuda/cudart_stub.cc:28] Could not find cuda drivers on your machine, GPU will not be used.\n",
      "2024-05-15 09:58:31.010215: I tensorflow/core/platform/cpu_feature_guard.cc:182] This TensorFlow binary is optimized to use available CPU instructions in performance-critical operations.\n",
      "To enable the following instructions: AVX2 FMA, in other operations, rebuild TensorFlow with the appropriate compiler flags.\n",
      "2024-05-15 09:58:31.898624: W tensorflow/compiler/tf2tensorrt/utils/py_utils.cc:38] TF-TRT Warning: Could not find TensorRT\n"
     ]
    }
   ],
   "source": [
    "import tensorflow as tf\n",
    "from keras.datasets import mnist\n",
    "import keras\n",
    "import numpy as np\n",
    "import matplotlib\n",
    "import matplotlib.pyplot as plt"
   ]
  },
  {
   "cell_type": "code",
   "execution_count": 2,
   "id": "074d46bb-cd47-4dfe-9c82-f8791af5eb2d",
   "metadata": {},
   "outputs": [
    {
     "name": "stdout",
     "output_type": "stream",
     "text": [
      "Num GPUs Available:  0\n"
     ]
    }
   ],
   "source": [
    "## Do I have GPUs?\n",
    "print(\"Num GPUs Available: \", len(tf.config.list_physical_devices('GPU')))"
   ]
  },
  {
   "cell_type": "markdown",
   "id": "8593e39f-d470-43b2-9468-1e202891f65a",
   "metadata": {},
   "source": [
    "## Read in the data"
   ]
  },
  {
   "cell_type": "markdown",
   "id": "ab5c08d4-7809-4b0b-9d95-963788663da3",
   "metadata": {},
   "source": [
    "X is the image, y is the label"
   ]
  },
  {
   "cell_type": "code",
   "execution_count": 3,
   "id": "45a59c22-d535-4d15-85fb-c7fcc0b891bd",
   "metadata": {},
   "outputs": [],
   "source": [
    "(train_x,train_y), (test_x,test_y) = mnist.load_data()"
   ]
  },
  {
   "cell_type": "code",
   "execution_count": 4,
   "id": "2d8e1768-42e1-42bc-83c8-9fa83af316ec",
   "metadata": {},
   "outputs": [
    {
     "data": {
      "text/plain": [
       "numpy.ndarray"
      ]
     },
     "execution_count": 4,
     "metadata": {},
     "output_type": "execute_result"
    }
   ],
   "source": [
    "type(train_x)"
   ]
  },
  {
   "cell_type": "markdown",
   "id": "e161f28d-e930-4160-a541-33cf4437802a",
   "metadata": {},
   "source": [
    "## What Does an Image look like?"
   ]
  },
  {
   "cell_type": "code",
   "execution_count": 5,
   "id": "b6b77f07-8bbf-4c0c-bff8-0a0317c2944a",
   "metadata": {},
   "outputs": [
    {
     "name": "stdout",
     "output_type": "stream",
     "text": [
      "(60000, 28, 28) (60000,) (10000, 28, 28) (10000,)\n"
     ]
    }
   ],
   "source": [
    "print(train_x.shape, train_y.shape,test_x.shape,test_y.shape)"
   ]
  },
  {
   "cell_type": "code",
   "execution_count": 6,
   "id": "809eb730-fe8f-4847-a16d-bfa2e66c41cd",
   "metadata": {},
   "outputs": [],
   "source": [
    "# Prepare the data for training"
   ]
  },
  {
   "cell_type": "code",
   "execution_count": 7,
   "id": "c67b66c7-d55f-4abc-b906-cbe73363aa90",
   "metadata": {},
   "outputs": [],
   "source": [
    "train_x = train_x / 255\n",
    "test_x = test_x / 255"
   ]
  },
  {
   "cell_type": "code",
   "execution_count": 8,
   "id": "ca16ba56-f547-401e-8797-6f66593fdeee",
   "metadata": {},
   "outputs": [
    {
     "data": {
      "text/plain": [
       "(28, 28)"
      ]
     },
     "execution_count": 8,
     "metadata": {},
     "output_type": "execute_result"
    }
   ],
   "source": [
    "#print(train_x[0])\n",
    "train_x[0].shape"
   ]
  },
  {
   "cell_type": "code",
   "execution_count": 9,
   "id": "27844ea5-2cad-4737-af85-ab0b997adbdd",
   "metadata": {},
   "outputs": [],
   "source": [
    "# graphit(the data to graph, the answers, # of rows of graph grid, # of cols of graph grid, where to start in the data, size of graph)\n",
    "def graphit(images, labels, rows=1, cols=1, start=0, zoom=2):\n",
    "   #The number of images we have to graph\n",
    "  n_images = rows * cols\n",
    "    #Make a graph the correct size\n",
    "  fig, ax = plt.subplots(rows,cols,figsize=(cols * zoom, rows * zoom))\n",
    "    # For every graph we need to make\n",
    "  for n in range(n_images):\n",
    "    plt.subplot(rows, cols, n+1)\n",
    "    plt.xticks([])\n",
    "    plt.yticks([])\n",
    "    plt.grid(False)\n",
    "    plt.imshow(images[n+start], cmap=plt.cm.binary)\n",
    "    # plt.imshow(images[n])\n",
    "    plt.xlabel(\"[\" + str(n+start) + \"] is a : \" + str(labels[n+start]))\n",
    "  plt.show()"
   ]
  },
  {
   "cell_type": "code",
   "execution_count": 10,
   "id": "401ace3b-fdd6-4cd1-b4af-d17a2cd549b0",
   "metadata": {},
   "outputs": [
    {
     "data": {
      "image/png": "[encoded data removed]",
      "text/plain": [
       "<Figure size 300x300 with 4 Axes>"
      ]
     },
     "metadata": {},
     "output_type": "display_data"
    }
   ],
   "source": [
    "graphit(test_x,test_y,2,2,1,zoom=1.5)"
   ]
  },
  {
   "cell_type": "code",
   "execution_count": 11,
   "id": "5a1bff4a-96e1-4e42-ac29-820d874ebebf",
   "metadata": {},
   "outputs": [],
   "source": [
    "model = tf.keras.Sequential([\n",
    "    tf.keras.layers.Flatten(input_shape=(28,28)),\n",
    "    tf.keras.layers.Dense(128, activation=\"relu\"),\n",
    "    tf.keras.layers.Dropout(0.25),\n",
    "    tf.keras.layers.Dense(32,activation=\"relu\"),\n",
    "    tf.keras.layers.Dense(32,activation=\"softmax\")\n",
    "])"
   ]
  },
  {
   "cell_type": "markdown",
   "id": "25657ba2-882d-4e39-ae8d-714db5be2ffd",
   "metadata": {},
   "source": [
    "## Compile the Model"
   ]
  },
  {
   "cell_type": "code",
   "execution_count": 12,
   "id": "cab7c586-70f0-4a12-9ce2-7034c5d36d3f",
   "metadata": {},
   "outputs": [],
   "source": [
    "model.compile(optimizer=\"adam\",\n",
    "              loss=tf.keras.losses.SparseCategoricalCrossentropy(from_logits=True),\n",
    "              metrics=[\"accuracy\"])"
   ]
  },
  {
   "cell_type": "code",
   "execution_count": 13,
   "id": "4281417b-06a9-4df7-9927-eec8b8fad9b4",
   "metadata": {},
   "outputs": [
    {
     "data": {
      "text/plain": [
       "60000"
      ]
     },
     "execution_count": 13,
     "metadata": {},
     "output_type": "execute_result"
    }
   ],
   "source": [
    "# model.fit(train_x,train_y,epochs=10)\n",
    "train_y.size"
   ]
  },
  {
   "cell_type": "code",
   "execution_count": 14,
   "id": "a546a740-236b-4fac-8495-5dfbd7e2604c",
   "metadata": {},
   "outputs": [
    {
     "name": "stdout",
     "output_type": "stream",
     "text": [
      "Epoch 1/100\n"
     ]
    },
    {
     "name": "stderr",
     "output_type": "stream",
     "text": [
      "2024-05-15 09:58:33.840294: W tensorflow/tsl/framework/cpu_allocator_impl.cc:83] Allocation of 188160000 exceeds 10% of free system memory.\n",
      "/usr/local/lib/python3.10/dist-packages/keras/src/backend.py:5729: UserWarning: \"`sparse_categorical_crossentropy` received `from_logits=True`, but the `output` argument was produced by a Softmax activation and thus does not represent logits. Was this intended?\n",
      "  output, from_logits = _get_logits(\n"
     ]
    },
    {
     "name": "stdout",
     "output_type": "stream",
     "text": [
      "59/59 [==============================] - 1s 4ms/step - loss: 1.0120 - accuracy: 0.7062\n",
      "Epoch 2/100\n",
      "59/59 [==============================] - 0s 4ms/step - loss: 0.3678 - accuracy: 0.8910\n",
      "Epoch 3/100\n",
      "59/59 [==============================] - 0s 4ms/step - loss: 0.2850 - accuracy: 0.9174\n",
      "Epoch 4/100\n",
      "59/59 [==============================] - 0s 4ms/step - loss: 0.2348 - accuracy: 0.9315\n",
      "Epoch 5/100\n",
      "59/59 [==============================] - 0s 4ms/step - loss: 0.2053 - accuracy: 0.9406\n",
      "Epoch 6/100\n",
      "59/59 [==============================] - 0s 4ms/step - loss: 0.1802 - accuracy: 0.9472\n",
      "Epoch 7/100\n",
      "59/59 [==============================] - 0s 4ms/step - loss: 0.1630 - accuracy: 0.9527\n",
      "Epoch 8/100\n",
      "59/59 [==============================] - 0s 4ms/step - loss: 0.1477 - accuracy: 0.9580\n",
      "Epoch 9/100\n",
      "59/59 [==============================] - 0s 4ms/step - loss: 0.1357 - accuracy: 0.9606\n",
      "Epoch 10/100\n",
      "59/59 [==============================] - 0s 4ms/step - loss: 0.1249 - accuracy: 0.9635\n",
      "Epoch 11/100\n",
      "59/59 [==============================] - 0s 4ms/step - loss: 0.1174 - accuracy: 0.9660\n",
      "Epoch 12/100\n",
      "59/59 [==============================] - 0s 3ms/step - loss: 0.1087 - accuracy: 0.9679\n",
      "Epoch 13/100\n",
      "59/59 [==============================] - 0s 4ms/step - loss: 0.1030 - accuracy: 0.9694\n",
      "Epoch 14/100\n",
      "59/59 [==============================] - 0s 4ms/step - loss: 0.0969 - accuracy: 0.9714\n",
      "Epoch 15/100\n",
      "59/59 [==============================] - 0s 4ms/step - loss: 0.0908 - accuracy: 0.9728\n",
      "Epoch 16/100\n",
      "59/59 [==============================] - 0s 4ms/step - loss: 0.0870 - accuracy: 0.9736\n",
      "Epoch 17/100\n",
      "59/59 [==============================] - 0s 4ms/step - loss: 0.0825 - accuracy: 0.9742\n",
      "Epoch 18/100\n",
      "59/59 [==============================] - 0s 3ms/step - loss: 0.0785 - accuracy: 0.9755\n",
      "Epoch 19/100\n",
      "59/59 [==============================] - 0s 4ms/step - loss: 0.0743 - accuracy: 0.9770\n",
      "Epoch 20/100\n",
      "59/59 [==============================] - 0s 4ms/step - loss: 0.0716 - accuracy: 0.9777\n",
      "Epoch 21/100\n",
      "59/59 [==============================] - 0s 4ms/step - loss: 0.0688 - accuracy: 0.9789\n",
      "Epoch 22/100\n",
      "59/59 [==============================] - 0s 4ms/step - loss: 0.0671 - accuracy: 0.9793\n",
      "Epoch 23/100\n",
      "59/59 [==============================] - 0s 4ms/step - loss: 0.0629 - accuracy: 0.9811\n",
      "Epoch 24/100\n",
      "59/59 [==============================] - 0s 4ms/step - loss: 0.0608 - accuracy: 0.9809\n",
      "Epoch 25/100\n",
      "59/59 [==============================] - 0s 4ms/step - loss: 0.0587 - accuracy: 0.9819\n",
      "Epoch 26/100\n",
      "59/59 [==============================] - 0s 4ms/step - loss: 0.0567 - accuracy: 0.9817\n",
      "Epoch 27/100\n",
      "59/59 [==============================] - 0s 3ms/step - loss: 0.0533 - accuracy: 0.9833\n",
      "Epoch 28/100\n",
      "59/59 [==============================] - 0s 4ms/step - loss: 0.0510 - accuracy: 0.9840\n",
      "Epoch 29/100\n",
      "59/59 [==============================] - 0s 4ms/step - loss: 0.0497 - accuracy: 0.9844\n",
      "Epoch 30/100\n",
      "59/59 [==============================] - 0s 4ms/step - loss: 0.0469 - accuracy: 0.9851\n",
      "Epoch 31/100\n",
      "59/59 [==============================] - 0s 3ms/step - loss: 0.0474 - accuracy: 0.9851\n",
      "Epoch 32/100\n",
      "59/59 [==============================] - 0s 3ms/step - loss: 0.0443 - accuracy: 0.9854\n",
      "Epoch 33/100\n",
      "59/59 [==============================] - 0s 4ms/step - loss: 0.0449 - accuracy: 0.9859\n",
      "Epoch 34/100\n",
      "59/59 [==============================] - 0s 4ms/step - loss: 0.0421 - accuracy: 0.9866\n",
      "Epoch 35/100\n",
      "59/59 [==============================] - 0s 3ms/step - loss: 0.0410 - accuracy: 0.9869\n",
      "Epoch 36/100\n",
      "59/59 [==============================] - 0s 4ms/step - loss: 0.0389 - accuracy: 0.9879\n",
      "Epoch 37/100\n",
      "59/59 [==============================] - 0s 4ms/step - loss: 0.0391 - accuracy: 0.9876\n",
      "Epoch 38/100\n",
      "59/59 [==============================] - 0s 3ms/step - loss: 0.0376 - accuracy: 0.9882\n",
      "Epoch 39/100\n",
      "59/59 [==============================] - 0s 3ms/step - loss: 0.0358 - accuracy: 0.9882\n",
      "Epoch 40/100\n",
      "59/59 [==============================] - 0s 4ms/step - loss: 0.0369 - accuracy: 0.9880\n",
      "Epoch 41/100\n",
      "59/59 [==============================] - 0s 4ms/step - loss: 0.0345 - accuracy: 0.9885\n",
      "Epoch 42/100\n",
      "59/59 [==============================] - 0s 4ms/step - loss: 0.0323 - accuracy: 0.9894\n",
      "Epoch 43/100\n",
      "59/59 [==============================] - 0s 4ms/step - loss: 0.0330 - accuracy: 0.9896\n",
      "Epoch 44/100\n",
      "59/59 [==============================] - 0s 4ms/step - loss: 0.0333 - accuracy: 0.9893\n",
      "Epoch 45/100\n",
      "59/59 [==============================] - 0s 3ms/step - loss: 0.0305 - accuracy: 0.9904\n",
      "Epoch 46/100\n",
      "59/59 [==============================] - 0s 4ms/step - loss: 0.0303 - accuracy: 0.9904\n",
      "Epoch 47/100\n",
      "59/59 [==============================] - 0s 4ms/step - loss: 0.0307 - accuracy: 0.9901\n",
      "Epoch 48/100\n",
      "59/59 [==============================] - 0s 4ms/step - loss: 0.0293 - accuracy: 0.9909\n",
      "Epoch 49/100\n",
      "59/59 [==============================] - 0s 4ms/step - loss: 0.0290 - accuracy: 0.9908\n",
      "Epoch 50/100\n",
      "59/59 [==============================] - 0s 4ms/step - loss: 0.0282 - accuracy: 0.9912\n",
      "Epoch 51/100\n",
      "59/59 [==============================] - 0s 4ms/step - loss: 0.0264 - accuracy: 0.9912\n",
      "Epoch 52/100\n",
      "59/59 [==============================] - 0s 4ms/step - loss: 0.0259 - accuracy: 0.9916\n",
      "Epoch 53/100\n",
      "59/59 [==============================] - 0s 4ms/step - loss: 0.0253 - accuracy: 0.9918\n",
      "Epoch 54/100\n",
      "59/59 [==============================] - 0s 4ms/step - loss: 0.0263 - accuracy: 0.9912\n",
      "Epoch 55/100\n",
      "59/59 [==============================] - 0s 4ms/step - loss: 0.0249 - accuracy: 0.9918\n",
      "Epoch 56/100\n",
      "59/59 [==============================] - 0s 4ms/step - loss: 0.0242 - accuracy: 0.9923\n",
      "Epoch 57/100\n",
      "59/59 [==============================] - 0s 4ms/step - loss: 0.0250 - accuracy: 0.9915\n",
      "Epoch 58/100\n",
      "59/59 [==============================] - 0s 4ms/step - loss: 0.0233 - accuracy: 0.9924\n",
      "Epoch 59/100\n",
      "59/59 [==============================] - 0s 3ms/step - loss: 0.0236 - accuracy: 0.9921\n",
      "Epoch 60/100\n",
      "59/59 [==============================] - 0s 4ms/step - loss: 0.0209 - accuracy: 0.9935\n",
      "Epoch 61/100\n",
      "59/59 [==============================] - 0s 4ms/step - loss: 0.0214 - accuracy: 0.9928\n",
      "Epoch 62/100\n",
      "59/59 [==============================] - 0s 4ms/step - loss: 0.0208 - accuracy: 0.9930\n",
      "Epoch 63/100\n",
      "59/59 [==============================] - 0s 4ms/step - loss: 0.0220 - accuracy: 0.9927\n",
      "Epoch 64/100\n",
      "59/59 [==============================] - 0s 4ms/step - loss: 0.0213 - accuracy: 0.9927\n",
      "Epoch 65/100\n",
      "59/59 [==============================] - 0s 4ms/step - loss: 0.0202 - accuracy: 0.9931\n",
      "Epoch 66/100\n",
      "59/59 [==============================] - 0s 4ms/step - loss: 0.0207 - accuracy: 0.9930\n",
      "Epoch 67/100\n",
      "59/59 [==============================] - 0s 4ms/step - loss: 0.0201 - accuracy: 0.9931\n",
      "Epoch 68/100\n",
      "59/59 [==============================] - 0s 4ms/step - loss: 0.0188 - accuracy: 0.9937\n",
      "Epoch 69/100\n",
      "59/59 [==============================] - 0s 4ms/step - loss: 0.0200 - accuracy: 0.9934\n",
      "Epoch 70/100\n",
      "59/59 [==============================] - 0s 4ms/step - loss: 0.0190 - accuracy: 0.9936\n",
      "Epoch 71/100\n",
      "59/59 [==============================] - 0s 4ms/step - loss: 0.0190 - accuracy: 0.9935\n",
      "Epoch 72/100\n",
      "59/59 [==============================] - 0s 4ms/step - loss: 0.0177 - accuracy: 0.9939\n",
      "Epoch 73/100\n",
      "59/59 [==============================] - 0s 4ms/step - loss: 0.0185 - accuracy: 0.9942\n",
      "Epoch 74/100\n",
      "59/59 [==============================] - 0s 4ms/step - loss: 0.0171 - accuracy: 0.9944\n",
      "Epoch 75/100\n",
      "59/59 [==============================] - 0s 4ms/step - loss: 0.0183 - accuracy: 0.9938\n",
      "Epoch 76/100\n",
      "59/59 [==============================] - 0s 4ms/step - loss: 0.0183 - accuracy: 0.9938\n",
      "Epoch 77/100\n",
      "59/59 [==============================] - 0s 4ms/step - loss: 0.0164 - accuracy: 0.9945\n",
      "Epoch 78/100\n",
      "59/59 [==============================] - 0s 4ms/step - loss: 0.0163 - accuracy: 0.9944\n",
      "Epoch 79/100\n",
      "59/59 [==============================] - 0s 4ms/step - loss: 0.0183 - accuracy: 0.9938\n",
      "Epoch 80/100\n",
      "59/59 [==============================] - 0s 4ms/step - loss: 0.0157 - accuracy: 0.9946\n",
      "Epoch 81/100\n",
      "59/59 [==============================] - 0s 4ms/step - loss: 0.0161 - accuracy: 0.9947\n",
      "Epoch 82/100\n",
      "59/59 [==============================] - 0s 4ms/step - loss: 0.0170 - accuracy: 0.9942\n",
      "Epoch 83/100\n",
      "59/59 [==============================] - 0s 3ms/step - loss: 0.0157 - accuracy: 0.9948\n",
      "Epoch 84/100\n",
      "59/59 [==============================] - 0s 4ms/step - loss: 0.0158 - accuracy: 0.9948\n",
      "Epoch 85/100\n",
      "59/59 [==============================] - 0s 4ms/step - loss: 0.0157 - accuracy: 0.9947\n",
      "Epoch 86/100\n",
      "59/59 [==============================] - 0s 4ms/step - loss: 0.0158 - accuracy: 0.9946\n",
      "Epoch 87/100\n",
      "59/59 [==============================] - 0s 4ms/step - loss: 0.0141 - accuracy: 0.9952\n",
      "Epoch 88/100\n",
      "59/59 [==============================] - 0s 4ms/step - loss: 0.0145 - accuracy: 0.9951\n",
      "Epoch 89/100\n",
      "59/59 [==============================] - 0s 4ms/step - loss: 0.0158 - accuracy: 0.9946\n",
      "Epoch 90/100\n",
      "59/59 [==============================] - 0s 4ms/step - loss: 0.0138 - accuracy: 0.9955\n",
      "Epoch 91/100\n",
      "59/59 [==============================] - 0s 4ms/step - loss: 0.0145 - accuracy: 0.9952\n",
      "Epoch 92/100\n",
      "59/59 [==============================] - 0s 4ms/step - loss: 0.0155 - accuracy: 0.9948\n",
      "Epoch 93/100\n",
      "59/59 [==============================] - 0s 4ms/step - loss: 0.0135 - accuracy: 0.9954\n",
      "Epoch 94/100\n",
      "59/59 [==============================] - 0s 4ms/step - loss: 0.0135 - accuracy: 0.9953\n",
      "Epoch 95/100\n",
      "59/59 [==============================] - 0s 4ms/step - loss: 0.0145 - accuracy: 0.9954\n",
      "Epoch 96/100\n",
      "59/59 [==============================] - 0s 4ms/step - loss: 0.0132 - accuracy: 0.9956\n",
      "Epoch 97/100\n",
      "59/59 [==============================] - 0s 4ms/step - loss: 0.0134 - accuracy: 0.9957\n",
      "Epoch 98/100\n",
      "59/59 [==============================] - 0s 4ms/step - loss: 0.0134 - accuracy: 0.9957\n",
      "Epoch 99/100\n",
      "59/59 [==============================] - 0s 4ms/step - loss: 0.0130 - accuracy: 0.9959\n",
      "Epoch 100/100\n",
      "59/59 [==============================] - 0s 4ms/step - loss: 0.0129 - accuracy: 0.9957\n"
     ]
    }
   ],
   "source": [
    "history = model.fit(train_x,train_y,epochs=100,batch_size=1024)"
   ]
  },
  {
   "cell_type": "code",
   "execution_count": 15,
   "id": "2b81746a-a415-4847-86bc-18b6e61488e0",
   "metadata": {},
   "outputs": [
    {
     "data": {
      "image/png": "[encoded data removed]",
      "text/plain": [
       "<Figure size 500x400 with 2 Axes>"
      ]
     },
     "metadata": {},
     "output_type": "display_data"
    }
   ],
   "source": [
    "#list the number of epoch from the history object\n",
    "x_values=np.arange(len(history.history[\"loss\"]))\n",
    "\n",
    "fig,ax1 = plt.subplots(figsize=(5,4))\n",
    "fig.suptitle(\"Graph of Loss and Accuracy by Epochs\",fontsize=20)\n",
    "ax1.set_xlabel(\"Epochs\")\n",
    "\n",
    "ax1.set_ylabel(\"Loss\",color=\"black\",fontsize=14)\n",
    "plot_1=ax1.plot(x_values,history.history[\"loss\"],label=\"Loss\")\n",
    "ax1.tick_params(axis=\"y\",labelcolor=\"black\")\n",
    "\n",
    "#adding twin axes\n",
    "\n",
    "ax2 = ax1.twinx()\n",
    "ax2.set_ylabel(\"Accuracy\",color=\"red\",fontsize=14)\n",
    "plot_2=ax2.plot(x_values,history.history[\"accuracy\"],label=\"Loss\",color=\"red\")\n",
    "ax2.tick_params(axis=\"y\",labelcolor=\"red\")\n",
    "\n",
    "plt.show()"
   ]
  },
  {
   "cell_type": "code",
   "execution_count": 16,
   "id": "ebc7bd06-e6d1-4d8b-855f-883050c45998",
   "metadata": {},
   "outputs": [
    {
     "name": "stdout",
     "output_type": "stream",
     "text": [
      "\n",
      "Test accuracy: 97.97999858856201 %\n"
     ]
    }
   ],
   "source": [
    "test_loss,test_acc=model.evaluate(test_x,test_y,verbose=3)\n",
    "\n",
    "print(\"\\nTest accuracy:\",test_acc*100,\"%\")"
   ]
  },
  {
   "cell_type": "markdown",
   "id": "0b6f990a-5bed-46f0-8773-57ca223969af",
   "metadata": {},
   "source": [
    "## Predictions"
   ]
  },
  {
   "cell_type": "markdown",
   "id": "db2b5253-70f9-453b-a4b3-9b8dc4e555f1",
   "metadata": {},
   "source": [
    "#28x28 images"
   ]
  },
  {
   "cell_type": "code",
   "execution_count": 17,
   "id": "7042ebc3-bcc6-476c-bfca-5f25fa84210d",
   "metadata": {},
   "outputs": [
    {
     "name": "stdout",
     "output_type": "stream",
     "text": [
      "313/313 [==============================] - 0s 793us/step\n"
     ]
    }
   ],
   "source": [
    "predictions = model.predict(test_x)"
   ]
  },
  {
   "cell_type": "code",
   "execution_count": 18,
   "id": "df8fbd67-e157-44a9-8282-b9304e70b621",
   "metadata": {},
   "outputs": [
    {
     "data": {
      "text/plain": [
       "array([2.6936222e-08, 1.7403623e-14, 7.1975342e-07, 1.5363073e-06,\n",
       "       5.0792657e-18, 7.5921547e-11, 2.7649221e-18, 9.9999279e-01,\n",
       "       4.7733506e-10, 4.8899460e-06], dtype=float32)"
      ]
     },
     "execution_count": 18,
     "metadata": {},
     "output_type": "execute_result"
    }
   ],
   "source": [
    "predictions[0]"
   ]
  },
  {
   "cell_type": "code",
   "execution_count": 19,
   "id": "b658020b-2f0c-4fe7-afd7-eb0959171f2b",
   "metadata": {},
   "outputs": [
    {
     "data": {
      "text/plain": [
       "7"
      ]
     },
     "execution_count": 19,
     "metadata": {},
     "output_type": "execute_result"
    }
   ],
   "source": [
    "test_y[0]"
   ]
  },
  {
   "cell_type": "code",
   "execution_count": 20,
   "id": "a64c8548-ab09-4dc9-87ce-31459ece8bdd",
   "metadata": {},
   "outputs": [
    {
     "data": {
      "text/plain": [
       "7"
      ]
     },
     "execution_count": 20,
     "metadata": {},
     "output_type": "execute_result"
    }
   ],
   "source": [
    "predictions[0].argmax()"
   ]
  },
  {
   "cell_type": "code",
   "execution_count": 21,
   "id": "e378e8bf-fc18-4d99-b56d-bcb0d5675bce",
   "metadata": {},
   "outputs": [
    {
     "data": {
      "text/plain": [
       "0.9798"
      ]
     },
     "execution_count": 21,
     "metadata": {},
     "output_type": "execute_result"
    }
   ],
   "source": [
    "wrong = []\n",
    "for i in range(len(predictions)):\n",
    "    if predictions[i].argmax() != test_y[i]:\n",
    "        wrong.append(i)\n",
    "\n",
    "(10000-len(wrong))/10000"
   ]
  },
  {
   "cell_type": "code",
   "execution_count": 22,
   "id": "15c1a677-5da9-433f-99af-6e8adc434fde",
   "metadata": {},
   "outputs": [
    {
     "name": "stdout",
     "output_type": "stream",
     "text": [
      "[247, 321, 445, 447, 495, 582, 619, 684, 691, 720, 844, 947, 951, 956, 965, 1014, 1039, 1044, 1050, 1112, 1114, 1156, 1182, 1226, 1232, 1242, 1247, 1260, 1289, 1319, 1328, 1393, 1494, 1500, 1522, 1530, 1549, 1554, 1609, 1621, 1681, 1709, 1717, 1737, 1754, 1790, 1828, 1878, 1901, 1941, 2004, 2035, 2043, 2053, 2109, 2118, 2135, 2182, 2185, 2224, 2272, 2293, 2326, 2329, 2369, 2387, 2406, 2422, 2462, 2488, 2610, 2648, 2654, 2720, 2730, 2742, 2810, 2877, 2896, 2915, 2927, 2930, 2939, 2953, 2970, 3005, 3073, 3117, 3225, 3289, 3503, 3520, 3549, 3558, 3559, 3567, 3597, 3604, 3751, 3776, 3780, 3796, 3808, 3838, 3853, 3869, 3902, 3906, 3941, 3943, 3951, 3976, 4027, 4065, 4075, 4078, 4156, 4176, 4199, 4201, 4205, 4248, 4269, 4289, 4360, 4419, 4425, 4477, 4497, 4500, 4504, 4536, 4547, 4575, 4601, 4639, 4731, 4740, 4751, 4761, 4783, 4807, 4823, 4833, 4880, 4890, 4950, 4956, 4966, 5078, 5140, 5331, 5457, 5642, 5676, 5749, 5842, 5887, 5936, 5955, 5973, 6011, 6023, 6045, 6059, 6166, 6555, 6559, 6571, 6574, 6597, 6598, 6625, 6651, 6783, 6847, 7434, 8020, 8325, 8522, 9009, 9015, 9024, 9280, 9422, 9587, 9634, 9642, 9664, 9669, 9679, 9692, 9700, 9729, 9745, 9749, 9755, 9768, 9770, 9808, 9839, 9858]\n"
     ]
    }
   ],
   "source": [
    "print(wrong)"
   ]
  },
  {
   "cell_type": "code",
   "execution_count": 23,
   "id": "90c091d8-61e7-48ff-94c5-fc2851630097",
   "metadata": {},
   "outputs": [
    {
     "data": {
      "image/png": "[encoded data removed]",
      "text/plain": [
       "<Figure size 400x400 with 1 Axes>"
      ]
     },
     "metadata": {},
     "output_type": "display_data"
    }
   ],
   "source": [
    "n=8\n",
    "predict=[]\n",
    "predict.append(predictions[n].argmax())\n",
    "imgs = []\n",
    "imgs.append(test_x[n])\n",
    "graphit(imgs,predict,1,1,0,zoom=4)"
   ]
  },
  {
   "cell_type": "code",
   "execution_count": 24,
   "id": "922ab72d-7d98-4655-83e0-db88eee077e7",
   "metadata": {},
   "outputs": [],
   "source": [
    "# Build data to graph the wrong ones"
   ]
  },
  {
   "cell_type": "code",
   "execution_count": 25,
   "id": "2f1d02fa-e84b-4d18-9a2a-2a77a9f1dfc6",
   "metadata": {},
   "outputs": [],
   "source": [
    "imgs,labels,predicts=[],[],[]\n",
    "for i in range(25):\n",
    "    imgs.append(test_x[wrong[i]])\n",
    "    labels.append(test_y[wrong[i]])\n",
    "    predicts.append(predictions[i].argmax())\n",
    "\n",
    "\n",
    "#predict.append(predictions[n].argmax())\n",
    "#imgs = []\n",
    "#imgs.append(test_x[n])"
   ]
  },
  {
   "cell_type": "code",
   "execution_count": 26,
   "id": "becde470-6efa-484e-b21e-5fbfda0adc80",
   "metadata": {},
   "outputs": [],
   "source": [
    "# graphit(the data to graph, the answers, # of rows of graph grid, # of cols of graph grid, where to start in the data, size of graph)\n",
    "def graph_predictions(images, labels, predictions, rows=1, cols=1, start=0, zoom=2):\n",
    "   #The number of images we have to graph\n",
    "  n_images = rows * cols\n",
    "    #Make a graph the correct size\n",
    "  fig, ax = plt.subplots(rows,cols,figsize=(cols * zoom, rows * zoom))\n",
    "    # For every graph we need to make\n",
    "  for n in range(n_images):\n",
    "    plt.subplot(rows, cols, n+1)\n",
    "    plt.xticks([])\n",
    "    plt.yticks([])\n",
    "    plt.grid(False)\n",
    "    plt.imshow(images[n+start], cmap=plt.cm.binary)\n",
    "    # plt.imshow(images[n])\n",
    "    plt.xlabel(\"[\" + str(n+start) + \"] is a : \" + str(labels[n+start]) + \" looks like : \" + str(predictions[n+start]))\n",
    "  plt.show()"
   ]
  },
  {
   "cell_type": "code",
   "execution_count": 27,
   "id": "bad80a5f-7f9d-462e-aa2c-a1ff86d80558",
   "metadata": {},
   "outputs": [
    {
     "data": {
      "image/png": "[encoded data removed]",
      "text/plain": [
       "<Figure size 1500x1500 with 25 Axes>"
      ]
     },
     "metadata": {},
     "output_type": "display_data"
    }
   ],
   "source": [
    "graph_predictions(imgs,labels,predicts,5,5,0,zoom=3)"
   ]
  },
  {
   "cell_type": "markdown",
   "id": "dd418a68-9160-4488-8f2e-7f0cd8cb4155",
   "metadata": {},
   "source": [
    "## Save the model"
   ]
  },
  {
   "cell_type": "code",
   "execution_count": 28,
   "id": "2c49f781-f6cf-4626-82c0-b91b6ee94227",
   "metadata": {},
   "outputs": [],
   "source": [
    "model.save(\"HandWriting_model.keras\")"
   ]
  }
 ],
 "metadata": {
  "kernelspec": {
   "display_name": "Python 3 (ipykernel)",
   "language": "python",
   "name": "python3"
  },
  "language_info": {
   "codemirror_mode": {
    "name": "ipython",
    "version": 3
   },
   "file_extension": ".py",
   "mimetype": "text/x-python",
   "name": "python",
   "nbconvert_exporter": "python",
   "pygments_lexer": "ipython3",
   "version": "3.10.12"
  }
 },
 "nbformat": 4,
 "nbformat_minor": 5
}
